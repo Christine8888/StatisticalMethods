{
 "cells": [
  {
   "cell_type": "markdown",
   "metadata": {},
   "source": [
    "# A Period-Luminosity Relation in Cepheid Stars"
   ]
  },
  {
   "cell_type": "markdown",
   "metadata": {},
   "source": [
    "Activity: think-pair-share the derivation of the straight line likelihood, having just seen the XrayImage one.\n",
    "\n",
    "PDF characterisation in data analysis: analytic, or simple gridding/tabulation. Straight line example. Posterior inferences as integrals. Marginalisation. Extensible for homework.\n",
    "\n",
    "Visualize and summarize PDFs in various ways. Point estimates, credible intervals, and their meaning. Delta chisq. Corner plots."
   ]
  },
  {
   "cell_type": "code",
   "execution_count": null,
   "metadata": {
    "collapsed": true
   },
   "outputs": [],
   "source": []
  }
 ],
 "metadata": {
  "kernelspec": {
   "display_name": "Python 2",
   "language": "python",
   "name": "python2"
  },
  "language_info": {
   "codemirror_mode": {
    "name": "ipython",
    "version": 2
   },
   "file_extension": ".py",
   "mimetype": "text/x-python",
   "name": "python",
   "nbconvert_exporter": "python",
   "pygments_lexer": "ipython2",
   "version": "2.7.10"
  }
 },
 "nbformat": 4,
 "nbformat_minor": 0
}
