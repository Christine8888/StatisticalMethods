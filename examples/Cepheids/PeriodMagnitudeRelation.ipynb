{
 "cells": [
  {
   "cell_type": "markdown",
   "metadata": {},
   "source": [
    "# A Period - Magnitude Relation in Cepheid Stars\n",
    "\n",
    "* Cepheids are stars whose brightness oscillates with a stable period that appears to be strongly correlated with their luminosity (or absolute magnitude).\n",
    "\n",
    "\n",
    "* A lot of _monitoring_ data - repeated imaging and subsequent \"photometry\" of the star - can provide a measurement of the absolute magnitude (if we know the distance to it's host galaxy) and the period of the oscillation.\n",
    "\n",
    "\n",
    "* Let's look at some Cepheid measurements reported by [Riess et al (2011)](Riess et al., 2011, ApJ, 730, 119).  Like the correlation function summaries, they are in the form of datapoints with error bars, where it is not clear how those error bars were derived (or what they mean).\n",
    "\n",
    "\n",
    "* Our goal is to infer the parameters of a simple relationship between Cepheid period and, in the first instance, apparent magnitude."
   ]
  },
  {
   "cell_type": "code",
   "execution_count": null,
   "metadata": {
    "collapsed": false
   },
   "outputs": [],
   "source": [
    "from __future__ import print_function\n",
    "import numpy as np\n",
    "import matplotlib.pyplot as plt\n",
    "%matplotlib inline\n",
    "plt.rcParams['figure.figsize'] = (15.0, 8.0) "
   ]
  },
  {
   "cell_type": "markdown",
   "metadata": {},
   "source": [
    "## A Look at Each Host Galaxy's Cepheids\n",
    "\n",
    "Let's read in all the data, and look at each galaxy's Cepheid measurements separately. Instead of using `pandas`, we'll write our own simple data structure, and give it a custom plotting method so we can compare the different host galaxies' datasets."
   ]
  },
  {
   "cell_type": "code",
   "execution_count": null,
   "metadata": {
    "collapsed": false
   },
   "outputs": [],
   "source": [
    "# First, we need to know what's in the data file.\n",
    "\n",
    "!head -15 R11ceph.dat"
   ]
  },
  {
   "cell_type": "code",
   "execution_count": null,
   "metadata": {
    "collapsed": false
   },
   "outputs": [],
   "source": [
    "class Cepheids(object):\n",
    "    \n",
    "    def __init__(self,filename):\n",
    "        # Read in the data and store it in this master array:\n",
    "        self.data = np.loadtxt(filename)\n",
    "        self.hosts = self.data[:,1].astype('int').astype('str')\n",
    "        # We'll need the plotting setup to be the same each time we make a plot:\n",
    "        colornames = ['red','orange','yellow','green','cyan','blue','violet','magenta','gray']\n",
    "        self.colors = dict(zip(self.list_hosts(), colornames))\n",
    "        self.xlimits = np.array([0.3,2.3])\n",
    "        self.ylimits = np.array([30.0,17.0])\n",
    "        return\n",
    "    \n",
    "    def list_hosts(self):\n",
    "        # The list of (9) unique galaxy host names:\n",
    "        return np.unique(self.hosts)\n",
    "    \n",
    "    def select(self,ID):\n",
    "        # Pull out one galaxy's data from the master array:\n",
    "        index = (self.hosts == str(ID))\n",
    "        self.m = self.data[index,2]\n",
    "        self.merr = self.data[index,3]\n",
    "        self.logP = np.log10(self.data[index,4])\n",
    "        return\n",
    "    \n",
    "    def plot(self,X):\n",
    "        # Plot all the points in the dataset for host galaxy X.\n",
    "        ID = str(X)\n",
    "        self.select(ID)\n",
    "        plt.rc('xtick', labelsize=16) \n",
    "        plt.rc('ytick', labelsize=16)\n",
    "        plt.errorbar(self.logP, self.m, yerr=self.merr, fmt='.', ms=7, lw=1, color=self.colors[ID], label='NGC'+ID)\n",
    "        plt.xlabel('$\\\\log_{10} P / {\\\\rm days}$',fontsize=20)\n",
    "        plt.ylabel('${\\\\rm magnitude (AB)}$',fontsize=20)\n",
    "        plt.xlim(self.xlimits)\n",
    "        plt.ylim(self.ylimits)\n",
    "        plt.title('Cepheid Period-Luminosity (Riess et al 2011)',fontsize=20)\n",
    "        return\n",
    "\n",
    "    def overlay_straight_line_with(self,m=0.0,c=24.0):\n",
    "        # Overlay a straight line with gradient m and intercept c.\n",
    "        x = self.xlimits\n",
    "        y = m*x + c\n",
    "        plt.plot(x, y, 'k-', alpha=0.5, lw=2)\n",
    "        plt.xlim(self.xlimits)\n",
    "        plt.ylim(self.ylimits)\n",
    "        return\n",
    "    \n",
    "    def add_legend(self):\n",
    "        plt.legend(loc='upper left')\n",
    "        return\n"
   ]
  },
  {
   "cell_type": "code",
   "execution_count": null,
   "metadata": {
    "collapsed": false
   },
   "outputs": [],
   "source": [
    "data = Cepheids('R11ceph.dat')\n",
    "print(data.colors)"
   ]
  },
  {
   "cell_type": "markdown",
   "metadata": {},
   "source": [
    "OK, now we are all set up! Let's plot one of the datasets."
   ]
  },
  {
   "cell_type": "code",
   "execution_count": null,
   "metadata": {
    "collapsed": false
   },
   "outputs": [],
   "source": [
    "data.plot(4258)\n",
    "\n",
    "# for ID in data.list_hosts():\n",
    "#     data.plot(ID)\n",
    "    \n",
    "data.overlay_straight_line_with(m=-2.0,c=24.0)\n",
    "\n",
    "data.add_legend()"
   ]
  },
  {
   "cell_type": "markdown",
   "metadata": {
    "collapsed": false
   },
   "source": [
    "### Q: Is the Cepheid Period-Luminosity relation likely to be well-modeled by a power law ?\n",
    "\n",
    "With your neighbor, try plotting up the different host galaxy's cepheid datasets. Can you find straight lines that \"fit\" all the data from each host? And do you get the same \"fit\" for each host? Notice that you can plot multiple datasets on the same axes.  "
   ]
  },
  {
   "cell_type": "markdown",
   "metadata": {},
   "source": [
    "## Inferring the Period-Magnitude Relation\n",
    "\n",
    "* Let's try inferring the parameters $a$ and $b$ of the following linear relation:\n",
    "\n",
    "$m = a\\;\\log_{10} P + b$\n",
    "\n",
    "* We have data consisting of *observed magnitudes with quoted uncertainties*, of the form \n",
    "\n",
    "$m_{\\rm obs} = 24.51 \\pm 0.31$ at $\\log_{10} P = \\log_{10} (13.0/{\\rm days})$\n",
    "\n",
    "* Let's draw the PGM together, on the whiteboard."
   ]
  },
  {
   "cell_type": "markdown",
   "metadata": {},
   "source": [
    "### Q: What is the PDF for $m$, ${\\rm Pr}(m|a,b,H)$?\n",
    "\n",
    "### Q: What are reasonable assumptions about the sampling distribution ${\\rm Pr}(m_{\\rm obs}|m,H)$?\n",
    "\n",
    "### Q: What are reasonable assumptions about the prior ${\\rm Pr}(a,b|H)$?"
   ]
  },
  {
   "cell_type": "markdown",
   "metadata": {},
   "source": [
    "We should now be able to code up functions for the log likelihood, log prior and log posterior, such that we can evaluate them on a 2D parameter grid. Let's fill them in:"
   ]
  },
  {
   "cell_type": "code",
   "execution_count": null,
   "metadata": {
    "collapsed": false
   },
   "outputs": [],
   "source": [
    "def log_likelihood(logP,m,merr,a,b):\n",
    "    return 0.0 # np.sum()? \n",
    "\n",
    "def log_prior(a,b):\n",
    "    return 0.0 # Ranges? Functions?\n",
    "\n",
    "def log_posterior(logP,m,merr,a,b):\n",
    "    return log_likelihood(logP,m,merr,a,b) + log_prior(a,b)"
   ]
  },
  {
   "cell_type": "markdown",
   "metadata": {},
   "source": [
    "Now, let's set up a suitable parameter grid and compute the posterior PDF!"
   ]
  },
  {
   "cell_type": "code",
   "execution_count": null,
   "metadata": {
    "collapsed": false
   },
   "outputs": [],
   "source": [
    "# Select a Cepheid dataset:\n",
    "data.select(4258)\n",
    "\n",
    "# Set up parameter grids:\n",
    "npix = 100\n",
    "amin,amax = -5.0,0.0\n",
    "bmin,bmax = 18.0,27.0\n",
    "agrid = np.linspace(amin,amax,npix)\n",
    "bgrid = np.linspace(bmin,bmax,npix)\n",
    "logprob = np.zeros([npix,npix])\n",
    "\n",
    "# Loop over parameters, computing unnormlized log posterior PDF:\n",
    "for i,a in enumerate(agrid):\n",
    "    for j,b in enumerate(bgrid):\n",
    "        logprob[j,i] = log_posterior(data.logP,data.m,data.merr,a,b)\n",
    "\n",
    "# Normalize and exponentiate to get posterior density:\n",
    "Z = np.max(logprob)\n",
    "prob = np.exp(logprob - Z)\n",
    "norm = np.sum(prob)\n",
    "prob /= norm"
   ]
  },
  {
   "cell_type": "markdown",
   "metadata": {},
   "source": [
    "Now, plot, with confidence contours:"
   ]
  },
  {
   "cell_type": "code",
   "execution_count": null,
   "metadata": {
    "collapsed": false
   },
   "outputs": [],
   "source": [
    "sorted = np.sort(prob.flatten())\n",
    "C = sorted.cumsum()\n",
    "\n",
    "# Find the pixel values that lie at the levels that contain\n",
    "# 68% and 95% of the probability:\n",
    "lvl68 = np.min(sorted[C > (1.0 - 0.68)])\n",
    "lvl95 = np.min(sorted[C > (1.0 - 0.95)])\n",
    "\n",
    "plt.imshow(prob, origin='lower', cmap='Blues', interpolation='none', extent=[amin,amax,bmin,bmax])\n",
    "plt.contour(prob,[lvl68,lvl95],colors='black',extent=[amin,amax,bmin,bmax])\n",
    "plt.xlabel('slope a')\n",
    "plt.ylabel('intercept b / AB magnitudes')"
   ]
  },
  {
   "cell_type": "code",
   "execution_count": null,
   "metadata": {
    "collapsed": true
   },
   "outputs": [],
   "source": []
  }
 ],
 "metadata": {
  "kernelspec": {
   "display_name": "Python 2",
   "language": "python",
   "name": "python2"
  },
  "language_info": {
   "codemirror_mode": {
    "name": "ipython",
    "version": 2
   },
   "file_extension": ".py",
   "mimetype": "text/x-python",
   "name": "python",
   "nbconvert_exporter": "python",
   "pygments_lexer": "ipython2",
   "version": "2.7.10"
  }
 },
 "nbformat": 4,
 "nbformat_minor": 0
}
