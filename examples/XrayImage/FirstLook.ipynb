{
 "cells": [
  {
   "cell_type": "markdown",
   "metadata": {},
   "source": [
    "# A First Look at an X-ray Image Dataset"
   ]
  },
  {
   "cell_type": "markdown",
   "metadata": {},
   "source": [
    "Images are data. They can be 2D, from cameras, or 1D, from spectrographs, or 3D, from IFUs (integral field units). In each case, the data come packaged as an *array* of numbers, which we can visualize, and do calculations with.\n",
    "\n",
    "Let's suppose we are interested in clusters of galaxies. We choose one, Abell 1835, and propose to observe it with the XMM-Newton space telescope. We are successful, we design the observations, and they are taken for us. Next: we download the data, and take a look at it."
   ]
  },
  {
   "cell_type": "markdown",
   "metadata": {},
   "source": [
    "## Getting the Data \n",
    "\n",
    "We will download our images from HEASARC, the online archive where XMM data are stored. "
   ]
  },
  {
   "cell_type": "code",
   "execution_count": null,
   "metadata": {
    "collapsed": false
   },
   "outputs": [],
   "source": [
    "import astropy.io.fits as pyfits\n",
    "import numpy as np\n",
    "import os\n",
    "import urllib\n",
    "import astropy.visualization as viz\n",
    "import matplotlib.pyplot as plt\n",
    "%matplotlib inline\n",
    "plt.rcParams['figure.figsize'] = (10.0, 10.0)"
   ]
  },
  {
   "cell_type": "markdown",
   "metadata": {},
   "source": [
    "Download the example data files if we don't already have them."
   ]
  },
  {
   "cell_type": "code",
   "execution_count": null,
   "metadata": {
    "collapsed": false
   },
   "outputs": [],
   "source": [
    "targdir = 'a1835_xmm'\n",
    "if not os.path.isdir(targdir):\n",
    "    os.mkdir()\n",
    "\n",
    "filenames = ('P0098010101M2U009IMAGE_3000.FTZ', \n",
    "             'P0098010101M2U009EXPMAP3000.FTZ',\n",
    "             'P0098010101M2X000BKGMAP3000.FTZ')\n",
    "\n",
    "remotedir = 'http://heasarc.gsfc.nasa.gov/FTP/xmm/data/rev0/0098010101/PPS/'\n",
    "\n",
    "for filename in filenames:\n",
    "    path = os.path.join(targdir, filename)\n",
    "    url = os.path.join(remotedir, filename)\n",
    "    if not os.path.isfile(path):\n",
    "        urllib.urlretrieve(url, path)\n",
    "\n",
    "imagefile, expmapfile, bkgmapfile = [os.path.join(targdir, filename) for filename in filenames]\n",
    "        \n",
    "for filename in os.listdir(targdir):\n",
    "    print '{0:>10.2f} KB   {1}'.format(os.path.getsize(os.path.join(targdir, filename))/1024.0, filename)"
   ]
  },
  {
   "cell_type": "markdown",
   "metadata": {},
   "source": [
    "## The XMM MOS2 image\n",
    "\n",
    "Let's find the \"science\" image taken with the MOS2 camera, and display it."
   ]
  },
  {
   "cell_type": "code",
   "execution_count": null,
   "metadata": {
    "collapsed": false
   },
   "outputs": [],
   "source": [
    "imfits = pyfits.open(imagefile)\n",
    "imfits.info()"
   ]
  },
  {
   "cell_type": "markdown",
   "metadata": {},
   "source": [
    "`imfits` is a FITS object, containing multiple data structures. The image itself is an array of integer type, and size 648x648 pixels, stored in the primary \"header data unit\" or HDU. \n",
    "\n",
    "> _If we need it to be floating point for some reason, we need to cast it:\n",
    "im = imfits[0].data.astype('np.float32')\n",
    "Note that this (probably?) prevents us from using the pyfits \"writeto\" method to save any changes. Assuming the integer type is ok, just get a pointer to the image data._\n",
    "\n",
    "Accessing the `.data` member of the FITS object returns the image data as a numpy ndarray."
   ]
  },
  {
   "cell_type": "code",
   "execution_count": null,
   "metadata": {
    "collapsed": false
   },
   "outputs": [],
   "source": [
    "im = imfits[0].data"
   ]
  },
  {
   "cell_type": "markdown",
   "metadata": {
    "collapsed": true
   },
   "source": [
    "Let's look at this with `ds9`. "
   ]
  },
  {
   "cell_type": "code",
   "execution_count": null,
   "metadata": {
    "collapsed": false
   },
   "outputs": [],
   "source": [
    "!ds9 -log \"$imagefile\""
   ]
  },
  {
   "cell_type": "markdown",
   "metadata": {},
   "source": [
    "> _If you don't have the image viewing tool `ds9`, you should install it - it's very useful astronomical software. You can download it (later!) from [this webpage](http://ds9.si.edu/site/Download.html)._"
   ]
  },
  {
   "cell_type": "markdown",
   "metadata": {},
   "source": [
    "We can also display the image in the notebook: "
   ]
  },
  {
   "cell_type": "code",
   "execution_count": null,
   "metadata": {
    "collapsed": false
   },
   "outputs": [],
   "source": [
    "plt.imshow(viz.scale_image(im, scale='log', max_cut=40), cmap='gray', origin='lower');"
   ]
  },
  {
   "cell_type": "markdown",
   "metadata": {},
   "source": [
    "-----\n",
    "## Exercise\n",
    "\n",
    "What is going on in this image? \n",
    "\n",
    "Make a list of everything that is interesting about this image with your neighbor, and we'll discuss the features you identify in about 5 minutes time.\n",
    "\n",
    "-----"
   ]
  },
  {
   "cell_type": "code",
   "execution_count": null,
   "metadata": {
    "collapsed": false
   },
   "outputs": [],
   "source": [
    "index = np.unravel_index(im.argmax(), im.shape)\n",
    "print \"image dimensions:\",im.shape\n",
    "print \"location of maximum pixel value:\",index\n",
    "print \"maximum pixel value: \",im[index]"
   ]
  },
  {
   "cell_type": "markdown",
   "metadata": {},
   "source": [
    "> _NB. Images read in with pyfits are indexed with eg `im[y,x]`: ds9 shows that the maximum pixel value is at \"image coordinates\" `x=328, y=348`. `pyplot` knows what to do, but sometimes we may need to take the transpose of the `im` array. What `pyplot` does need to be told is that in astronomy, the origin of the image is conventionally taken to be at the bottom left hand corner, not the top left hand corner. That's what the `origin=lower` in the `plt.imshow` command was about._\n",
    "\n",
    "> _We will work in image coordinates throughout this course, for simplicity. Aligning images on the sky via a \"World Coordinate System\" is something to be learned elsewhere._"
   ]
  },
  {
   "cell_type": "code",
   "execution_count": null,
   "metadata": {
    "collapsed": true
   },
   "outputs": [],
   "source": []
  }
 ],
 "metadata": {
  "kernelspec": {
   "display_name": "Python 2",
   "language": "python",
   "name": "python2"
  },
  "language_info": {
   "codemirror_mode": {
    "name": "ipython",
    "version": 2
   },
   "file_extension": ".py",
   "mimetype": "text/x-python",
   "name": "python",
   "nbconvert_exporter": "python",
   "pygments_lexer": "ipython2",
   "version": "2.7.10"
  }
 },
 "nbformat": 4,
 "nbformat_minor": 0
}
