{
 "cells": [
  {
   "cell_type": "markdown",
   "metadata": {},
   "source": [
    "Import packages"
   ]
  },
  {
   "cell_type": "code",
   "execution_count": 1,
   "metadata": {
    "collapsed": true
   },
   "outputs": [],
   "source": [
    "import pyfits\n",
    "import numpy as np"
   ]
  },
  {
   "cell_type": "markdown",
   "metadata": {},
   "source": [
    "shell script to download data - do this through python instead\n",
    "\n",
    "#!/bin/bash\n",
    "\n",
    "targdir=a1835_xmm\n",
    "com=\"wget -nd -P $targdir\"\n",
    "dir=http://heasarc.gsfc.nasa.gov/FTP/xmm/data/rev0/0098010101/PPS/\n",
    "files=( P0098010101M2U009IMAGE_3000.FTZ P0098010101M2U009EXPMAP3000.FTZ  P0098010101M2X000BKGMAP3000.FTZ )\n",
    "\n",
    "for file in ${files[@]}; do\n",
    "    [ -e $targdir/$file ] || $com $dir$file\n",
    "done\n"
   ]
  },
  {
   "cell_type": "markdown",
   "metadata": {},
   "source": [
    "Read in the XMM MOS2 image"
   ]
  },
  {
   "cell_type": "code",
   "execution_count": 3,
   "metadata": {
    "collapsed": false
   },
   "outputs": [
    {
     "name": "stdout",
     "output_type": "stream",
     "text": [
      "Filename: a1835_xmm/P0098010101M2U009IMAGE_3000.FTZ\n",
      "No.    Name         Type      Cards   Dimensions   Format\n",
      "0    PRIMARY     PrimaryHDU     262   (648, 648)   int32\n",
      "1    GTI00006    BinTableHDU     29   15R x 2C     [D, D]\n",
      "2    GTI00106    BinTableHDU     29   15R x 2C     [D, D]\n",
      "3    GTI00206    BinTableHDU     29   16R x 2C     [D, D]\n",
      "4    GTI00306    BinTableHDU     29   15R x 2C     [D, D]\n",
      "5    GTI00406    BinTableHDU     29   15R x 2C     [D, D]\n",
      "6    GTI00506    BinTableHDU     29   15R x 2C     [D, D]\n",
      "7    GTI00606    BinTableHDU     29   15R x 2C     [D, D]\n"
     ]
    }
   ],
   "source": [
    "imfits = pyfits.open('a1835_xmm/P0098010101M2U009IMAGE_3000.FTZ')\n",
    "imfits.info()"
   ]
  },
  {
   "cell_type": "markdown",
   "metadata": {},
   "source": [
    "The image is saved as integer type. If we need it to be floating point for some reason, we need to cast it:\n",
    "im = imfits[0].data.astype('np.float32')\n",
    "Note that this (probably?) prevents us from using the pyfits \"writeto\" method to save any changes.\n",
    "Assuming the integer type is ok, just get a pointer to the image data."
   ]
  },
  {
   "cell_type": "code",
   "execution_count": 4,
   "metadata": {
    "collapsed": false
   },
   "outputs": [],
   "source": [
    "im = imfits[0].data"
   ]
  },
  {
   "cell_type": "markdown",
   "metadata": {},
   "source": [
    "Also read in the model background and exposure maps. (We may not need these immediately.) They are both float32 type."
   ]
  },
  {
   "cell_type": "code",
   "execution_count": 10,
   "metadata": {
    "collapsed": false
   },
   "outputs": [
    {
     "name": "stdout",
     "output_type": "stream",
     "text": [
      "Filename: a1835_xmm/P0098010101M2X000BKGMAP3000.FTZ\n",
      "No.    Name         Type      Cards   Dimensions   Format\n",
      "0    PRIMARY     PrimaryHDU      77   (648, 648)   float32\n"
     ]
    }
   ],
   "source": [
    "bkfits = pyfits.open('a1835_xmm/P0098010101M2X000BKGMAP3000.FTZ')\n",
    "bkfits.info()"
   ]
  },
  {
   "cell_type": "code",
   "execution_count": 11,
   "metadata": {
    "collapsed": false
   },
   "outputs": [
    {
     "name": "stdout",
     "output_type": "stream",
     "text": [
      "Filename: a1835_xmm/P0098010101M2U009EXPMAP3000.FTZ\n",
      "No.    Name         Type      Cards   Dimensions   Format\n",
      "0    PRIMARY     PrimaryHDU      63   (648, 648)   float32\n"
     ]
    }
   ],
   "source": [
    "exfits = pyfits.open('a1835_xmm/P0098010101M2U009EXPMAP3000.FTZ')\n",
    "exfits.info()"
   ]
  },
  {
   "cell_type": "markdown",
   "metadata": {
    "collapsed": true
   },
   "source": [
    "## Exercise\n",
    "\n",
    "Let's look at the data image, with `ds9`. What do you think is going on? Make a list with your neighbor, and report back in 5 minutes."
   ]
  },
  {
   "cell_type": "code",
   "execution_count": 9,
   "metadata": {
    "collapsed": false
   },
   "outputs": [],
   "source": [
    "datafile = 'a1835_xmm/P0098010101M2U009IMAGE_3000.FTZ'\n",
    "!ds9 -log \"$datafile\""
   ]
  },
  {
   "cell_type": "code",
   "execution_count": 27,
   "metadata": {
    "collapsed": false
   },
   "outputs": [
    {
     "name": "stdout",
     "output_type": "stream",
     "text": [
      "[[0 0 0 ..., 0 0 0]\n",
      " [0 0 0 ..., 0 0 0]\n",
      " [0 0 0 ..., 0 0 0]\n",
      " ..., \n",
      " [0 0 0 ..., 0 0 0]\n",
      " [0 0 0 ..., 0 0 0]\n",
      " [0 0 0 ..., 0 0 0]] 648 (648, 648) 0 223 225832 <type 'numpy.ndarray'> 223 [[0 0 0 ..., 0 0 0]\n",
      " [0 0 0 ..., 0 0 0]\n",
      " [0 0 0 ..., 0 0 0]\n",
      " ..., \n",
      " [0 0 0 ..., 0 0 0]\n",
      " [0 0 0 ..., 0 0 0]\n",
      " [0 0 0 ..., 0 0 0]]\n"
     ]
    }
   ],
   "source": [
    "print im, len(im),im.shape,im[324,324],np.max(im),im.argmax(),type(im),im[348,328], im.T"
   ]
  },
  {
   "cell_type": "markdown",
   "metadata": {},
   "source": [
    "todo: figure out whether the index ordering of the ndarray matches the usual image coordinates. nope, they're reversed (and also indexed from zero)"
   ]
  },
  {
   "cell_type": "code",
   "execution_count": null,
   "metadata": {
    "collapsed": true
   },
   "outputs": [],
   "source": []
  }
 ],
 "metadata": {
  "kernelspec": {
   "display_name": "Python 2",
   "language": "python",
   "name": "python2"
  },
  "language_info": {
   "codemirror_mode": {
    "name": "ipython",
    "version": 2
   },
   "file_extension": ".py",
   "mimetype": "text/x-python",
   "name": "python",
   "nbconvert_exporter": "python",
   "pygments_lexer": "ipython2",
   "version": "2.7.2"
  }
 },
 "nbformat": 4,
 "nbformat_minor": 0
}
