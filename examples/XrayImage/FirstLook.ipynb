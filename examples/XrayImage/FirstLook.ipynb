{
 "cells": [
  {
   "cell_type": "markdown",
   "metadata": {},
   "source": [
    "# A First Look at an X-ray Image Dataset"
   ]
  },
  {
   "cell_type": "markdown",
   "metadata": {},
   "source": [
    "Images are data. They can be 2D, from cameras, or 1D, from spectrographs, or 3D, from IFUs (integral field units). In each case, the data come packaged as an *array* of numbers, which we can visualize, and do calculations with.\n",
    "\n",
    "Let's suppose we are interested in clusters of galaxies. We choose one, Abell 1835, and propose to observe it with the XMM-Newton space telescope. We are successful, we design the observations, and they are taken for us. Next: we download the data, and take a look at it."
   ]
  },
  {
   "cell_type": "markdown",
   "metadata": {},
   "source": [
    "## Getting the Data \n",
    "\n",
    "We will download our images from HEASARC, the online archive where XMM data are stored. "
   ]
  },
  {
   "cell_type": "code",
   "execution_count": 2,
   "metadata": {
    "collapsed": false
   },
   "outputs": [],
   "source": [
    "import astropy.io.fits as pyfits\n",
    "import numpy as np\n",
    "import os.path"
   ]
  },
  {
   "cell_type": "markdown",
   "metadata": {},
   "source": [
    "Download the example data files if we don't already have them."
   ]
  },
  {
   "cell_type": "code",
   "execution_count": 7,
   "metadata": {
    "collapsed": false
   },
   "outputs": [
    {
     "name": "stdout",
     "output_type": "stream",
     "text": [
      "984K\ta1835_xmm/\r\n"
     ]
    }
   ],
   "source": [
    "targdir = 'a1835_xmm/'\n",
    "!mkdir -p $targdir\n",
    "\n",
    "imagefile = 'P0098010101M2U009IMAGE_3000.FTZ'\n",
    "expmapfile = 'P0098010101M2U009EXPMAP3000.FTZ'\n",
    "bkgmapfile = 'P0098010101M2X000BKGMAP3000.FTZ'\n",
    "\n",
    "remotedir = 'http://heasarc.gsfc.nasa.gov/FTP/xmm/data/rev0/0098010101/PPS/'\n",
    "\n",
    "for filename in [imagefile,expmapfile,bkgmapfile]:\n",
    "    path = targdir + filename\n",
    "    url = remotedir + filename\n",
    "    if not os.path.isfile(path): # i.e. if the file does not exist already:\n",
    "        !wget -nd -O $path $url \n",
    "\n",
    "!du -h $targdir"
   ]
  },
  {
   "cell_type": "markdown",
   "metadata": {},
   "source": [
    "## The XMM MOS2 image\n",
    "\n",
    "Let's find the \"science\" image, and display it."
   ]
  },
  {
   "cell_type": "code",
   "execution_count": 8,
   "metadata": {
    "collapsed": false
   },
   "outputs": [
    {
     "name": "stdout",
     "output_type": "stream",
     "text": [
      "Filename: a1835_xmm/P0098010101M2U009IMAGE_3000.FTZ\n",
      "No.    Name         Type      Cards   Dimensions   Format\n",
      "0    PRIMARY     PrimaryHDU     262   (648, 648)   int32   \n",
      "1    GTI00006    BinTableHDU     29   15R x 2C     [D, D]   \n",
      "2    GTI00106    BinTableHDU     29   15R x 2C     [D, D]   \n",
      "3    GTI00206    BinTableHDU     29   16R x 2C     [D, D]   \n",
      "4    GTI00306    BinTableHDU     29   15R x 2C     [D, D]   \n",
      "5    GTI00406    BinTableHDU     29   15R x 2C     [D, D]   \n",
      "6    GTI00506    BinTableHDU     29   15R x 2C     [D, D]   \n",
      "7    GTI00606    BinTableHDU     29   15R x 2C     [D, D]   \n"
     ]
    }
   ],
   "source": [
    "imfits = pyfits.open('a1835_xmm/P0098010101M2U009IMAGE_3000.FTZ')\n",
    "imfits.info()"
   ]
  },
  {
   "cell_type": "markdown",
   "metadata": {},
   "source": [
    "`imfits` is a FITS object, containing multiple data structures. The image itself is an array of integer type, and size 648x648 pixels, stored in the primary \"header data unit\" or HDU. \n",
    "\n",
    "> If we need it to be floating point for some reason, we need to cast it:\n",
    "im = imfits[0].data.astype('np.float32')\n",
    "Note that this (probably?) prevents us from using the pyfits \"writeto\" method to save any changes. Assuming the integer type is ok, just get a pointer to the image data.\n",
    "\n",
    "Accessing the `.data` member of the FITS object returns the image data as a numpy ndarray."
   ]
  },
  {
   "cell_type": "code",
   "execution_count": 9,
   "metadata": {
    "collapsed": false
   },
   "outputs": [],
   "source": [
    "im = imfits[0].data"
   ]
  },
  {
   "cell_type": "markdown",
   "metadata": {},
   "source": [
    "Also read in the model background and exposure maps. (We may not need these immediately.) They are both float32 type."
   ]
  },
  {
   "cell_type": "code",
   "execution_count": 10,
   "metadata": {
    "collapsed": false
   },
   "outputs": [
    {
     "name": "stdout",
     "output_type": "stream",
     "text": [
      "Filename: a1835_xmm/P0098010101M2X000BKGMAP3000.FTZ\n",
      "No.    Name         Type      Cards   Dimensions   Format\n",
      "0    PRIMARY     PrimaryHDU      77   (648, 648)   float32   \n"
     ]
    }
   ],
   "source": [
    "bkfits = pyfits.open('a1835_xmm/P0098010101M2X000BKGMAP3000.FTZ')\n",
    "bkfits.info()"
   ]
  },
  {
   "cell_type": "code",
   "execution_count": 11,
   "metadata": {
    "collapsed": false,
    "scrolled": true
   },
   "outputs": [
    {
     "name": "stdout",
     "output_type": "stream",
     "text": [
      "Filename: a1835_xmm/P0098010101M2U009EXPMAP3000.FTZ\n",
      "No.    Name         Type      Cards   Dimensions   Format\n",
      "0    PRIMARY     PrimaryHDU      63   (648, 648)   float32   \n"
     ]
    }
   ],
   "source": [
    "exfits = pyfits.open('a1835_xmm/P0098010101M2U009EXPMAP3000.FTZ')\n",
    "exfits.info()"
   ]
  },
  {
   "cell_type": "markdown",
   "metadata": {
    "collapsed": true
   },
   "source": [
    "Let's look at the data image, with `ds9`. "
   ]
  },
  {
   "cell_type": "code",
   "execution_count": 12,
   "metadata": {
    "collapsed": false
   },
   "outputs": [
    {
     "name": "stdout",
     "output_type": "stream",
     "text": [
      "/bin/sh: ds9: command not found\r\n"
     ]
    }
   ],
   "source": [
    "!ds9 -log \"$imagefile\""
   ]
  },
  {
   "cell_type": "markdown",
   "metadata": {},
   "source": [
    "-----\n",
    "## Exercise\n",
    "\n",
    "What do you think is going on in this image? Make a list with your neighbor, and report back in 5 minutes.\n",
    "\n",
    "-----"
   ]
  },
  {
   "cell_type": "code",
   "execution_count": 27,
   "metadata": {
    "collapsed": false
   },
   "outputs": [
    {
     "name": "stdout",
     "output_type": "stream",
     "text": [
      "[[0 0 0 ..., 0 0 0]\n",
      " [0 0 0 ..., 0 0 0]\n",
      " [0 0 0 ..., 0 0 0]\n",
      " ..., \n",
      " [0 0 0 ..., 0 0 0]\n",
      " [0 0 0 ..., 0 0 0]\n",
      " [0 0 0 ..., 0 0 0]] 648 (648, 648) 0 223 225832 <type 'numpy.ndarray'> 223 [[0 0 0 ..., 0 0 0]\n",
      " [0 0 0 ..., 0 0 0]\n",
      " [0 0 0 ..., 0 0 0]\n",
      " ..., \n",
      " [0 0 0 ..., 0 0 0]\n",
      " [0 0 0 ..., 0 0 0]\n",
      " [0 0 0 ..., 0 0 0]]\n"
     ]
    }
   ],
   "source": [
    "print im, len(im),im.shape,im[324,324],np.max(im),im.argmax(),type(im),im[348,328], im.T"
   ]
  },
  {
   "cell_type": "markdown",
   "metadata": {},
   "source": [
    "todo: figure out whether the index ordering of the ndarray matches the usual image coordinates. nope, they're reversed (and also indexed from zero)"
   ]
  },
  {
   "cell_type": "markdown",
   "metadata": {},
   "source": [
    "### Practical Note\n",
    "We will mainly work in \"image coordinates\" because they are simpler to deal with than celestial coordinates and more directly map to the python/numpy representation of the data. Unfortunately, there are still a couple sticking points:\n",
    "1. They conventionally start at 1, whereas python indexing of the array starts at 0.\n",
    "2. The two dimensions are transposed wrt one another. We can potentially deal with this by taking the transpose (.T) immediately after reading in the data. (todo)"
   ]
  },
  {
   "cell_type": "code",
   "execution_count": null,
   "metadata": {
    "collapsed": true
   },
   "outputs": [],
   "source": []
  }
 ],
 "metadata": {
  "kernelspec": {
   "display_name": "Python 2",
   "language": "python",
   "name": "python2"
  },
  "language_info": {
   "codemirror_mode": {
    "name": "ipython",
    "version": 2
   },
   "file_extension": ".py",
   "mimetype": "text/x-python",
   "name": "python",
   "nbconvert_exporter": "python",
   "pygments_lexer": "ipython2",
   "version": "2.7.10"
  }
 },
 "nbformat": 4,
 "nbformat_minor": 0
}
