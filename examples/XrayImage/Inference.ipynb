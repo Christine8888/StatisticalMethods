{
 "cells": [
  {
   "cell_type": "markdown",
   "metadata": {},
   "source": [
    "# Inferring Cluster Model Parameters from an X-ray Image"
   ]
  },
  {
   "cell_type": "markdown",
   "metadata": {},
   "source": [
    "* Forward modeling is always instructive: we got a good sense of the parameters of our cluster + background model simply by generating mock data and visualizing it.\n",
    "\n",
    "\n",
    "* The \"inverse problem\", also known as \"inference,\" is to learn the parameters of an assumed model from a set of data. Intuitively we can see how it is going to work: try a lot of possible parameter combinations, and see which ones \"match\" the data.\n",
    "\n",
    "\n",
    "* The sampling distribution ${\\rm Pr}(d|\\theta,H)$ encodes uncertainty about *what might have been,* given a model (or *hypothesis*) $H$ with parameters $\\theta$. It allows us to generate mock datasets that are similar to the data that we do observe.\n",
    "\n",
    "\n",
    "* Our inability to guess parameter values accurately first time shows that we are *uncertain* about them. In Bayesian inference, we use probability distributions to describe this uncertainty mathematically."
   ]
  },
  {
   "cell_type": "markdown",
   "metadata": {},
   "source": [
    "## Probability\n",
    "\n",
    "* The idea of using probability distributions to quantify the uncertainty in our model parameters (and indeed in the models themselves) is due to Pierre Simon Laplace (1774), who rediscovered Thomas Bayes' earlier results on the probability of future events given their past history.\n",
    "\n",
    "\n",
    "* [Let's remind ourselves how probabilities work](../../notes/ProbTheory.ipynb)"
   ]
  },
  {
   "cell_type": "markdown",
   "metadata": {},
   "source": [
    "\n",
    "\n"
   ]
  },
  {
   "cell_type": "markdown",
   "metadata": {},
   "source": [
    "* Laplace and Bayes' key result is the following, usually referred to as \"Bayes' Theorem:\"\n",
    "\n",
    "${\\rm Pr}(\\theta|d,H) = \\frac{1}{{\\rm Pr}(d|H)}\\;{\\rm Pr}(d|\\theta,H)\\;{\\rm Pr}(\\theta|H)$\n",
    "\n",
    "* What you know about your model parameters given the data is what you knew about them before $\\left[ {\\rm Pr}(\\theta|H) \\right]$, combined with what the data are telling you $\\left[ {\\rm Pr}(d|\\theta,H) \\right]$.\n",
    "\n",
    "\n",
    "* ${\\rm Pr}(\\theta|d,H)$ is called the *posterior probability distribution* for the parameters given the data and the model, *and is the general solution to the inverse problem.*\n",
    "\n",
    "\n",
    "* Before we take any data, our uncertainty about our model parameter values is encoded in the *prior PDF* for the parameters given the model, ${\\rm Pr}(\\theta|H)$.\n",
    "\n",
    "\n",
    "* Both the posterior and prior PDFs are functions of the model parameters. The sampling distribution ${\\rm Pr}(d|\\theta,H)$ is a function of the data given the parameters - when written as a function of $\\theta$ it is called the *likelihood* of the parameters given the model. \n",
    "\n",
    "\n",
    "* The likelihood captures the information that is in the data, and so lies at the center of data analysis. \n",
    "\n",
    "\n",
    "* ${\\rm Pr}(d|\\theta,H)$ has the form of a *prior over datasets*. This makes sense: we can imagine defining this PDF and using it to generate mock data without us ever having seen any real data at all!"
   ]
  },
  {
   "cell_type": "markdown",
   "metadata": {},
   "source": [
    "## PGMs for Inverse Problems\n",
    "\n",
    "* Here's the probabilistic graphical model for the inverse X-ray cluster model problem:"
   ]
  },
  {
   "cell_type": "code",
   "execution_count": null,
   "metadata": {
    "collapsed": false
   },
   "outputs": [],
   "source": [
    "# import cluster_pgm\n",
    "# cluster_pgm.inverse()\n",
    "\n",
    "from IPython.display import Image\n",
    "Image(filename=\"cluster_pgm_inverse.png\")"
   ]
  },
  {
   "cell_type": "markdown",
   "metadata": {},
   "source": [
    "### Spot the difference!\n",
    "\n",
    "* The data, $N_k$, now have a double circle around them, to remind us that even though we are supposing that they have been drawn from the sampling distribution ${\\rm Pr}(N_k\\;|\\;\\mu_k(\\theta),{\\rm ex}_k,{\\rm pb}_k,H)$, in practice we only get one draw, and the $N_k$ are *constants*.\n",
    "\n",
    "\n",
    "* The parameters, $\\theta$, are now allowed to vary, and are not asserted to have fixed values - so they come with a probability distribution represented by a circular node: the prior."
   ]
  },
  {
   "cell_type": "markdown",
   "metadata": {},
   "source": [
    "This PGM illustrates the joint PDF for the parameters and the data, which can be factorised as:\n",
    "\n",
    "\n",
    "$\\prod_k \\; {\\rm Pr}(N_k\\;|\\;\\mu_k(\\theta),{\\rm ex}_k,{\\rm pb}_k,H) \\; {\\rm Pr}(\\,\\theta\\,|H)$\n",
    "\n",
    "\n",
    "It can also be factorised to:\n",
    "\n",
    "\n",
    "${\\rm Pr}(\\,\\theta\\,|\\{N_k\\}\\,H) \\; {\\rm Pr}(\\{N_k\\}\\,|H)$\n",
    "\n",
    "\n",
    "which is, up to the normalizing constant, the posterior PDF for the model parameters, given all the data $\\{N_k\\}$. This is just Bayes Theorem rearranged, with the normalizing denominator appearing on the left hand side instead.\n",
    "\n",
    "\n",
    "* PGMs can be used to *design inferences*"
   ]
  },
  {
   "cell_type": "markdown",
   "metadata": {},
   "source": [
    "## Calculating Posterior PDFs\n",
    "\n",
    "* Notice that the prior PDF ${\\rm Pr}(\\theta|H)$ and the likelihood function ${\\rm Pr}(d|\\theta,H)$ can be *evaluated at any point in the parameter space.*\n",
    "\n",
    "\n",
    "* This means that we can always simply evaluate the posterior PDF on a grid (or at least attempt to), and normalize it by numerical integration.\n",
    "\n",
    "\n",
    "* Let's do this for a simplified version of our X-ray cluster model."
   ]
  },
  {
   "cell_type": "code",
   "execution_count": null,
   "metadata": {
    "collapsed": true
   },
   "outputs": [],
   "source": [
    "%load_ext autoreload\n",
    "%autoreload 2"
   ]
  },
  {
   "cell_type": "code",
   "execution_count": null,
   "metadata": {
    "collapsed": false
   },
   "outputs": [],
   "source": [
    "from __future__ import print_function\n",
    "import numpy as np\n",
    "import cluster"
   ]
  },
  {
   "cell_type": "code",
   "execution_count": null,
   "metadata": {
    "collapsed": false
   },
   "outputs": [],
   "source": [
    "lets = cluster.XrayData()\n",
    "\n",
    "lets.read_in_data()\n",
    "lets.set_up_maps()"
   ]
  },
  {
   "cell_type": "code",
   "execution_count": null,
   "metadata": {
    "collapsed": false
   },
   "outputs": [],
   "source": [
    "x0,y0 = 328,328    # The center of the image is 328,328\n",
    "S0,b = 0.001,1e-6  # Cluster and background surface brightness, arbitrary units\n",
    "beta = 2.0/3.0     # Canonical value is beta = 2/3\n",
    "rc = 12            # Core radius, in pixels\n",
    "\n",
    "logprob = lets.evaluate_unnormalised_log_posterior(x0,y0,S0,rc,beta,b)"
   ]
  },
  {
   "cell_type": "code",
   "execution_count": null,
   "metadata": {
    "collapsed": false
   },
   "outputs": [],
   "source": [
    "print (logprob)"
   ]
  },
  {
   "cell_type": "markdown",
   "metadata": {},
   "source": [
    "Good. Here's the code that is being run, inside the \"XrayData\" class:\n",
    "```python\n",
    "    def evaluate_log_prior(self):\n",
    "        # Uniform in all parameters...\n",
    "        return 0.0  # HACK\n",
    "\n",
    "\n",
    "    def evaluate_log_likelihood(self):\n",
    "        self.make_mean_image()\n",
    "        # Return un-normalized Poisson sampling distribution:\n",
    "        # log (\\mu^N e^{-\\mu} / N!) = N log \\mu - \\mu + constant\n",
    "        return np.sum(self.im * np.log(self.mu) - self.mu)\n",
    "\n",
    "\n",
    "    def evaluate_unnormalised_log_posterior(self,x0,y0,S0,rc,beta,b):\n",
    "        self.set_pars(x0,y0,S0,rc,beta,b)\n",
    "        return self.evaluate_log_likelihood() + self.evaluate_log_prior()\n",
    "```"
   ]
  },
  {
   "cell_type": "markdown",
   "metadata": {},
   "source": [
    "* It's worth starting at, and thinking about, this code for a few minutes.\n",
    "\n",
    "\n",
    "* Recall from the PGM discussion above that we have\n",
    "${\\rm Pr}(\\,\\theta\\,|\\{N_k\\}\\,H)  = \\frac{1}{Z} \\prod_k \\; {\\rm Pr}(N_k\\;|\\;\\mu_k(\\theta),{\\rm ex}_k,{\\rm pb}_k,H) \\; {\\rm Pr}(\\,\\theta\\,|H)$\n",
    "where $Z = {\\rm Pr}(\\{N_k\\}\\,|H)$\n",
    "\n",
    "\n",
    "* The product over (assumed) independent pixel values' Poisson sampling distribution terms becomes a *sum* in the log likelihood.\n",
    "\n",
    "\n",
    "* If the prior PDF for all parameters is uniform, then the log prior (and the prior) is just a constant (whose actual value is unimportant). In other problems we will need to be more careful than this!"
   ]
  },
  {
   "cell_type": "markdown",
   "metadata": {},
   "source": [
    "Now let's try evaluating the 2D posterior PDF for cluster position, conditioned on reasonable values of the cluster and background flux, cluster size and beta:"
   ]
  },
  {
   "cell_type": "code",
   "execution_count": null,
   "metadata": {
    "collapsed": false
   },
   "outputs": [],
   "source": [
    "npix = 15\n",
    "\n",
    "# Initial guess at the interesting range of cluster position parameters:\n",
    "xmin,xmax = 310,350\n",
    "ymin,ymax = 310,350\n",
    "\n",
    "# Refinement, found by fiddling around a bit:\n",
    "# xmin,xmax = 327.7,328.3\n",
    "# ymin,ymax = 346.4,347.0\n",
    "\n",
    "x0grid = np.linspace(xmin,xmax,npix)\n",
    "y0grid = np.linspace(ymin,ymax,npix)\n",
    "logprob = np.zeros([npix,npix])\n",
    "for i,x0 in enumerate(x0grid):\n",
    "    for j,y0 in enumerate(y0grid):\n",
    "        logprob[j,i] = lets.evaluate_unnormalised_log_posterior(x0,y0,S0,rc,beta,b)\n",
    "    print (\"Done column\",i)"
   ]
  },
  {
   "cell_type": "code",
   "execution_count": null,
   "metadata": {
    "collapsed": false
   },
   "outputs": [],
   "source": [
    "print (logprob[0:5,0])"
   ]
  },
  {
   "cell_type": "markdown",
   "metadata": {},
   "source": [
    "To normalize this, we need to take care not to try and exponentiate any very large or small numbers..."
   ]
  },
  {
   "cell_type": "code",
   "execution_count": null,
   "metadata": {
    "collapsed": true
   },
   "outputs": [],
   "source": [
    "Z = np.max(logprob)\n",
    "prob = np.exp(logprob - Z)\n",
    "norm = np.sum(prob)\n",
    "prob /= norm"
   ]
  },
  {
   "cell_type": "code",
   "execution_count": null,
   "metadata": {
    "collapsed": false
   },
   "outputs": [],
   "source": [
    "print (prob[0:5,0])"
   ]
  },
  {
   "cell_type": "markdown",
   "metadata": {},
   "source": [
    "Let's plot this as a 2D probability density map."
   ]
  },
  {
   "cell_type": "code",
   "execution_count": null,
   "metadata": {
    "collapsed": true
   },
   "outputs": [],
   "source": [
    "import astropy.visualization as viz\n",
    "import matplotlib.pyplot as plt\n",
    "%matplotlib inline\n",
    "plt.rcParams['figure.figsize'] = (10.0, 10.0)"
   ]
  },
  {
   "cell_type": "code",
   "execution_count": null,
   "metadata": {
    "collapsed": false
   },
   "outputs": [],
   "source": [
    "plt.imshow(prob, origin='lower', cmap='Blues', interpolation='none', extent=[xmin,xmax,ymin,ymax])\n",
    "plt.xlabel('x / pixels')\n",
    "plt.ylabel('y / pixels')"
   ]
  },
  {
   "cell_type": "markdown",
   "metadata": {},
   "source": [
    "* The above figure captures and illustrate our uncertainty about the position of the cluster center, given our model (and its assumptions), plus our assertions about the values of the other parameters. We say it is \"conditioned on\" the values of $\\beta$, $r_c$, $S_0$ and $b$.\n",
    "\n",
    "\n",
    "* To fully account for our uncertainty we should allow all model parameters to vary, and compute the 6D posterior PDF. As you can see, this will be time consuming! In sessions 3 and 4 we will look at ways to do these calculations far more efficiently."
   ]
  },
  {
   "cell_type": "markdown",
   "metadata": {
    "collapsed": true
   },
   "source": [
    "## Summarizing Posterior PDFs\n",
    "\n",
    "* The Bayesian solution to an inference problem is the posterior PDF for the parameters given the data. However, it is often helpful to compress that information into a few numbers (to put in the abstract of a paper, for example).\n",
    "\n",
    "\n",
    "* Most useful summaries of posterior PDFs are *integrals*. For example:\n",
    "\n",
    "\n",
    "  The posterior mean, $\\langle x \\rangle = \\int\\;{\\rm Pr}(x|d,H)\\;dx$\n",
    "\n",
    "\n",
    "  The posterior median, $x_{50}$ s.t. $\\int_{x_{50}}^{\\infty}\\;{\\rm Pr}(x|d,H)\\;dx = 0.5$\n",
    "\n",
    "\n",
    "  The $N^{th}$ percentile, $x_{N}$ s.t. $\\int_{x_{N}}^{\\infty}\\;{\\rm Pr}(x|d,H)\\;dx = N\\%$\n",
    "\n",
    "\n",
    "  The posterior probability that $x > a$, $\\int_{a}^{\\infty}\\;{\\rm Pr}(x|d,H)\\;dx$\n",
    "\n",
    "\n",
    "* The reason why integral quantities are useful is that they quantify *probability mass* rather than *probability density*: they are insensitive to sharp features that have low associated integrated probability."
   ]
  },
  {
   "cell_type": "markdown",
   "metadata": {},
   "source": [
    "* For a 2D PDF like ours, the equivalent quantity to a percentile is a \"confidence contour,\" that encloses a specified percentage of the integrated posterior probability. Standard choices are the contours that enclose 68% and 95% of the probability. (Do you know why?)\n",
    "\n",
    "\n",
    "* Lets add these contours to our plot.\n"
   ]
  },
  {
   "cell_type": "code",
   "execution_count": null,
   "metadata": {
    "collapsed": false
   },
   "outputs": [],
   "source": [
    "# First, double-check that the posterior PDF sums\n",
    "# (i.e. approximately integrates) to 1:\n",
    "\n",
    "print (np.sum(prob))"
   ]
  },
  {
   "cell_type": "code",
   "execution_count": null,
   "metadata": {
    "collapsed": false
   },
   "outputs": [],
   "source": [
    "# Now, sort the pixel value of the PDF map, and\n",
    "# find the cumulative distribution:\n",
    "\n",
    "sorted = np.sort(prob.flatten())\n",
    "C = sorted.cumsum()\n",
    "\n",
    "# Find the pixel values that lie at the levels that contain\n",
    "# 68% and 95% of the probability:\n",
    "lvl68 = np.min(sorted[C > (1.0 - 0.68)])\n",
    "lvl95 = np.min(sorted[C > (1.0 - 0.95)])\n",
    "\n",
    "plt.imshow(prob, origin='lower', cmap='Blues', interpolation='none', extent=[xmin,xmax,ymin,ymax])\n",
    "plt.contour(prob.T,[lvl68,lvl95],colors='black',extent=[xmin,xmax,ymin,ymax])\n",
    "plt.xlabel('x / pixels')\n",
    "plt.ylabel('y / pixels')"
   ]
  },
  {
   "cell_type": "markdown",
   "metadata": {},
   "source": [
    "In the next example, we'll look at some 1D marginalised distributions."
   ]
  },
  {
   "cell_type": "code",
   "execution_count": null,
   "metadata": {
    "collapsed": true
   },
   "outputs": [],
   "source": []
  }
 ],
 "metadata": {
  "kernelspec": {
   "display_name": "Python 2",
   "language": "python",
   "name": "python2"
  },
  "language_info": {
   "codemirror_mode": {
    "name": "ipython",
    "version": 2
   },
   "file_extension": ".py",
   "mimetype": "text/x-python",
   "name": "python",
   "nbconvert_exporter": "python",
   "pygments_lexer": "ipython2",
   "version": "2.7.10"
  }
 },
 "nbformat": 4,
 "nbformat_minor": 0
}
