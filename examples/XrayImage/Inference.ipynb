{
 "cells": [
  {
   "cell_type": "markdown",
   "metadata": {},
   "source": [
    "# Inferring Cluster Model Parameters from an X-ray Image\n",
    "\n",
    "Xray Image dataset. Cartoon cluster model. Revisit dataset. PGM for forward model. Mock data.\n",
    "\n",
    "Uncertainty encoded by probability distributions. Sampling distribution, likelihood.\n",
    "Writing down likelihood functions based on assumptions about the data. Independent data points (uncorrelated pixels). \"Prior over datasets.\"\n",
    "\n",
    "Conditional dependence of data on parameters. Posterior PDF as the result of a statistical inference. Be able to derive the posterior PDF given a likelihood and a prior, and understand what the prior PDF represents and what is involved in assigning it.\n",
    "\n",
    "Revive PGMs as illustration tool. PGMs as representations of *joint PDFs.* \n",
    "Show factorisation, discuss meaning of posterior PDF. \n",
    "\n",
    "Compute posterior PDF on 2D grid. Normalize, contours enclosing probability.\n",
    "\n",
    "Relationship between posterior and likelihood, priors. Learning.  "
   ]
  },
  {
   "cell_type": "code",
   "execution_count": null,
   "metadata": {
    "collapsed": true
   },
   "outputs": [],
   "source": []
  }
 ],
 "metadata": {
  "kernelspec": {
   "display_name": "Python 2",
   "language": "python",
   "name": "python2"
  },
  "language_info": {
   "codemirror_mode": {
    "name": "ipython",
    "version": 2
   },
   "file_extension": ".py",
   "mimetype": "text/x-python",
   "name": "python",
   "nbconvert_exporter": "python",
   "pygments_lexer": "ipython2",
   "version": "2.7.10"
  }
 },
 "nbformat": 4,
 "nbformat_minor": 0
}
