{
 "cells": [
  {
   "cell_type": "markdown",
   "metadata": {},
   "source": [
    "# Inference on X-ray image data"
   ]
  },
  {
   "cell_type": "markdown",
   "metadata": {},
   "source": [
    "The X-ray image data set provides a more complex example to test out our inference tools. If you haven't downloaded the example data yet, do so with the [FirstLook notebook](./FirstLook.ipynb), and familiarize yourself with it in the [Modeling notebook](./Modeling.ipynb), before going on."
   ]
  },
  {
   "cell_type": "code",
   "execution_count": null,
   "metadata": {
    "collapsed": false
   },
   "outputs": [],
   "source": [
    "# xray.py packages up the setup steps from the earlier notebooks\n",
    "import xray\n",
    "data = xray.XrayData()"
   ]
  },
  {
   "cell_type": "code",
   "execution_count": 1,
   "metadata": {
    "collapsed": false
   },
   "outputs": [
    {
     "name": "stdout",
     "output_type": "stream",
     "text": [
      "import astropy.io.fits as pyfits\r\n",
      "import numpy as np\r\n",
      "import os\r\n",
      "\r\n",
      "\r\n",
      "### definitions for modeling the data\r\n",
      "\r\n",
      "def betaModelFun(r, x0, y0, S0, rc, beta):\r\n",
      "    '''\r\n",
      "    the fabled beta model\r\n",
      "    '''\r\n",
      "    return S0 * (1.0 + (r/rc)**2)**(-3.0*beta + 0.5)\r\n",
      "\r\n",
      "def betaModelImage(xs, ys, x0, y0, S0, rc, beta):\r\n",
      "    '''\r\n",
      "    where xs and ys are arrays of x and y coordinate values, and the rest are beta model parameters\r\n",
      "    Returns an image with values given by the (azimuthally symmetric) beta model parameters\r\n",
      "    '''\r\n",
      "    return betaModelFun(np.sqrt( (xs-x0)**2 + (ys-y0)**2 ), x0, y0, S0, rc, beta)\r\n",
      "\r\n",
      "\r\n",
      "\r\n",
      "class XrayData:\r\n",
      "    def __init__(self):\r\n",
      "        ### download the data if we don't already have it\r\n",
      "        targdir = 'a1835_xmm/'\r\n",
      "        os.system('mkdir -p ' + targdir)\r\n",
      "        imagefile = 'P0098010101M2U009IMAGE_3000.FTZ'\r\n",
      "        expmapfile = 'P0098010101M2U009EXPMAP3000.FTZ'\r\n",
      "        bkgmapfile = 'P0098010101M2X000BKGMAP3000.FTZ'\r\n",
      "        remotedir = 'http://heasarc.gsfc.nasa.gov/FTP/xmm/data/rev0/0098010101/PPS/'\r\n",
      "        for filename in [imagefile,expmapfile,bkgmapfile]:\r\n",
      "            path = targdir + filename\r\n",
      "            url = remotedir + filename\r\n",
      "            if not os.path.isfile(path): # i.e. if the file does not exist already:\r\n",
      "                os.system('wget -nd -O ' + path + ' ' + 'url')\r\n",
      "        ### read in the data\r\n",
      "        self.imfits = pyfits.open(targdir + imagefile)\r\n",
      "        self.im = self.imfits[0].data\r\n",
      "        self.bkfits = pyfits.open(targdir + bkgmapfile)\r\n",
      "        self.bk = self.bkfits[0].data\r\n",
      "        self.exfits = pyfits.open(targdir + expmapfile)\r\n",
      "        self.ex = self.exfits[0].data\r\n",
      "        ### make helper arrays of x and y coordinates\r\n",
      "        self.xs = np.array([np.arange(self.im.shape[0]) for j in np.arange(self.im.shape[1])])\r\n",
      "        self.ys = np.array([[j for i in np.arange(self.im.shape[1])] for j in np.arange(self.im.shape[0])])\r\n",
      "        ### mask a list of non-cluster sources\r\n",
      "        maskfile = 'M2ptsrc.txt'\r\n",
      "        mask = np.loadtxt(targdir + maskfile)\r\n",
      "        for reg in mask:\r\n",
      "            for i in np.round(reg[1]+np.arange(-np.ceil(reg[2]),np.ceil(reg[2]))):\r\n",
      "                for j in np.round(reg[0]+np.arange(-np.ceil(reg[2]),np.ceil(reg[2]))):\r\n",
      "                    if (i-reg[1])**2 + (j-reg[0])**2 <= reg[2]**2:\r\n",
      "                        self.ex[np.int(i-1), np.int(j-1)] = 0.0\r\n",
      "        self.mask = self.ex * 0.0\r\n",
      "        self.mask[self.ex > 0.0] = 1.0\r\n",
      "\r\n",
      "\r\n",
      "def lnpost(params, data):\r\n",
      "    x0 = params[0]\r\n",
      "    y0 = params[1]\r\n",
      "    S0 = params[2]\r\n",
      "    rc = params[3]\r\n",
      "    beta = params[4]\r\n",
      "    bg = params[5]\r\n",
      "    if x0 < 0. or x0 >= data.im.shape[0] or y0 < 0. or y0 > data.im.shape[1] or S0 <= 0. or rc <= 0. or beta <= 0.:\r\n",
      "        return -np.inf\r\n",
      "    mod = (betaModelImage(data.xs, data.ys, x0, y0, S0, rc, beta) + bg) * data.ex + data.bk\r\n",
      "    return np.sum( (-mod + data.im * np.log(mod)) * data.mask )\r\n",
      "\r\n",
      "        \r\n",
      "    \r\n",
      "\r\n",
      "\r\n"
     ]
    }
   ],
   "source": [
    "!cat xray.py"
   ]
  },
  {
   "cell_type": "code",
   "execution_count": null,
   "metadata": {
    "collapsed": true
   },
   "outputs": [],
   "source": []
  }
 ],
 "metadata": {
  "kernelspec": {
   "display_name": "Python 2",
   "language": "python",
   "name": "python2"
  },
  "language_info": {
   "codemirror_mode": {
    "name": "ipython",
    "version": 2
   },
   "file_extension": ".py",
   "mimetype": "text/x-python",
   "name": "python",
   "nbconvert_exporter": "python",
   "pygments_lexer": "ipython2",
   "version": "2.7.10"
  }
 },
 "nbformat": 4,
 "nbformat_minor": 0
}
