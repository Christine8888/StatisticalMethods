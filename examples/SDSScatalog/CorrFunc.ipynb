{
 "cells": [
  {
   "cell_type": "markdown",
   "metadata": {},
   "source": [
    "# \"Spatial Clustering\" - the Galaxy Correlation Function\n",
    "\n",
    "\n",
    "* The degree to which objects positions are correlated with each other - \"clustered\" - is of great interest in astronomy. \n",
    "\n",
    "\n",
    "* We expect galaxies to appear in groups and clusters, as they fall together under gravity: the statistics of galaxy clustering should contain information about galaxy evolution during hierarchical structure formation.\n",
    "\n",
    "\n",
    "* Let's try and measure a clustering signal in our SDSS photometric object catalog."
   ]
  },
  {
   "cell_type": "code",
   "execution_count": null,
   "metadata": {
    "collapsed": false
   },
   "outputs": [],
   "source": [
    "%load_ext autoreload\n",
    "%autoreload 2"
   ]
  },
  {
   "cell_type": "code",
   "execution_count": null,
   "metadata": {
    "collapsed": false
   },
   "outputs": [],
   "source": [
    "import numpy as np\n",
    "import SDSS\n",
    "import pandas as pd\n",
    "import matplotlib.pyplot as plt\n",
    "%matplotlib inline\n",
    "import copy"
   ]
  },
  {
   "cell_type": "code",
   "execution_count": null,
   "metadata": {
    "collapsed": false
   },
   "outputs": [],
   "source": [
    "# We want to select galaxies, and then are only interested in their positions on the sky.\n",
    "\n",
    "data = pd.read_csv(\"downloads/SDSSobjects.csv\",usecols=['ra','dec','u','g',\\\n",
    "                                                'r','i','size'])\n",
    "\n",
    "# Filter out objects with bad magnitude or size measurements:\n",
    "data = data[(data['u'] > 0) & (data['g'] > 0) & (data['r'] > 0) & (data['i'] > 0) & (data['size'] > 0)]\n",
    "\n",
    "# Make size cuts, to exclude stars and nearby galaxies, and magnitude cuts, to get good galaxy detections:\n",
    "data = data[(data['size'] > 0.8) & (data['size'] < 10.0) & (data['i'] > 17) & (data['i'] < 22)]\n",
    "\n",
    "# Drop the things we're not so interested in:\n",
    "del data['u'], data['g'], data['r'], data['i'],data['size']\n",
    "\n",
    "data.head()"
   ]
  },
  {
   "cell_type": "code",
   "execution_count": null,
   "metadata": {
    "collapsed": false
   },
   "outputs": [],
   "source": [
    "Ngals = len(data)\n",
    "ramin,ramax = np.min(data['ra']),np.max(data['ra'])\n",
    "decmin,decmax = np.min(data['dec']),np.max(data['dec'])\n",
    "print Ngals,\"galaxy-like objects in (ra,dec) range (\",ramin,\":\",ramax,\",\",decmin,\":\",decmax,\")\""
   ]
  },
  {
   "cell_type": "markdown",
   "metadata": {},
   "source": [
    "## The Correlation Function\n",
    "\n",
    "\n",
    "* The 2-point correlation function $\\xi(\\theta)$ is defined as \"the probability of finding two galaxies separated by an angular distance $\\theta$ with respect to that expected for a random distribution\" (Peebles 1980), and is an excellent summary statistic for quantifying the clustering of galaxies.\n",
    "\n",
    "\n",
    "* The simplest possible _estimator_ for this excess probability is just \n",
    "$\\hat{\\xi}(\\theta) = \\frac{DD - RR}{RR}$, \n",
    "where $DD(\\theta) = N_{\\rm pairs}(\\theta) / N_D(N_D-1)/2$. Here, $N_D$ is the total number of galaxies in the dataset, and $N_{\\rm pairs}(\\theta)$ is the number of galaxy pairs with separation lying in a bin centered on $\\theta$. $RR(\\theta)$ is the same quantity computed in a \"random catalog,\" covering the same field of view but with uniformly randomly distributed positions.\n",
    "\n",
    "\n",
    "* Correlations between mock galaxies distributed uniformly randomly over the survey \"footprint\" helps account for spurious effects in the correlation function that might arise from weird survey area design.\n",
    "\n",
    "\n",
    "* We'll use Mike Jarvis' `TreeCorr` code [(Jarvis et al 2004)](http://arxiv.org/abs/astro-ph/0307393) to compute this correlation function estimator efficiently. You can read more about better estimators starting from [the TreeCorr wiki](https://github.com/rmjarvis/TreeCorr/wiki/Guide-to-using-TreeCorr-in-Python#using-random-catalogs)."
   ]
  },
  {
   "cell_type": "code",
   "execution_count": null,
   "metadata": {
    "collapsed": false
   },
   "outputs": [],
   "source": [
    "# !pip install --upgrade TreeCorr"
   ]
  },
  {
   "cell_type": "markdown",
   "metadata": {},
   "source": [
    "## Random Catalogs \n",
    "\n",
    "First we'll need a random catalog. Let's make it the same size as the data one. \n",
    "While this may not be needed for the small field in this example, let's generate random points that are uniformly distributed on a patch of the sphere."
   ]
  },
  {
   "cell_type": "code",
   "execution_count": null,
   "metadata": {
    "collapsed": false
   },
   "outputs": [],
   "source": [
    "random = pd.DataFrame({'ra' : ramin + (ramax-ramin)*np.random.rand(Ngals), 'dec' : (180./np.pi)*np.arcsin(np.random.uniform(np.sin(decmin*np.pi/180.0), np.sin(decmax*np.pi/180.),Ngals))})"
   ]
  },
  {
   "cell_type": "code",
   "execution_count": null,
   "metadata": {
    "collapsed": false
   },
   "outputs": [],
   "source": [
    "print len(random), type(random)"
   ]
  },
  {
   "cell_type": "markdown",
   "metadata": {},
   "source": [
    "Now let's plot both catalogs, and compare."
   ]
  },
  {
   "cell_type": "code",
   "execution_count": null,
   "metadata": {
    "collapsed": false
   },
   "outputs": [],
   "source": [
    "fig, ax = plt.subplots(nrows=1, ncols=2)\n",
    "fig.set_size_inches(15, 6)\n",
    "plt.subplots_adjust(wspace=0.2)\n",
    "    \n",
    "random.plot(kind='scatter', x='ra', y='dec', ax=ax[0], title='Random')\n",
    "ax[0].set_xlabel('RA / deg')\n",
    "ax[0].set_ylabel('Dec. / deg')\n",
    "\n",
    "data.plot(kind='scatter', x='ra', y='dec', ax=ax[1], title='Data')\n",
    "ax[1].set_xlabel('RA / deg')\n",
    "ax[1].set_ylabel('Dec. / deg')"
   ]
  },
  {
   "cell_type": "markdown",
   "metadata": {},
   "source": [
    "## Estimating $\\xi(\\theta)$"
   ]
  },
  {
   "cell_type": "code",
   "execution_count": null,
   "metadata": {
    "collapsed": false
   },
   "outputs": [],
   "source": [
    "import treecorr\n",
    "\n",
    "random_cat = treecorr.Catalog(ra=random['ra'], dec=random['dec'], ra_units='deg', dec_units='deg')\n",
    "data_cat = treecorr.Catalog(ra=data['ra'], dec=data['dec'], ra_units='deg', dec_units='deg')\n",
    "\n",
    "# Set up some correlation function estimator objects:\n",
    "\n",
    "sep_units='arcmin'\n",
    "min_sep=0.5\n",
    "max_sep=10.0\n",
    "N = 7\n",
    "bin_size = np.log10(1.0*max_sep/min_sep)/(1.0*N)\n",
    "\n",
    "dd = treecorr.NNCorrelation(bin_size=bin_size, min_sep=min_sep, max_sep=max_sep, sep_units=sep_units, bin_slop=0.05/bin_size)\n",
    "rr = treecorr.NNCorrelation(bin_size=bin_size, min_sep=min_sep, max_sep=max_sep, sep_units=sep_units, bin_slop=0.05/bin_size)\n",
    "\n",
    "# Process the data:\n",
    "dd.process(data_cat)\n",
    "rr.process(random_cat)\n",
    "\n",
    "# Combine into a correlation function and its variance:\n",
    "xi, varxi = dd.calculateXi(rr)"
   ]
  },
  {
   "cell_type": "code",
   "execution_count": null,
   "metadata": {
    "collapsed": false
   },
   "outputs": [],
   "source": [
    "plt.figure(figsize=(15,8))\n",
    "plt.rc('xtick', labelsize=16) \n",
    "plt.rc('ytick', labelsize=16)\n",
    "plt.errorbar(np.exp(dd.logr),xi,np.sqrt(varxi),c='blue',linewidth=2)\n",
    "# plt.xscale('log')\n",
    "plt.xlabel('$\\\\theta / {\\\\rm arcmin}$',fontsize=20)\n",
    "plt.ylabel('$\\\\xi(\\\\theta)$',fontsize=20)\n",
    "plt.ylim([-0.1,0.2])\n",
    "plt.grid(True)"
   ]
  },
  {
   "cell_type": "markdown",
   "metadata": {},
   "source": [
    "### Q: Are galaxies uniformly randomly distributed?\n",
    "\n",
    "Discuss the clustering signal (or lack thereof) in the above plot with your neighbor. What would you want to do better, in a second pass at this?"
   ]
  },
  {
   "cell_type": "code",
   "execution_count": null,
   "metadata": {
    "collapsed": true
   },
   "outputs": [],
   "source": []
  }
 ],
 "metadata": {
  "kernelspec": {
   "display_name": "Python 2",
   "language": "python",
   "name": "python2"
  },
  "language_info": {
   "codemirror_mode": {
    "name": "ipython",
    "version": 2
   },
   "file_extension": ".py",
   "mimetype": "text/x-python",
   "name": "python",
   "nbconvert_exporter": "python",
   "pygments_lexer": "ipython2",
   "version": "2.7.10"
  }
 },
 "nbformat": 4,
 "nbformat_minor": 0
}
