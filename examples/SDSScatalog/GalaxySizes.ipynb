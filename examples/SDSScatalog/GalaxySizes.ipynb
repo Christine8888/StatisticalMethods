{
 "cells": [
  {
   "cell_type": "markdown",
   "metadata": {},
   "source": [
    "# Illustrating Observed and Intrinsic Object Properties:\n",
    "# SDSS \"Galaxy\" Sizes\n",
    "\n",
    "Let's look at the distribution of observed sizes in the SDSS photometric object catalog."
   ]
  },
  {
   "cell_type": "code",
   "execution_count": 1,
   "metadata": {
    "collapsed": false
   },
   "outputs": [],
   "source": [
    "%load_ext autoreload\n",
    "%autoreload 2"
   ]
  },
  {
   "cell_type": "code",
   "execution_count": 2,
   "metadata": {
    "collapsed": false
   },
   "outputs": [],
   "source": [
    "import numpy as np\n",
    "import SDSS\n",
    "import pandas as pd\n",
    "import matplotlib\n",
    "# matplotlib.style.use('ggplot')\n",
    "%matplotlib inline"
   ]
  },
  {
   "cell_type": "code",
   "execution_count": 3,
   "metadata": {
    "collapsed": false
   },
   "outputs": [
    {
     "name": "stdout",
     "output_type": "stream",
     "text": [
      "SELECT top 1000 petroR50_i AS size, petroR50Err_i AS err FROM PhotoObjAll WHERE (type = '3' AND petroR50Err_i > 0)\n"
     ]
    }
   ],
   "source": [
    "galaxies = \"SELECT top 1000 \\\n",
    "petroR50_i AS size, \\\n",
    "petroR50Err_i AS err \\\n",
    "FROM PhotoObjAll \\\n",
    "WHERE \\\n",
    "(type = '3' AND petroR50Err_i > 0)\"\n",
    "print galaxies"
   ]
  },
  {
   "cell_type": "code",
   "execution_count": 4,
   "metadata": {
    "collapsed": false
   },
   "outputs": [
    {
     "data": {
      "text/html": [
       "<div style=\"max-height:1000px;max-width:1500px;overflow:auto;\">\n",
       "<table border=\"1\" class=\"dataframe\">\n",
       "  <thead>\n",
       "    <tr style=\"text-align: right;\">\n",
       "      <th></th>\n",
       "      <th>size</th>\n",
       "      <th>err</th>\n",
       "    </tr>\n",
       "  </thead>\n",
       "  <tbody>\n",
       "    <tr>\n",
       "      <th>0  </th>\n",
       "      <td>  3.183596</td>\n",
       "      <td>  0.025126</td>\n",
       "    </tr>\n",
       "    <tr>\n",
       "      <th>1  </th>\n",
       "      <td>  3.065464</td>\n",
       "      <td>  0.011983</td>\n",
       "    </tr>\n",
       "    <tr>\n",
       "      <th>2  </th>\n",
       "      <td> 20.184450</td>\n",
       "      <td> 12.358810</td>\n",
       "    </tr>\n",
       "    <tr>\n",
       "      <th>3  </th>\n",
       "      <td>  3.140940</td>\n",
       "      <td>  0.019812</td>\n",
       "    </tr>\n",
       "    <tr>\n",
       "      <th>4  </th>\n",
       "      <td>  2.944434</td>\n",
       "      <td>  0.005674</td>\n",
       "    </tr>\n",
       "    <tr>\n",
       "      <th>5  </th>\n",
       "      <td>  8.316065</td>\n",
       "      <td>  5.105838</td>\n",
       "    </tr>\n",
       "    <tr>\n",
       "      <th>6  </th>\n",
       "      <td>  0.896665</td>\n",
       "      <td>  0.285496</td>\n",
       "    </tr>\n",
       "    <tr>\n",
       "      <th>7  </th>\n",
       "      <td>  0.744543</td>\n",
       "      <td>  0.260797</td>\n",
       "    </tr>\n",
       "    <tr>\n",
       "      <th>8  </th>\n",
       "      <td>  0.908179</td>\n",
       "      <td>  0.248295</td>\n",
       "    </tr>\n",
       "    <tr>\n",
       "      <th>9  </th>\n",
       "      <td>  1.143575</td>\n",
       "      <td>  0.081928</td>\n",
       "    </tr>\n",
       "    <tr>\n",
       "      <th>10 </th>\n",
       "      <td>  0.704137</td>\n",
       "      <td>  0.403667</td>\n",
       "    </tr>\n",
       "    <tr>\n",
       "      <th>11 </th>\n",
       "      <td>  1.220716</td>\n",
       "      <td>  0.351812</td>\n",
       "    </tr>\n",
       "    <tr>\n",
       "      <th>12 </th>\n",
       "      <td>  1.132895</td>\n",
       "      <td>  0.315973</td>\n",
       "    </tr>\n",
       "    <tr>\n",
       "      <th>13 </th>\n",
       "      <td>  1.301230</td>\n",
       "      <td>  0.286307</td>\n",
       "    </tr>\n",
       "    <tr>\n",
       "      <th>14 </th>\n",
       "      <td>  1.052993</td>\n",
       "      <td>  0.196713</td>\n",
       "    </tr>\n",
       "    <tr>\n",
       "      <th>15 </th>\n",
       "      <td>  0.982851</td>\n",
       "      <td>  0.090603</td>\n",
       "    </tr>\n",
       "    <tr>\n",
       "      <th>16 </th>\n",
       "      <td>  0.955219</td>\n",
       "      <td>  0.128032</td>\n",
       "    </tr>\n",
       "    <tr>\n",
       "      <th>17 </th>\n",
       "      <td>  0.915375</td>\n",
       "      <td>  0.083964</td>\n",
       "    </tr>\n",
       "    <tr>\n",
       "      <th>18 </th>\n",
       "      <td>  1.460291</td>\n",
       "      <td>  0.115309</td>\n",
       "    </tr>\n",
       "    <tr>\n",
       "      <th>19 </th>\n",
       "      <td>  1.187671</td>\n",
       "      <td>  0.079002</td>\n",
       "    </tr>\n",
       "    <tr>\n",
       "      <th>20 </th>\n",
       "      <td>  0.962113</td>\n",
       "      <td>  1.133867</td>\n",
       "    </tr>\n",
       "    <tr>\n",
       "      <th>21 </th>\n",
       "      <td>  1.084773</td>\n",
       "      <td>  0.275654</td>\n",
       "    </tr>\n",
       "    <tr>\n",
       "      <th>22 </th>\n",
       "      <td>  1.833592</td>\n",
       "      <td>  0.904688</td>\n",
       "    </tr>\n",
       "    <tr>\n",
       "      <th>23 </th>\n",
       "      <td>  1.260668</td>\n",
       "      <td>  0.322517</td>\n",
       "    </tr>\n",
       "    <tr>\n",
       "      <th>24 </th>\n",
       "      <td>  1.505322</td>\n",
       "      <td>  0.933119</td>\n",
       "    </tr>\n",
       "    <tr>\n",
       "      <th>25 </th>\n",
       "      <td>  2.312660</td>\n",
       "      <td>  0.173464</td>\n",
       "    </tr>\n",
       "    <tr>\n",
       "      <th>26 </th>\n",
       "      <td>  0.768797</td>\n",
       "      <td>  0.707527</td>\n",
       "    </tr>\n",
       "    <tr>\n",
       "      <th>27 </th>\n",
       "      <td>  1.030212</td>\n",
       "      <td>  0.007404</td>\n",
       "    </tr>\n",
       "    <tr>\n",
       "      <th>28 </th>\n",
       "      <td>  2.772947</td>\n",
       "      <td>  0.695600</td>\n",
       "    </tr>\n",
       "    <tr>\n",
       "      <th>29 </th>\n",
       "      <td>  1.690794</td>\n",
       "      <td>  0.199613</td>\n",
       "    </tr>\n",
       "    <tr>\n",
       "      <th>...</th>\n",
       "      <td>...</td>\n",
       "      <td>...</td>\n",
       "    </tr>\n",
       "    <tr>\n",
       "      <th>970</th>\n",
       "      <td>  1.277025</td>\n",
       "      <td>  0.103663</td>\n",
       "    </tr>\n",
       "    <tr>\n",
       "      <th>971</th>\n",
       "      <td>  1.566911</td>\n",
       "      <td>  0.463353</td>\n",
       "    </tr>\n",
       "    <tr>\n",
       "      <th>972</th>\n",
       "      <td>  0.969233</td>\n",
       "      <td>  0.180837</td>\n",
       "    </tr>\n",
       "    <tr>\n",
       "      <th>973</th>\n",
       "      <td>  0.641155</td>\n",
       "      <td>  0.522482</td>\n",
       "    </tr>\n",
       "    <tr>\n",
       "      <th>974</th>\n",
       "      <td>  0.893030</td>\n",
       "      <td>  0.112237</td>\n",
       "    </tr>\n",
       "    <tr>\n",
       "      <th>975</th>\n",
       "      <td>  2.531254</td>\n",
       "      <td>  0.651258</td>\n",
       "    </tr>\n",
       "    <tr>\n",
       "      <th>976</th>\n",
       "      <td>  2.008979</td>\n",
       "      <td>  0.867629</td>\n",
       "    </tr>\n",
       "    <tr>\n",
       "      <th>977</th>\n",
       "      <td>  3.656563</td>\n",
       "      <td>  0.994136</td>\n",
       "    </tr>\n",
       "    <tr>\n",
       "      <th>978</th>\n",
       "      <td>  0.842560</td>\n",
       "      <td>  0.849787</td>\n",
       "    </tr>\n",
       "    <tr>\n",
       "      <th>979</th>\n",
       "      <td>  0.840808</td>\n",
       "      <td>  0.142611</td>\n",
       "    </tr>\n",
       "    <tr>\n",
       "      <th>980</th>\n",
       "      <td>  0.934792</td>\n",
       "      <td>  0.146037</td>\n",
       "    </tr>\n",
       "    <tr>\n",
       "      <th>981</th>\n",
       "      <td>  0.931805</td>\n",
       "      <td>  0.382945</td>\n",
       "    </tr>\n",
       "    <tr>\n",
       "      <th>982</th>\n",
       "      <td>  0.931805</td>\n",
       "      <td>  0.382945</td>\n",
       "    </tr>\n",
       "    <tr>\n",
       "      <th>983</th>\n",
       "      <td>  0.745623</td>\n",
       "      <td>  0.120066</td>\n",
       "    </tr>\n",
       "    <tr>\n",
       "      <th>984</th>\n",
       "      <td>  2.219818</td>\n",
       "      <td>  0.287569</td>\n",
       "    </tr>\n",
       "    <tr>\n",
       "      <th>985</th>\n",
       "      <td>  1.023396</td>\n",
       "      <td>  0.482538</td>\n",
       "    </tr>\n",
       "    <tr>\n",
       "      <th>986</th>\n",
       "      <td>  6.511606</td>\n",
       "      <td>  3.744364</td>\n",
       "    </tr>\n",
       "    <tr>\n",
       "      <th>987</th>\n",
       "      <td>  2.611120</td>\n",
       "      <td>  0.428770</td>\n",
       "    </tr>\n",
       "    <tr>\n",
       "      <th>988</th>\n",
       "      <td>  1.103681</td>\n",
       "      <td>  0.204355</td>\n",
       "    </tr>\n",
       "    <tr>\n",
       "      <th>989</th>\n",
       "      <td>  0.861312</td>\n",
       "      <td>  0.232686</td>\n",
       "    </tr>\n",
       "    <tr>\n",
       "      <th>990</th>\n",
       "      <td>  1.519619</td>\n",
       "      <td>  0.348524</td>\n",
       "    </tr>\n",
       "    <tr>\n",
       "      <th>991</th>\n",
       "      <td>  0.692302</td>\n",
       "      <td>  0.318117</td>\n",
       "    </tr>\n",
       "    <tr>\n",
       "      <th>992</th>\n",
       "      <td>  0.840449</td>\n",
       "      <td>  0.316319</td>\n",
       "    </tr>\n",
       "    <tr>\n",
       "      <th>993</th>\n",
       "      <td>  1.173845</td>\n",
       "      <td>  0.455914</td>\n",
       "    </tr>\n",
       "    <tr>\n",
       "      <th>994</th>\n",
       "      <td>  0.588134</td>\n",
       "      <td>  0.295887</td>\n",
       "    </tr>\n",
       "    <tr>\n",
       "      <th>995</th>\n",
       "      <td>  1.342683</td>\n",
       "      <td>  0.206794</td>\n",
       "    </tr>\n",
       "    <tr>\n",
       "      <th>996</th>\n",
       "      <td>  1.265088</td>\n",
       "      <td>  0.443798</td>\n",
       "    </tr>\n",
       "    <tr>\n",
       "      <th>997</th>\n",
       "      <td>  0.636482</td>\n",
       "      <td>  0.312410</td>\n",
       "    </tr>\n",
       "    <tr>\n",
       "      <th>998</th>\n",
       "      <td>  0.828237</td>\n",
       "      <td>  0.098167</td>\n",
       "    </tr>\n",
       "    <tr>\n",
       "      <th>999</th>\n",
       "      <td>  1.089057</td>\n",
       "      <td>  0.541943</td>\n",
       "    </tr>\n",
       "  </tbody>\n",
       "</table>\n",
       "<p>1000 rows × 2 columns</p>\n",
       "</div>"
      ],
      "text/plain": [
       "          size        err\n",
       "0     3.183596   0.025126\n",
       "1     3.065464   0.011983\n",
       "2    20.184450  12.358810\n",
       "3     3.140940   0.019812\n",
       "4     2.944434   0.005674\n",
       "5     8.316065   5.105838\n",
       "6     0.896665   0.285496\n",
       "7     0.744543   0.260797\n",
       "8     0.908179   0.248295\n",
       "9     1.143575   0.081928\n",
       "10    0.704137   0.403667\n",
       "11    1.220716   0.351812\n",
       "12    1.132895   0.315973\n",
       "13    1.301230   0.286307\n",
       "14    1.052993   0.196713\n",
       "15    0.982851   0.090603\n",
       "16    0.955219   0.128032\n",
       "17    0.915375   0.083964\n",
       "18    1.460291   0.115309\n",
       "19    1.187671   0.079002\n",
       "20    0.962113   1.133867\n",
       "21    1.084773   0.275654\n",
       "22    1.833592   0.904688\n",
       "23    1.260668   0.322517\n",
       "24    1.505322   0.933119\n",
       "25    2.312660   0.173464\n",
       "26    0.768797   0.707527\n",
       "27    1.030212   0.007404\n",
       "28    2.772947   0.695600\n",
       "29    1.690794   0.199613\n",
       "..         ...        ...\n",
       "970   1.277025   0.103663\n",
       "971   1.566911   0.463353\n",
       "972   0.969233   0.180837\n",
       "973   0.641155   0.522482\n",
       "974   0.893030   0.112237\n",
       "975   2.531254   0.651258\n",
       "976   2.008979   0.867629\n",
       "977   3.656563   0.994136\n",
       "978   0.842560   0.849787\n",
       "979   0.840808   0.142611\n",
       "980   0.934792   0.146037\n",
       "981   0.931805   0.382945\n",
       "982   0.931805   0.382945\n",
       "983   0.745623   0.120066\n",
       "984   2.219818   0.287569\n",
       "985   1.023396   0.482538\n",
       "986   6.511606   3.744364\n",
       "987   2.611120   0.428770\n",
       "988   1.103681   0.204355\n",
       "989   0.861312   0.232686\n",
       "990   1.519619   0.348524\n",
       "991   0.692302   0.318117\n",
       "992   0.840449   0.316319\n",
       "993   1.173845   0.455914\n",
       "994   0.588134   0.295887\n",
       "995   1.342683   0.206794\n",
       "996   1.265088   0.443798\n",
       "997   0.636482   0.312410\n",
       "998   0.828237   0.098167\n",
       "999   1.089057   0.541943\n",
       "\n",
       "[1000 rows x 2 columns]"
      ]
     },
     "execution_count": 4,
     "metadata": {},
     "output_type": "execute_result"
    }
   ],
   "source": [
    "# Download data. This can take a while...\n",
    "data = SDSS.select(galaxies)\n",
    "data"
   ]
  },
  {
   "cell_type": "markdown",
   "metadata": {},
   "source": [
    "## The Distribution of Observed SDSS \"Galaxy\" Sizes\n",
    "\n",
    "Let's look at a histogram of galaxy sizes, for 1000 objects classified as \"galaxies\"."
   ]
  },
  {
   "cell_type": "code",
   "execution_count": 5,
   "metadata": {
    "collapsed": false
   },
   "outputs": [
    {
     "data": {
      "text/plain": [
       "<matplotlib.axes._subplots.AxesSubplot at 0x109b03750>"
      ]
     },
     "execution_count": 5,
     "metadata": {},
     "output_type": "execute_result"
    },
    {
     "data": {
      "image/png": "[encoded data removed]",
      "text/plain": [
       "<matplotlib.figure.Figure at 0x109b03510>"
      ]
     },
     "metadata": {},
     "output_type": "display_data"
    }
   ],
   "source": [
    "data['size'].hist(bins=np.linspace(0.0,5.0,100),figsize=(12,7))"
   ]
  },
  {
   "cell_type": "markdown",
   "metadata": {},
   "source": [
    "Things to notice:\n",
    "\n",
    "* No small objects (why not?)\n",
    "* A \"tail\" to large size\n",
    "* Some very large sizes that look a little odd\n"
   ]
  },
  {
   "cell_type": "markdown",
   "metadata": {},
   "source": [
    "\n",
    "Are these large galaxies *actually* large, or have they just been measured that way?\n",
    "Let's look at the reported uncertainties on these sizes:"
   ]
  },
  {
   "cell_type": "code",
   "execution_count": 6,
   "metadata": {
    "collapsed": false
   },
   "outputs": [
    {
     "data": {
      "image/png": "[encoded data removed]",
      "text/plain": [
       "<matplotlib.figure.Figure at 0x107941e90>"
      ]
     },
     "metadata": {},
     "output_type": "display_data"
    }
   ],
   "source": [
    "data.plot(kind='scatter', x='size', y='err',s=100,figsize=(12,7));"
   ]
  },
  {
   "cell_type": "markdown",
   "metadata": {},
   "source": [
    "## Mock Data\n",
    "\n",
    "Let's look at how distributions like this one can come about, by making a **generative model** for this dataset.\n",
    "\n",
    "First, let's imagine a set of perfectly measured galaxies. They won't all have the same size, because the Universe isn't like that. Let's suppose the logarithm of their *intrinsic sizes* are drawn from a Gaussian of width $S$ and mean $\\mu$. \n",
    "\n",
    "To model one mock galaxy, we *draw a sample from this distribution*. To model the whole dataset, we draw 1000 samples."
   ]
  },
  {
   "cell_type": "code",
   "execution_count": 7,
   "metadata": {
    "collapsed": true
   },
   "outputs": [],
   "source": [
    "def generate_galaxies(mu=np.log10(1.5),S=0.3,N=1000):\n",
    "    return pd.DataFrame({'size' : 10.0**(mu + S*np.random.randn(N))})"
   ]
  },
  {
   "cell_type": "code",
   "execution_count": 8,
   "metadata": {
    "collapsed": false,
    "scrolled": false
   },
   "outputs": [
    {
     "data": {
      "text/plain": [
       "array([[<matplotlib.axes._subplots.AxesSubplot object at 0x109d5b7d0>]], dtype=object)"
      ]
     },
     "execution_count": 8,
     "metadata": {},
     "output_type": "execute_result"
    },
    {
     "data": {
      "image/png": "[encoded data removed]",
      "text/plain": [
       "<matplotlib.figure.Figure at 0x109b2d710>"
      ]
     },
     "metadata": {},
     "output_type": "display_data"
    }
   ],
   "source": [
    "mu = np.log10(1.5)\n",
    "S = 0.05\n",
    "intrinsic = generate_galaxies(mu=mu,S=S,N=1000)\n",
    "\n",
    "intrinsic.hist(bins=np.linspace(0.0,5.0,100),figsize=(12,7),color='green')"
   ]
  },
  {
   "cell_type": "markdown",
   "metadata": {},
   "source": [
    "Now let's add some observational uncertainty. We can model this by drawing random Gaussian offsets $\\epsilon$ and add one to each intrinsic size."
   ]
  },
  {
   "cell_type": "code",
   "execution_count": 9,
   "metadata": {
    "collapsed": true
   },
   "outputs": [],
   "source": [
    "def make_noise(sigma=0.3,N=1000):\n",
    "    return pd.DataFrame({'size' : sigma*np.random.randn(N)})"
   ]
  },
  {
   "cell_type": "code",
   "execution_count": 11,
   "metadata": {
    "collapsed": false
   },
   "outputs": [
    {
     "data": {
      "text/plain": [
       "array([[<matplotlib.axes._subplots.AxesSubplot object at 0x10b583090>]], dtype=object)"
      ]
     },
     "execution_count": 11,
     "metadata": {},
     "output_type": "execute_result"
    },
    {
     "data": {
      "image/png": "[encoded data removed]",
      "text/plain": [
       "<matplotlib.figure.Figure at 0x109f681d0>"
      ]
     },
     "metadata": {},
     "output_type": "display_data"
    }
   ],
   "source": [
    "sigma = 0.9\n",
    "errors = make_noise(sigma=sigma,N=1000)\n",
    "\n",
    "observed = intrinsic + errors\n",
    "\n",
    "observed.hist(bins=np.linspace(0.0,5.0,100),figsize=(12,7),color='red')"
   ]
  },
  {
   "cell_type": "markdown",
   "metadata": {},
   "source": [
    "### Q: How did we do? Is this a good model for our data?"
   ]
  },
  {
   "cell_type": "markdown",
   "metadata": {},
   "source": [
    "One last thing: let's look at the variances of these distributions:"
   ]
  },
  {
   "cell_type": "code",
   "execution_count": 12,
   "metadata": {
    "collapsed": false
   },
   "outputs": [
    {
     "name": "stdout",
     "output_type": "stream",
     "text": [
      "Variance of the intrinsic distribution =  0.0285878087281\n",
      "Variance of the noise =  0.757247636043\n",
      "Variance of the observed distribution =  0.786755440984 cf 0.785835444771\n"
     ]
    }
   ],
   "source": [
    "print \"Variance of the intrinsic distribution = \", np.var(intrinsic['size'])\n",
    "print \"Variance of the noise = \",np.var(errors['size'])\n",
    "print \"Variance of the observed distribution = \", np.var(observed['size']), \\\n",
    "  \"cf\", np.var(intrinsic['size']) + np.var(errors['size'])"
   ]
  },
  {
   "cell_type": "markdown",
   "metadata": {},
   "source": [
    "You may recall this from previous statistics courses."
   ]
  },
  {
   "cell_type": "markdown",
   "metadata": {},
   "source": [
    "## Sampling Distributions\n",
    "\n",
    "In the above example we drew *samples* from two *probability distributions*:\n",
    "\n",
    "* The intrinsic size distribution, ${\\rm Pr}(R_{\\rm true}|\\mu,S)$\n",
    "* The \"error\" distribution, ${\\rm Pr}(R_{\\rm obs}|R,\\sigma)$\n",
    "\n"
   ]
  },
  {
   "cell_type": "markdown",
   "metadata": {
    "collapsed": true
   },
   "source": [
    "The procedure of drawing numbers from the first, and then adding numbers from the second, produced *mock data* - which then appeared to have been drawn from:\n",
    "\n",
    "* ${\\rm Pr}(R_{\\rm obs}|\\mu,S)$"
   ]
  },
  {
   "cell_type": "markdown",
   "metadata": {
    "collapsed": false
   },
   "source": [
    "### Q: What would we do differently if we wanted to simulate 1 Galaxy, observed 1000 times?"
   ]
  },
  {
   "cell_type": "code",
   "execution_count": null,
   "metadata": {
    "collapsed": true
   },
   "outputs": [],
   "source": []
  },
  {
   "cell_type": "code",
   "execution_count": null,
   "metadata": {
    "collapsed": true
   },
   "outputs": [],
   "source": []
  }
 ],
 "metadata": {
  "kernelspec": {
   "display_name": "Python 2",
   "language": "python",
   "name": "python2"
  },
  "language_info": {
   "codemirror_mode": {
    "name": "ipython",
    "version": 2
   },
   "file_extension": ".py",
   "mimetype": "text/x-python",
   "name": "python",
   "nbconvert_exporter": "python",
   "pygments_lexer": "ipython2",
   "version": "2.7.10"
  }
 },
 "nbformat": 4,
 "nbformat_minor": 0
}
