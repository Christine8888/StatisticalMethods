{
 "cells": [
  {
   "cell_type": "markdown",
   "metadata": {
    "slideshow": {
     "slide_type": "slide"
    }
   },
   "source": [
    "# Dataset: The SDSS Photometric Catalog\n",
    "\n",
    "* The Sloan Digital Sky Survey imaged over 10,000 sq degrees of sky (about 25% of the total), automatically detecting, measuring and cataloging millions of \"objects\"."
   ]
  },
  {
   "cell_type": "markdown",
   "metadata": {
    "slideshow": {
     "slide_type": "slide"
    }
   },
   "source": [
    "# Dataset: The SDSS Photometric Catalog\n",
    "\n",
    "* While the primary data products of the SDSS was (and still are) its spectroscopic surveys, the photometric survey provides an important testing ground for dealing with pure imaging surveys like those being carried out by DES and that is planned with LSST.\n",
    "\n",
    "\n",
    "* Let's download part of the SDSS photometric object catalog and explore the measurements it contains."
   ]
  },
  {
   "cell_type": "markdown",
   "metadata": {
    "slideshow": {
     "slide_type": "slide"
    }
   },
   "source": [
    "## DR12\n",
    "\n",
    "* SDSS data release 12 (DR12) is described [at the SDSS3 website](http://www.sdss.org/dr12/) and in the survey paper by [Alam et al 2015](http://arxiv.org/abs/1501.00963). \n",
    "\n",
    "* The DR12 photometric catalog is an [online SQL database]((http://skyserver.sdss.org/dr12/en/tools/search/sql.aspx) that can be [queried](http://skyserver.sdss.org/dr12/en/help/docs/realquery.aspx) for data\n",
    "\n",
    "> Small test queries can be executed directly in the browser. Larger ones (involving more than a few tens of thousands of objects, or that involve a lot of processing) should be submitted via the [CasJobs](http://skyserver.sdss.org/CasJobs/) system."
   ]
  },
  {
   "cell_type": "markdown",
   "metadata": {
    "slideshow": {
     "slide_type": "slide"
    }
   },
   "source": [
    "## Querying the DR12 database"
   ]
  },
  {
   "cell_type": "code",
   "execution_count": null,
   "metadata": {
    "collapsed": false
   },
   "outputs": [],
   "source": [
    "exec(open('../examples/SDSScatalog/SDSS.py').read())\n",
    "%matplotlib inline"
   ]
  },
  {
   "cell_type": "code",
   "execution_count": null,
   "metadata": {
    "collapsed": false
   },
   "outputs": [],
   "source": [
    "objects = \"SELECT top 10000 \\\n",
    "ra, \\\n",
    "dec, \\\n",
    "type, \\\n",
    "dered_u as u, \\\n",
    "dered_g as g, \\\n",
    "dered_r as r, \\\n",
    "dered_i as i, \\\n",
    "petroR50_i AS size \\\n",
    "FROM PhotoObjAll \\\n",
    "WHERE \\\n",
    "((type = '3' OR type = '6') AND \\\n",
    " ra > 185.0 AND ra < 185.2 AND \\\n",
    " dec > 15.0 AND dec < 15.2)\"\n",
    "print (objects)"
   ]
  },
  {
   "cell_type": "markdown",
   "metadata": {
    "slideshow": {
     "slide_type": "slide"
    }
   },
   "source": [
    "## Querying the DR12 database"
   ]
  },
  {
   "cell_type": "code",
   "execution_count": null,
   "metadata": {
    "collapsed": false,
    "scrolled": true
   },
   "outputs": [],
   "source": [
    "# Download some data. This can take a while...\n",
    "sdssdata = select(objects)\n",
    "sdssdata.head(50)"
   ]
  },
  {
   "cell_type": "markdown",
   "metadata": {
    "slideshow": {
     "slide_type": "slide"
    }
   },
   "source": [
    "## Querying the DR12 database"
   ]
  },
  {
   "cell_type": "markdown",
   "metadata": {},
   "source": [
    "Note:\n",
    "\n",
    "* Some values of `size` are large and negative - indicating a problem with the automated measurement routine. We will need to deal with these.\n",
    "\n",
    "* _Sizes are \"effective radii\" in arcseconds. The typical resolution (\"point spread function\" effective radius) in an SDSS image is around 0.7\".\n",
    "\n",
    "Let's save this download for further use."
   ]
  },
  {
   "cell_type": "code",
   "execution_count": null,
   "metadata": {
    "collapsed": true
   },
   "outputs": [],
   "source": [
    "# !mkdir -p downloads\n",
    "# !mv SDSSobjects.csv ../examples/SDSScatalog/downloads/"
   ]
  },
  {
   "cell_type": "markdown",
   "metadata": {
    "slideshow": {
     "slide_type": "slide"
    }
   },
   "source": [
    "## Visualizing Data in N-dimensions\n",
    "\n",
    "* This is, in general, difficult.\n",
    "\n",
    "\n",
    "* Looking at all possible 1 and 2-dimensional histograms/scatter plots helps a lot. \n",
    "\n",
    "\n",
    "* Color coding can bring in a 3rd dimension ([and even a 4th](http://blogs.scientificamerican.com/sa-visual/visualizing-4-dimensional-asteroids1/)). Interactive plots and movies are also well worth thinking about.\n",
    "<br>\n",
    "\n",
    "* Here we'll follow a multi-dimensional visualization example due to [Josh Bloom](http://joshbloom.wix.com/homepage) at UC Berkeley:"
   ]
  },
  {
   "cell_type": "code",
   "execution_count": null,
   "metadata": {
    "collapsed": false,
    "slideshow": {
     "slide_type": "slide"
    }
   },
   "outputs": [],
   "source": [
    "# We'll use astronomical g-r color  as the colorizer, and then plot \n",
    "# position, magnitude, size and color against each other.\n",
    "\n",
    "data = pd.read_csv(\"../examples/SDSScatalog/downloads/SDSSobjects.csv\",usecols=[\"ra\",\"dec\",\"u\",\"g\",\\\n",
    "                                                \"r\",\"i\",\"size\"])\n",
    "\n",
    "# Filter out objects with bad magnitude or size measurements:\n",
    "data = data[(data[\"u\"] > 0) & (data[\"g\"] > 0) & (data[\"r\"] > 0) & (data[\"i\"] > 0) & (data[\"size\"] > 0)]\n",
    "\n",
    "# Log size, and g-r color, will be more useful:\n",
    "data['log_size'] = np.log10(data['size'])\n",
    "data['g-r_color'] = data['g'] - data['r']\n",
    "\n",
    "# Drop the things we're not so interested in:\n",
    "del data['u'], data['g'], data['r'], data['size']\n",
    "\n",
    "data.head()"
   ]
  },
  {
   "cell_type": "code",
   "execution_count": null,
   "metadata": {
    "collapsed": false,
    "slideshow": {
     "slide_type": "slide"
    }
   },
   "outputs": [],
   "source": [
    "# Get ready to plot:\n",
    "pd.set_option('display.max_columns', None)\n",
    "# !pip install --upgrade seaborn \n",
    "import seaborn as sns\n",
    "sns.set()"
   ]
  },
  {
   "cell_type": "code",
   "execution_count": null,
   "metadata": {
    "collapsed": false,
    "slideshow": {
     "slide_type": "slide"
    }
   },
   "outputs": [],
   "source": [
    "def plot_everything(data, colorizer, vmin=0.0, vmax=10.0):\n",
    "    # Truncate the color map to retain contrast between faint objects.\n",
    "    norm = matplotlib.colors.Normalize(vmin=vmin, vmax=vmax)\n",
    "    cmap = matplotlib.cm.jet\n",
    "    m = matplotlib.cm.ScalarMappable(norm=norm, cmap=cmap)\n",
    "    plot = pd.scatter_matrix(data, alpha=0.2, figsize=[15,15], c=m.to_rgba(data[colorizer]))\n",
    "    return\n",
    "\n",
    "plot_everything(data,'g-r_color',vmin=-1.0, vmax=3.0)"
   ]
  },
  {
   "cell_type": "markdown",
   "metadata": {
    "slideshow": {
     "slide_type": "slide"
    }
   },
   "source": [
    "## Sizes, magnitudes, colors\n",
    "\n",
    "Let's zoom in and look at the objects' (log) sizes and magnitudes."
   ]
  },
  {
   "cell_type": "code",
   "execution_count": null,
   "metadata": {
    "collapsed": false
   },
   "outputs": [],
   "source": [
    "zoom = data.copy()\n",
    "del zoom['ra'], zoom['dec'], zoom['g-r_color']\n",
    "plot_everything(zoom, 'i', vmin=15.0, vmax=21.5)"
   ]
  },
  {
   "cell_type": "markdown",
   "metadata": {
    "slideshow": {
     "slide_type": "slide"
    }
   },
   "source": [
    "### Q: What features do you notice in this plot? \n",
    "\n",
    "Talk to your neighbor for a minute or two about all the things that might be going on, and be ready to point things out to the class."
   ]
  }
 ],
 "metadata": {
  "anaconda-cloud": {},
  "celltoolbar": "Slideshow",
  "kernelspec": {
   "display_name": "Python 2",
   "language": "python",
   "name": "python2"
  },
  "language_info": {
   "codemirror_mode": {
    "name": "ipython",
    "version": 2
   },
   "file_extension": ".py",
   "mimetype": "text/x-python",
   "name": "python",
   "nbconvert_exporter": "python",
   "pygments_lexer": "ipython2",
   "version": "2.7.12"
  },
  "livereveal": {
   "scroll": true,
   "start_slideshow_at": "selected"
  }
 },
 "nbformat": 4,
 "nbformat_minor": 0
}
