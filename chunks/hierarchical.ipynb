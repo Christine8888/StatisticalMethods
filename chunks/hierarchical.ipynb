{
 "cells": [
  {
   "cell_type": "markdown",
   "metadata": {
    "slideshow": {
     "slide_type": "slide"
    }
   },
   "source": [
    "# Hierarchical Models\n",
    "\n",
    "Goals:\n",
    "* Introduce ourselves to the use of nuisance parameters and structure in models.\n",
    "* Practice devising models for more complex situations than we've seen so far."
   ]
  },
  {
   "cell_type": "markdown",
   "metadata": {
    "slideshow": {
     "slide_type": "slide"
    }
   },
   "source": [
    "## References\n",
    "\n",
    "* A\n",
    "* B\n",
    "* C"
   ]
  },
  {
   "cell_type": "markdown",
   "metadata": {
    "slideshow": {
     "slide_type": "slide"
    }
   },
   "source": [
    "## Nuisance parameters\n",
    "\n",
    "A **nuisance parameter** is any model parameter that we are not particularly interested in at the end of the day.\n",
    "\n",
    "This is an entirely subjective label - nuisance parameters are not formally treated any differently than other parameters."
   ]
  },
  {
   "cell_type": "markdown",
   "metadata": {
    "slideshow": {
     "slide_type": "slide"
    }
   },
   "source": [
    "### Nuisance parameters to encode uncertainty\n",
    "\n",
    "Including nuisance parameters in a model provides a way to *explicitly account for and marginalize over systematic uncertainties*.\n",
    "\n",
    "This can be as simple as assigning a prior distribution to some quantity that would otherwise remain fixed, or it can involve a more explicit expansion of the model.\n",
    "\n",
    "Often nuisance parameters represent **latent variables** - things that are logically or physically part of a model, but which cannot be directly measured."
   ]
  },
  {
   "cell_type": "markdown",
   "metadata": {
    "slideshow": {
     "slide_type": "slide"
    }
   },
   "source": [
    "### Example: measuring flux with a background\n",
    "\n",
    "Recall our simple measurement of a galaxy's flux based on a number of detected counts from the [Bayes Theorem chunk](bayes_theorem.ipynb):\n",
    "* $N|\\mu \\sim \\mathrm{Poisson}(\\mu)$\n",
    "* $\\mu \\sim \\mathrm{Gamma}(\\alpha,\\beta)$"
   ]
  },
  {
   "cell_type": "markdown",
   "metadata": {
    "slideshow": {
     "slide_type": "slide"
    }
   },
   "source": [
    "### Example: measuring flux with a background\n",
    "\n",
    "Let's explicitly include a constant conversion between counts and flux:\n",
    "\n",
    "* $N|\\mu \\sim \\mathrm{Poisson}(\\mu)$\n",
    "* $\\mu = C\\,F$\n",
    "* $F \\sim \\mathrm{Gamma}(\\alpha,\\beta)$\n",
    "\n",
    "Q: Why does it make sense to keep a Gamma prior on $F$ (with slightly redefined parameters)?"
   ]
  },
  {
   "cell_type": "markdown",
   "metadata": {
    "slideshow": {
     "slide_type": "slide"
    }
   },
   "source": [
    "### Example: measuring flux with a background\n",
    "The colored arrow here means \"deterministically related\".\n",
    "<table>\n",
    "    <tr>\n",
    "        <td><img src=\"../graphics/hier_poissoneg_pgm1.png\" width=100%></td>\n",
    "    </tr>\n",
    "</table>\n",
    "\n",
    "Q: What secret message describing this class is encoded in the PGM?"
   ]
  },
  {
   "cell_type": "markdown",
   "metadata": {
    "slideshow": {
     "slide_type": "slide"
    }
   },
   "source": [
    "### Example: measuring flux with a background\n",
    "\n",
    "Now let's expand the model to account for the fact that we actually measure counts from both the galaxy and the background. Being good astronomers, we also remembered to take a second measurement of a source-free (background-only) patch of sky.\n",
    "\n",
    "Subscripts: $b$ for background, $g$ for galaxy, $s$ for the science observation that includes both."
   ]
  },
  {
   "cell_type": "markdown",
   "metadata": {
    "slideshow": {
     "slide_type": "slide"
    }
   },
   "source": [
    "### Example: measuring flux with a background\n",
    "<table>\n",
    "    <tr>\n",
    "        <td><img src=\"../graphics/hier_poissoneg_pgm2.png\" width=100%></td>\n",
    "    </tr>\n",
    "</table>"
   ]
  },
  {
   "cell_type": "markdown",
   "metadata": {
    "slideshow": {
     "slide_type": "slide"
    }
   },
   "source": [
    "### Example: measuring flux with a background\n",
    "* $N_b|\\mu_b \\sim \\mathrm{Poisson}(\\mu_b)$\n",
    "* $\\mu_b = C_b\\,F_b$\n",
    "* $F_b \\sim \\mathrm{Gamma}(\\alpha_b,\\beta_b)$\n",
    "* $N_s|\\mu_s \\sim \\mathrm{Poisson}(\\mu_s)$\n",
    "* $\\mu_s = C_s(F_g+F_b)$\n",
    "* $F_g \\sim \\mathrm{Gamma}(\\alpha_g,\\beta_g)$\n",
    "\n",
    "The background quantities could be regarded as nuisance parameters here - we need to account for our uncertainty in $F_b$, but measuring it isn't the point of the analysis."
   ]
  },
  {
   "cell_type": "markdown",
   "metadata": {
    "slideshow": {
     "slide_type": "slide"
    }
   },
   "source": [
    "## Hierarchical models\n",
    "\n",
    "Often, especially in physics, the model for a data set naturally takes a hierarchical structure.\n",
    "* e.g. measurements of multiple sources inform us about a source *class*\n",
    "\n",
    "In statistics, this is related to the concept of **exchangeability** - as far as we know, individual sources of a given class are equivalent (until we measure them)."
   ]
  },
  {
   "cell_type": "markdown",
   "metadata": {
    "slideshow": {
     "slide_type": "slide"
    }
   },
   "source": [
    "### Hierarchical models\n",
    "\n",
    "In practice, the hierarchy usually takes the form of *common priors* for the individual measured sources.\n",
    "* The prior parameters describe the statistical properties of the source class, and are often what we're trying to measure.\n",
    "* Those prior parameters are therefore left free, with priors of their own, aka hyperpriors."
   ]
  },
  {
   "cell_type": "markdown",
   "metadata": {
    "slideshow": {
     "slide_type": "slide"
    }
   },
   "source": [
    "### Hierarchical models\n",
    "\n",
    "General form:\n",
    "1. $P(x|\\theta)$ describes the measurement process\n",
    "2. $P(\\theta)$ decomposes as $P(\\theta|\\phi_1)\\,P(\\phi_1)$\n",
    "2. $P(\\phi_1)$ decomposes as $P(\\phi_1|\\phi_2)\\,P(\\phi_2)$\n",
    "3. $\\ldots$ $P(\\phi_n)$, usually taken to be \"uninformative\"."
   ]
  },
  {
   "cell_type": "markdown",
   "metadata": {
    "slideshow": {
     "slide_type": "slide"
    }
   },
   "source": [
    "### Example: galaxy luminosity function\n",
    "\n",
    "Let's modify the previous example as follows\n",
    "* We're interested in luminosity rather than flux - if we know the distance to the target, this just means including another known factor in $C_g$, which now converts counts to $L$.\n",
    "* We'll measure $m>1$ galaxies, and are interested in constraining the luminosity function, traditionally modelled as\n",
    "\n",
    "$n(x) = \\phi^\\ast x^\\alpha e^{-x}; \\quad x=\\frac{L}{L^\\ast}$\n",
    "\n",
    "Here $n$ is the number density of galaxies."
   ]
  },
  {
   "cell_type": "markdown",
   "metadata": {
    "slideshow": {
     "slide_type": "slide"
    }
   },
   "source": [
    "### Example: galaxy luminosity function\n",
    "\n",
    "* For simplicity, we'll assume that we've measured *every* galaxy above a given luminosity in some volume. This is not very realistic, but we'll tackle the issues raised by incomplete data sets some other time.\n",
    "* Let's also assume that the same background applies to each galaxy measurement, and that we have a galaxy-free observation of it, as before.\n",
    "\n",
    "Now - what does the PGM for our experiment look like?"
   ]
  },
  {
   "cell_type": "markdown",
   "metadata": {
    "slideshow": {
     "slide_type": "slide"
    }
   },
   "source": [
    "### Example: measuring flux with a background\n",
    "Compressing the $L\\rightarrow N$ and $F\\rightarrow N$ conversions,\n",
    "<table>\n",
    "    <tr>\n",
    "        <td><img src=\"../graphics/hier_poissoneg_pgm3.png\" width=100%></td>\n",
    "    </tr>\n",
    "</table>"
   ]
  },
  {
   "cell_type": "markdown",
   "metadata": {
    "slideshow": {
     "slide_type": "slide"
    }
   },
   "source": [
    "## Stuff"
   ]
  },
  {
   "cell_type": "markdown",
   "metadata": {
    "slideshow": {
     "slide_type": "slide"
    }
   },
   "source": [
    "## Stuff"
   ]
  },
  {
   "cell_type": "markdown",
   "metadata": {
    "slideshow": {
     "slide_type": "slide"
    }
   },
   "source": [
    "## Stuff"
   ]
  },
  {
   "cell_type": "markdown",
   "metadata": {
    "slideshow": {
     "slide_type": "slide"
    }
   },
   "source": [
    "## Stuff"
   ]
  },
  {
   "cell_type": "markdown",
   "metadata": {
    "slideshow": {
     "slide_type": "slide"
    }
   },
   "source": [
    "## Stuff"
   ]
  },
  {
   "cell_type": "markdown",
   "metadata": {
    "slideshow": {
     "slide_type": "slide"
    }
   },
   "source": [
    "## Stuff"
   ]
  }
 ],
 "metadata": {
  "celltoolbar": "Slideshow",
  "kernelspec": {
   "display_name": "Python 2",
   "language": "python",
   "name": "python2"
  },
  "language_info": {
   "codemirror_mode": {
    "name": "ipython",
    "version": 2
   },
   "file_extension": ".py",
   "mimetype": "text/x-python",
   "name": "python",
   "nbconvert_exporter": "python",
   "pygments_lexer": "ipython2",
   "version": "2.7.12"
  },
  "livereveal": {
   "scroll": true,
   "start_slideshow_at": "selected"
  }
 },
 "nbformat": 4,
 "nbformat_minor": 0
}
