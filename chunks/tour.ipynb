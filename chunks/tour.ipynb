{
 "cells": [
  {
   "cell_type": "markdown",
   "metadata": {
    "slideshow": {
     "slide_type": "slide"
    }
   },
   "source": [
    "# A Short Tour of an Astronomical Inference\n",
    "\n",
    "Goals:\n",
    "\n",
    "* Understand what is meant by \"data\", \"noise\", and \"models\"\n",
    "* Gain some appreciation for what astronomical data is like, and what astronomers are typically trying to do"
   ]
  },
  {
   "cell_type": "markdown",
   "metadata": {
    "slideshow": {
     "slide_type": "slide"
    }
   },
   "source": [
    "### References\n",
    "\n",
    "* Ivezic Chapter 1, sections 1.1, 1.2, 1.4, 1.5, and Chapter 3, section 3.2."
   ]
  },
  {
   "cell_type": "markdown",
   "metadata": {
    "slideshow": {
     "slide_type": "slide"
    }
   },
   "source": [
    "## Data analysis\n",
    "\n",
    "* What is data?\n",
    "\n",
    "* How should we think about data in science?\n",
    "\n",
    "You probably already have an unarticulated but likely strong sense of what data is: like many other obvious things, _you know it when you see it._\n",
    "\n",
    "One of our tasks will be to define what we mean by data mathematically. We'll start by taking a short tour through a simple example astronomical data analysis, that will briefly introduce many key concepts."
   ]
  },
  {
   "cell_type": "markdown",
   "metadata": {
    "slideshow": {
     "slide_type": "slide"
    }
   },
   "source": [
    "## Data analysis in astronomy\n",
    "\n",
    "* Propose observations\n",
    "* Observe sky, collect and \"reduce\" data\n",
    "* **Explore and summarize the data**\n",
    "* **Hypothesize**, and **test**\n",
    "* **Interpret,** conclude, speculate\n",
    "* Report\n",
    "\n",
    "> This course primarily concerns the parts of the investigation listed in **bold**."
   ]
  },
  {
   "cell_type": "markdown",
   "metadata": {
    "slideshow": {
     "slide_type": "slide"
    }
   },
   "source": [
    "## Learning from data\n",
    "\n",
    "* Data analysis is _central_ to the scientific process: statistical inference is the mathematical formalization of _learning_.\n",
    "\n",
    "* The formalism is important: hypothesizing, testing, and intepreting are all potentially _very messy._"
   ]
  },
  {
   "cell_type": "markdown",
   "metadata": {
    "slideshow": {
     "slide_type": "slide"
    }
   },
   "source": [
    "## An example image dataset\n",
    "\n",
    "* In optical, X-ray and gamma-ray astronomy, the most basic datasets are *images*\n",
    "\n",
    "* Images can be 2D, from cameras, or 1D, from spectrographs, or 3D, from IFUs (integral field units). \n",
    "\n",
    "* Image data come packaged as an *array* of numbers, which we can visualize, and do calculations with.\n",
    "\n",
    "Let's look at some X-ray image data from the XMM satellite, for the galaxy cluster A1835."
   ]
  },
  {
   "cell_type": "markdown",
   "metadata": {
    "slideshow": {
     "slide_type": "slide"
    }
   },
   "source": [
    "<img src=\"../examples/XrayImage/figures/cluster_image.png\" width=70%>"
   ]
  },
  {
   "cell_type": "markdown",
   "metadata": {
    "slideshow": {
     "slide_type": "slide"
    }
   },
   "source": [
    "## What is \"data\"?\n",
    "\n",
    "* Data are *constants* (usually numbers) \n",
    "\n",
    "* That we are *handed* (typically in a data file) \n",
    "       \n",
    "* That *we hope to learn something from.*"
   ]
  },
  {
   "cell_type": "markdown",
   "metadata": {
    "slideshow": {
     "slide_type": "slide"
    }
   },
   "source": [
    "## Uncertainty \n",
    "\n",
    "Here's a zoomed in view of the central part of the A1835 XMM image:\n",
    "\n",
    "<img src=\"../examples/XrayImage/figures/cluster_image_zoom.png\" width=50%>\n",
    "\n",
    "#### 5 minutes, in Pairs:\n",
    "Why does this image look the way it does? Identify some features of it, and be prepared to explain what you don't know about it."
   ]
  },
  {
   "cell_type": "markdown",
   "metadata": {
    "slideshow": {
     "slide_type": "slide"
    }
   },
   "source": [
    "## Sources of uncertainty\n",
    "\n",
    "* Noise: \"statistical\" uncertainty, random error\n",
    "\n",
    "* Astrophysical sources: \"signal\", from the target and otherwise\n",
    "\n",
    "* Instrumental effects: variable sensitivity, point spread function blurring, vignetting, artifacts etc\n",
    "\n",
    "* Calibration: units of pixel values\n",
    "\n",
    "> See [examples/XrayImage/FirstLook.ipynb](../examples/XrayImage/FirstLook.ipynb) for more details"
   ]
  },
  {
   "cell_type": "markdown",
   "metadata": {
    "slideshow": {
     "slide_type": "slide"
    }
   },
   "source": [
    "## Coping with uncertainty\n",
    "\n",
    "* Fundamentally, learning from data (\"statistical inference\") is about being able to make a mock dataset that matches, or \"fits\", the observed one, _to within the statistical uncertainties_\n",
    "\n",
    "* Coping with statistical uncertainty means acknowledging that things could have been different: if we took the observation again we would get different pixel values.\n",
    "\n",
    "* This thought leads us to the notion of a _probability distribution for the data_"
   ]
  },
  {
   "cell_type": "markdown",
   "metadata": {
    "slideshow": {
     "slide_type": "slide"
    }
   },
   "source": [
    "## Noise\n",
    "\n",
    "* The photons arriving in our pixels seem to have been emitted, and arrive, \"at random\", giving rise to a \"noisy\" image. (You may have seen such images on TV.)\n",
    "\n",
    "* Ultimately, the source of this randomness is quantum mechanics: atoms do not emit photons at regular intervals\n",
    "\n",
    "* We expect the total number of photons arriving in each pixel during the exposure time to be well described as being drawn from a probability distribution, whose functional form we can hope to first guess and then refine."
   ]
  },
  {
   "cell_type": "markdown",
   "metadata": {
    "slideshow": {
     "slide_type": "slide"
    }
   },
   "source": [
    "## Systematics\n",
    "\n",
    "* Through the noise, we can see a variety of features in the image\n",
    "\n",
    "* Understanding these features means being able to \"predict\" them: that is, to _generate_ mock images that have the same types features.\n",
    "\n",
    "* The feature we care about most is the cluster of galaxies in the center of the field\n",
    "\n",
    "* Failure to account for the other features will introduce _systematic errors_ in our inferences"
   ]
  },
  {
   "cell_type": "markdown",
   "metadata": {
    "slideshow": {
     "slide_type": "slide"
    }
   },
   "source": [
    "## Modeling data\n",
    "\n",
    "* In order to generate mock data for comparison with our observations we need a _mathematical model_ \n",
    "\n",
    "* In practice, this model needs to be implemented in computer code.\n",
    "\n",
    "* Writing this model involves making assumptions - about both the noise and the various signals in the data\n",
    "\n",
    "* These assumptions are unavoidable"
   ]
  },
  {
   "cell_type": "markdown",
   "metadata": {
    "slideshow": {
     "slide_type": "slide"
    }
   },
   "source": [
    "## You cannot do inference without making assumptions"
   ]
  },
  {
   "cell_type": "markdown",
   "metadata": {
    "slideshow": {
     "slide_type": "slide"
    }
   },
   "source": [
    "## An example analysis\n",
    "\n",
    "Let's take a quick tour through the [following paper](https://arxiv.org/abs/1509.01322), from 2016:\n",
    "\n",
    "<img src=\"../examples/MantzEtal2016/title.png\" width=80%>\n"
   ]
  },
  {
   "cell_type": "markdown",
   "metadata": {
    "slideshow": {
     "slide_type": "slide"
    }
   },
   "source": [
    "<img src=\"../examples/MantzEtal2016/abstract.png\" width=80%>"
   ]
  },
  {
   "cell_type": "markdown",
   "metadata": {
    "slideshow": {
     "slide_type": "slide"
    }
   },
   "source": [
    "## Program\n",
    "\n",
    "* **Observe** 40 clusters, producing X-ray images and spectra\n",
    "\n",
    "* **Model** the variation in gas density and temperature with radius in each cluster, assuming spherical symmetry\n",
    "\n",
    "* **Check** how well these simple models fit the image data\n",
    "\n",
    "* **Summarize** each cluster with \"measurements\" of gas mass, overall temperature, total luminosity, total mass (assuming hydrostatic equilibrium)\n",
    "\n",
    "* **Model** the population of clusters, using simple \"scaling relations\" between their total masses and gas masses, temperatures and luminosities, using these measurements\n",
    "\n",
    "* **Check** how well this simple model fits the measurements"
   ]
  },
  {
   "cell_type": "markdown",
   "metadata": {
    "slideshow": {
     "slide_type": "slide"
    }
   },
   "source": [
    "## Modeling the cluster gas"
   ]
  },
  {
   "cell_type": "markdown",
   "metadata": {
    "slideshow": {
     "slide_type": "slide"
    }
   },
   "source": [
    "## Checking the cluster models"
   ]
  },
  {
   "cell_type": "markdown",
   "metadata": {
    "slideshow": {
     "slide_type": "slide"
    }
   },
   "source": [
    "## Summarizing/measuring each cluster"
   ]
  },
  {
   "cell_type": "markdown",
   "metadata": {
    "slideshow": {
     "slide_type": "slide"
    }
   },
   "source": [
    "## Modeling the population"
   ]
  },
  {
   "cell_type": "markdown",
   "metadata": {
    "slideshow": {
     "slide_type": "slide"
    }
   },
   "source": [
    "## Checking the population model"
   ]
  },
  {
   "cell_type": "markdown",
   "metadata": {
    "slideshow": {
     "slide_type": "slide"
    }
   },
   "source": [
    "## Take-home messages\n",
    "\n",
    "* Learning from data means making generative models \n",
    "\n",
    "* Matching models to observations allows us to cope with uncertainty \n",
    "\n",
    "* You cannot do inference without making assumptions\n",
    "\n",
    "* Assumptions can, and should, be tested, with the data\n",
    "\n",
    "* The result of one inference can be (summarized and) used as the data for a subsequent one"
   ]
  }
 ],
 "metadata": {
  "celltoolbar": "Slideshow",
  "kernelspec": {
   "display_name": "Python 2",
   "language": "python",
   "name": "python2"
  },
  "language_info": {
   "codemirror_mode": {
    "name": "ipython",
    "version": 2
   },
   "file_extension": ".py",
   "mimetype": "text/x-python",
   "name": "python",
   "nbconvert_exporter": "python",
   "pygments_lexer": "ipython2",
   "version": "2.7.12"
  },
  "livereveal": {
   "scroll": true,
   "start_slideshow_at": "selected"
  }
 },
 "nbformat": 4,
 "nbformat_minor": 0
}
