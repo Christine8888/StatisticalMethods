{
 "cells": [
  {
   "cell_type": "markdown",
   "metadata": {
    "slideshow": {
     "slide_type": "slide"
    }
   },
   "source": [
    "# A Short Tour of an Astronomical Inference\n",
    "\n",
    "Goals:\n",
    "\n",
    "* Understand what is meant by \"data\", \"noise\", and \"models\"\n",
    "* Gain some appreciation for what astronomical data is like, and what astronomers are typically trying to do"
   ]
  },
  {
   "cell_type": "markdown",
   "metadata": {
    "slideshow": {
     "slide_type": "slide"
    }
   },
   "source": [
    "### References\n",
    "\n",
    "* Ivezic Chapter 1, sections 1.1, 1.2, 1.4, 1.5, and Chapter 3, section 3.2."
   ]
  },
  {
   "cell_type": "markdown",
   "metadata": {
    "slideshow": {
     "slide_type": "slide"
    }
   },
   "source": [
    "## Data analysis\n",
    "\n",
    "* What is data?\n",
    "\n",
    "* How should we think about data in science?\n",
    "\n",
    "You probably already have an unarticulated but likely strong sense of what data is: like many other obvious things, _you know it when you see it._\n",
    "\n",
    "One of our tasks will be to define what we mean by data mathematically, but we'll start by exploring a simple example astronomical data analysis."
   ]
  },
  {
   "cell_type": "markdown",
   "metadata": {
    "slideshow": {
     "slide_type": "slide"
    }
   },
   "source": [
    "## Where do astronomical data come from? \n",
    "\n",
    "* Propose observations\n",
    "* Observe sky, collect and \"reduce\" data\n",
    "* **Explore and summarize reduced data**\n",
    "* **Hypothesize**, and **test**\n",
    "* **Interpret,** conclude, speculate\n",
    "* Report\n",
    "\n",
    "> This course concerns the parts of the investigation in **bold**."
   ]
  },
  {
   "cell_type": "markdown",
   "metadata": {
    "slideshow": {
     "slide_type": "slide"
    }
   },
   "source": [
    "## An Example Image Dataset\n",
    "\n",
    "* In optical, X-ray and gamma-ray astronomy, the most basic datasets are *images*\n",
    "\n",
    "* Images can be 2D, from cameras, or 1D, from spectrographs, or 3D, from IFUs (integral field units). \n",
    "\n",
    "* Image data come packaged as an *array* of numbers, which we can visualize, and do calculations with.\n",
    "\n",
    "Let's look at some X-ray image data from the XMM satellite, for the galaxy cluster A1835."
   ]
  },
  {
   "cell_type": "markdown",
   "metadata": {
    "slideshow": {
     "slide_type": "slide"
    }
   },
   "source": [
    "<img src=\"../examples/XrayImage/figures/cluster_image.png\" width=70%>"
   ]
  },
  {
   "cell_type": "markdown",
   "metadata": {
    "slideshow": {
     "slide_type": "slide"
    }
   },
   "source": [
    "## What is \"data\"?\n",
    "\n",
    "* Data are *constants* (usually numbers) \n",
    "\n",
    "* That we are *handed* (typically in a data file) \n",
    "       \n",
    "* That *we hope to learn something from.*"
   ]
  },
  {
   "cell_type": "markdown",
   "metadata": {
    "slideshow": {
     "slide_type": "slide"
    }
   },
   "source": [
    "## Uncertainty \n",
    "\n",
    "Here's a zoomed in view of the central part of the A1835 XMM image:\n",
    "\n",
    "<img src=\"../examples/XrayImage/figures/cluster_image_zoom.png\" width=70%>"
   ]
  },
  {
   "cell_type": "markdown",
   "metadata": {
    "slideshow": {
     "slide_type": "slide"
    }
   },
   "source": [
    "## Learning from data\n",
    "\n",
    "* Data analysis is _central_ to the scientific process: statistical inference is the mathematical formalization of _learning_.\n",
    "\n",
    "* The formalism is important: hypothesizing, testing, and inteprreting are all potentially _very messy._"
   ]
  }
 ],
 "metadata": {
  "celltoolbar": "Slideshow",
  "kernelspec": {
   "display_name": "Python 2",
   "language": "python",
   "name": "python2"
  },
  "language_info": {
   "codemirror_mode": {
    "name": "ipython",
    "version": 2
   },
   "file_extension": ".py",
   "mimetype": "text/x-python",
   "name": "python",
   "nbconvert_exporter": "python",
   "pygments_lexer": "ipython2",
   "version": "2.7.12"
  },
  "livereveal": {
   "scroll": true,
   "start_slideshow_at": "selected"
  }
 },
 "nbformat": 4,
 "nbformat_minor": 0
}
