{
 "cells": [
  {
   "cell_type": "markdown",
   "metadata": {
    "slideshow": {
     "slide_type": "slide"
    }
   },
   "source": [
    "# Generative Models\n",
    "\n",
    "Goals:\n",
    "* Introduce probabilistic graphical models in the context of generating mock data\n",
    "* Explore some of the practical aspects of simulating data\n",
    "* Walk through a simple mock data generation example "
   ]
  },
  {
   "cell_type": "markdown",
   "metadata": {
    "slideshow": {
     "slide_type": "slide"
    }
   },
   "source": [
    "## References\n",
    "\n",
    "* Ivezic \n",
    "* Bishop "
   ]
  },
  {
   "cell_type": "markdown",
   "metadata": {
    "collapsed": true,
    "slideshow": {
     "slide_type": "slide"
    }
   },
   "source": [
    "## Understanding by Modeling\n",
    "\n",
    "<table><tr width=90%>\n",
    "<td><img src=\"../graphics/tour_cluster_image.png\" height=300></td>\n",
    "<td><img src=\"../graphics/tour_cluster_image_zoom.png\" height=300></td>\n",
    "</tr></table>\n",
    "\n",
    "Understanding the features in these images means _making a model that can \"predict\" them_"
   ]
  },
  {
   "cell_type": "markdown",
   "metadata": {
    "slideshow": {
     "slide_type": "slide"
    }
   },
   "source": [
    "## When do we want to generate data?\n",
    "\n",
    "* Inference: we generate noise-free data to compare with our noisy data\n",
    "\n",
    "* Checking: to investigate whether our model is a good one or not\n",
    "\n",
    "* Testing: does our analysis recover the input model?"
   ]
  },
  {
   "cell_type": "markdown",
   "metadata": {
    "slideshow": {
     "slide_type": "slide"
    }
   },
   "source": [
    "## The Sampling Distribution\n",
    "\n",
    "* The noisy, mock data are drawn from a PDF known as the \"sampling distribution\"\n",
    "\n",
    "* In the case of an X-ray image pixel, containing mock counts $N_k$, this PDF is $P(N_k|\\mu_k,H)$\n",
    "\n",
    "* $\\mu_k$ is a parameter, the expected number of counts in the $k^{th}$ pixel\n",
    "\n",
    "* $H$ is the list of assumptions that defines our model"
   ]
  },
  {
   "cell_type": "markdown",
   "metadata": {
    "slideshow": {
     "slide_type": "slide"
    }
   },
   "source": [
    "## Conditional probability\n",
    "\n",
    "* $P((N_k|\\mu_k,H)$ is pronounced \"the probabilty for $N_k$ given $\\mu_k$ and $H$\"\n",
    "\n",
    "* This means that if you know what the value of $\\mu_k$ is, you can _draw_ a sample value of $N_k$ from $P$ - since  $H$ tells you what the functional form of $P$ is."
   ]
  },
  {
   "cell_type": "markdown",
   "metadata": {
    "slideshow": {
     "slide_type": "slide"
    }
   },
   "source": [
    "## Sampling in practice\n",
    "\n",
    "* In general, sampling from a PDF is difficult\n",
    "\n",
    "* For certain standard distributions, however, there are fast algorithms"
   ]
  },
  {
   "cell_type": "code",
   "execution_count": 1,
   "metadata": {
    "collapsed": false
   },
   "outputs": [
    {
     "data": {
      "text/plain": [
       "array([4, 4, 5, 1, 4, 5, 2, 4, 1, 4])"
      ]
     },
     "execution_count": 1,
     "metadata": {},
     "output_type": "execute_result"
    }
   ],
   "source": [
    "import scipy.stats\n",
    "\n",
    "P = scipy.stats.poisson(mu=3)\n",
    "P.rvs(size=10)"
   ]
  },
  {
   "cell_type": "markdown",
   "metadata": {
    "slideshow": {
     "slide_type": "slide"
    }
   },
   "source": [
    "## Sampling in practice\n",
    "\n",
    "* [numpy.random]() and [scipy.stats]() are two useful libraries for drawing samples from PDFs\n",
    "\n",
    "* You may have encountered some of these routines as \"random number generators\"\n",
    "\n",
    "* Sampling from a PDF means generating random numbers from that distribution"
   ]
  },
  {
   "cell_type": "markdown",
   "metadata": {
    "slideshow": {
     "slide_type": "slide"
    }
   },
   "source": [
    "## Choosing the input model parameters\n",
    "\n",
    "* When testing, we often want to assert a set of input model parameters $\\theta$, and then see what they produce\n",
    "\n",
    "* Testing at large scale might involve generating many datasets, with different inputs. In this case we might want to sample from a *plausible distribution of input parameters*\n",
    "\n",
    "* In practice: choose a particular standard probability distribution for $\\theta$ and sample from it"
   ]
  },
  {
   "cell_type": "markdown",
   "metadata": {
    "slideshow": {
     "slide_type": "slide"
    }
   },
   "source": [
    "## Deterministic relationships\n",
    "\n",
    "* Often, our model provides a deterministic relationship between parameters: if you know $\\theta$, then you know $\\mu$\n",
    "\n",
    "* In our X-ray image case, $\\theta$ could be the set of parameters that describe the gas temperature and density profiles of a spehrically symmetric cluster of galaxies with known centroid position\n",
    "\n",
    "* $\\mu(\\theta)$ would then be some complicated function that took the cluster parameters $\\theta$ as input, and predicted the expected counts at any pixel position."
   ]
  },
  {
   "cell_type": "markdown",
   "metadata": {
    "slideshow": {
     "slide_type": "slide"
    }
   },
   "source": [
    "## Probabilistic Graphical Models\n",
    "\n",
    "* This procedure for simulating a mock X-ray image dataset can be usefully illustrated with a _directed acyclic graph_ called a \"Probabilstic Graphical Model\"\n",
    "\n",
    "* In the present context these provide something like a \"flow diagram\" showing how we might draw a sample mock dataset from our model\n",
    "\n",
    "* Let's look at the PGM for a simple X-ray image simulation \n"
   ]
  },
  {
   "cell_type": "code",
   "execution_count": null,
   "metadata": {
    "collapsed": true
   },
   "outputs": [],
   "source": []
  }
 ],
 "metadata": {
  "anaconda-cloud": {},
  "celltoolbar": "Slideshow",
  "kernelspec": {
   "display_name": "Python 2",
   "language": "python",
   "name": "python2"
  },
  "language_info": {
   "codemirror_mode": {
    "name": "ipython",
    "version": 2
   },
   "file_extension": ".py",
   "mimetype": "text/x-python",
   "name": "python",
   "nbconvert_exporter": "python",
   "pygments_lexer": "ipython2",
   "version": "2.7.12"
  },
  "livereveal": {
   "scroll": true,
   "start_slideshow_at": "selected"
  }
 },
 "nbformat": 4,
 "nbformat_minor": 0
}
