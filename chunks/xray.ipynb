{
 "cells": [
  {
   "cell_type": "markdown",
   "metadata": {
    "slideshow": {
     "slide_type": "slide"
    }
   },
   "source": [
    "# Data Set: X-ray CCD Observation\n",
    "\n",
    "Modern X-ray CCDs are technologically to the CCDs used in optical astronomy. The main practical difference is that X-ray photons are rarer and their energies much higher."
   ]
  },
  {
   "cell_type": "markdown",
   "metadata": {
    "slideshow": {
     "slide_type": "slide"
    }
   },
   "source": [
    "This means\n",
    "* If we read out the CCD every few seconds, only for exceptionally bright sources will we ever have $>1$ photon hit a given pixel.\n",
    "* We no longer get 1 electron count per photon. Instead the number of counts is proportional to photon energy, which means that these imaging devices are actually imaging spectrometers.\n",
    "* When we say \"counts\" in this context, we mean \"pixel activation events\" rather than electrons trapped, so that (as in optical astronomy) we're referring to the number of photons detected."
   ]
  },
  {
   "cell_type": "markdown",
   "metadata": {
    "slideshow": {
     "slide_type": "slide"
    }
   },
   "source": [
    "Let's look at some processed data from XMM-Newton for galaxy cluster Abell 1835.\n",
    "\n",
    "Here the raw \"event list\" has been processed to form an image, so the spectral information has been discarded."
   ]
  },
  {
   "cell_type": "markdown",
   "metadata": {
    "slideshow": {
     "slide_type": "slide"
    }
   },
   "source": [
    "XMM actually has 3 CCD cameras, but we'll just work with 1 for simplicity.\n",
    "\n",
    "We'll still need 2 files\n",
    "* the image, in units of counts\n",
    "* the exposure map (units of seconds), which accounts for the exposure time and the variation in effective collecting area across the field due to shadowing"
   ]
  },
  {
   "cell_type": "code",
   "execution_count": null,
   "metadata": {
    "collapsed": false,
    "slideshow": {
     "slide_type": "fragment"
    }
   },
   "outputs": [],
   "source": [
    "import astropy.io.fits as pyfits\n",
    "import numpy as np\n",
    "datadir = '../data/a1835_xmm/'\n",
    "imagefile = datadir + 'P0098010101M2U009IMAGE_3000.FTZ'\n",
    "expmapfile = datadir + 'P0098010101M2U009EXPMAP3000.FTZ'\n",
    "\n",
    "imfits = pyfits.open(imagefile)\n",
    "exfits = pyfits.open(expmapfile)"
   ]
  },
  {
   "cell_type": "markdown",
   "metadata": {
    "slideshow": {
     "slide_type": "fragment"
    }
   },
   "source": [
    "Let's see what we've got"
   ]
  },
  {
   "cell_type": "code",
   "execution_count": null,
   "metadata": {
    "collapsed": false,
    "slideshow": {
     "slide_type": "fragment"
    }
   },
   "outputs": [],
   "source": [
    "imfits.info()\n",
    "exfits.info()"
   ]
  },
  {
   "cell_type": "markdown",
   "metadata": {
    "slideshow": {
     "slide_type": "fragment"
    }
   },
   "source": [
    "`imfits` is a FITS object, containing multiple data structures. The image itself is an array of integer type, and size 648x648 pixels, stored in the primary \"header data unit\" or HDU. `exfits` contains only the exposure map."
   ]
  },
  {
   "cell_type": "code",
   "execution_count": null,
   "metadata": {
    "collapsed": false,
    "slideshow": {
     "slide_type": "slide"
    }
   },
   "outputs": [],
   "source": [
    "im = imfits[0].data\n",
    "ex = exfits[0].data\n",
    "print(im.shape, im.dtype)\n",
    "print(ex.shape, ex.dtype)"
   ]
  },
  {
   "cell_type": "markdown",
   "metadata": {
    "slideshow": {
     "slide_type": "fragment"
    }
   },
   "source": [
    "> If we need `im` to be floating point for some reason, we would need to cast it, as in `im = imfits[0].data.astype('np.float32')`."
   ]
  },
  {
   "cell_type": "markdown",
   "metadata": {
    "slideshow": {
     "slide_type": "fragment"
    }
   },
   "source": [
    "Let's display the image and exposure map"
   ]
  },
  {
   "cell_type": "code",
   "execution_count": null,
   "metadata": {
    "collapsed": false
   },
   "outputs": [],
   "source": [
    "import matplotlib.pyplot as plt\n",
    "%matplotlib inline\n",
    "plt.rcParams['figure.figsize'] = (10.0, 10.0)\n",
    "from astropy.visualization import LogStretch\n",
    "logstretch = LogStretch()\n",
    "plt.imshow(logstretch(im), cmap='gray', origin='lower');"
   ]
  },
  {
   "cell_type": "code",
   "execution_count": null,
   "metadata": {
    "collapsed": false,
    "slideshow": {
     "slide_type": "slide"
    }
   },
   "outputs": [],
   "source": [
    "plt.imshow(ex, cmap='gray', origin='lower');"
   ]
  },
  {
   "cell_type": "markdown",
   "metadata": {
    "slideshow": {
     "slide_type": "slide"
    }
   },
   "source": [
    "**Note**: FITS images (and the arrays we read from them) are indexed according to the ancient Fortran convention, with the first index corresponding to y (line) and the second index corresponding to x (sample). `pyplot` knows about this, although we *still* need to use `origin='lower'` to display the image the right way up."
   ]
  },
  {
   "cell_type": "markdown",
   "metadata": {
    "slideshow": {
     "slide_type": "slide"
    }
   },
   "source": [
    "In the image, we can see\n",
    "1. Abell 1835 (the big blob)\n",
    "2. various other sources (smaller blobs). These are point sources (AGN) that have been smeared out by the point spread function.\n",
    "3. a roughly uniform background, consisting of unresolved AGN, diffuse X-rays from the Galactic halo and local bubble,  and events due to particles (solar wind protons and cosmic rays) interacting with the CCD\n",
    "\n",
    "Note that astrophysical X-rays are focussed through the telescope optics, so the vignetting pattern in the exposure map is imprinted on them. The dominant component of the background is particles, which are not vignetted."
   ]
  },
  {
   "cell_type": "markdown",
   "metadata": {
    "slideshow": {
     "slide_type": "slide"
    }
   },
   "source": [
    "If we're interested only in the cluster, we can make our lives slightly easier by masking out the other sources. It will be convinient to carry around a \"mask image\" of 0's and 1's indicating which pixels we should be paying attention to.\n",
    "\n",
    "It's also useful, if slightly wasteful, to define arrays of the x and y coordinates of each pixel."
   ]
  },
  {
   "cell_type": "code",
   "execution_count": null,
   "metadata": {
    "collapsed": false
   },
   "outputs": [],
   "source": [
    "nx,ny = im.shape\n",
    "xs = np.outer(np.ones(ny),np.arange(nx))\n",
    "ys = np.outer(np.arange(ny),np.ones(nx))\n",
    "plt.imshow(xs, cmap='gray', origin='lower');"
   ]
  },
  {
   "cell_type": "markdown",
   "metadata": {
    "slideshow": {
     "slide_type": "slide"
    }
   },
   "source": [
    "A list of circular (`x y radius`) regions to mask is saved in a text file. Positions are given in *image coordinates*, i.e. pixels counted from 1 (not from 0)."
   ]
  },
  {
   "cell_type": "code",
   "execution_count": null,
   "metadata": {
    "collapsed": false
   },
   "outputs": [],
   "source": [
    "mask = ex * 0.0\n",
    "mask[ex > 0.0] = 1.0 # notice only illuminated pixels\n",
    "regions = np.loadtxt(datadir + 'M2ptsrc.txt')\n",
    "for reg in regions:\n",
    "    distance2 = (xs-(reg[0]-1.0))**2 + (ys-(reg[1]-1.0))**2\n",
    "    mask[distance2 <= reg[2]**2] = 0.0\n",
    "\n",
    "plt.imshow(mask, cmap='gray', origin='lower');"
   ]
  },
  {
   "cell_type": "markdown",
   "metadata": {
    "slideshow": {
     "slide_type": "slide"
    }
   },
   "source": [
    "A model for extended emission from the cluster would be given to us in terms of surface brightness, $S$. This has units of counts/(time\\*area\\*solid angle).\n",
    "\n",
    "Multiplying by the exposure map would turn this into counts/(solid angle), apart from an overall normalization of the effective area.\n",
    "\n",
    "In other words, if `CL` is an array made by evaluating $S(x,y)$, then `CL*ex` is a counts image, just like `im` (counts/pixel, pixel being an acceptable unit of solid angle)."
   ]
  },
  {
   "cell_type": "markdown",
   "metadata": {
    "slideshow": {
     "slide_type": "slide"
    }
   },
   "source": [
    "In practice, we would also want to account for the unvignetted background, which should *not* be scaled by the exposure map. If that were given in terms of counts/pixel as `BG`, we would actually want to compare `CL*ex+BG` to `im`.\n",
    "\n",
    "(We also need to remember to account for the `mask` image, in practice.)"
   ]
  },
  {
   "cell_type": "markdown",
   "metadata": {
    "slideshow": {
     "slide_type": "slide"
    }
   },
   "source": [
    "Ok! That should be enough introduction to get you working on inference using this data set."
   ]
  }
 ],
 "metadata": {
  "anaconda-cloud": {},
  "celltoolbar": "Slideshow",
  "kernelspec": {
   "display_name": "Python [default]",
   "language": "python",
   "name": "python2"
  },
  "language_info": {
   "codemirror_mode": {
    "name": "ipython",
    "version": 2
   },
   "file_extension": ".py",
   "mimetype": "text/x-python",
   "name": "python",
   "nbconvert_exporter": "python",
   "pygments_lexer": "ipython2",
   "version": "2.7.12"
  },
  "livereveal": {
   "scroll": true,
   "start_slideshow_at": "selected"
  }
 },
 "nbformat": 4,
 "nbformat_minor": 0
}
