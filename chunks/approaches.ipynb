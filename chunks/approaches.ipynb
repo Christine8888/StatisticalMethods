{
 "cells": [
  {
   "cell_type": "markdown",
   "metadata": {
    "slideshow": {
     "slide_type": "slide"
    }
   },
   "source": [
    "# Approaches to inference\n",
    "\n",
    "Goals:\n",
    "\n",
    "* Explore the relationship between \"characterizing the posterior PDF\" and \"fitting a model to data.\"\n",
    "\n",
    "* Be able to compare, contrast and appreciate the Bayesian and Frequentist approaches to statistics"
   ]
  },
  {
   "cell_type": "markdown",
   "metadata": {
    "slideshow": {
     "slide_type": "slide"
    }
   },
   "source": [
    "## Further reading\n",
    "\n",
    "* Ivezic 3.2.2, 4.1 and 4.2\n",
    "\n",
    "* [Vanderplas (2014), \"Frequentism and Bayesianism: A Python-driven Primer\"](https://arxiv.org/abs/1411.5018)\n",
    "\n",
    "* [Hogg, Bovy & Lang (2010), \"Data analysis recipes: Fitting a model to data\"](https://arxiv.org/abs/1008.4686)"
   ]
  },
  {
   "cell_type": "markdown",
   "metadata": {
    "slideshow": {
     "slide_type": "slide"
    }
   },
   "source": [
    "## The period-magnitude relation in Cepheid stars\n",
    "\n",
    "* Cepheids star brightness oscillates with a stable period that appears to be strongly correlated with their mean luminosity (or absolute magnitude).\n",
    "\n",
    "* In the [\"cepheids\"](cepheids.ipynb) notebook we looked at some Cepheid measurements reported by [Riess et al (2011)](https://arxiv.org/abs/1103.2976), and in the [\"straight line\"](straight_line.ipynb) notebook we inferred the parameters of a simple relationship between Cepheid period and apparent magnitude.\n",
    "\n",
    "* Let's revisit some of the ingredients of that inference, and look at some alternative approaches to investigating our model using the data."
   ]
  },
  {
   "cell_type": "markdown",
   "metadata": {
    "slideshow": {
     "slide_type": "slide"
    }
   },
   "source": [
    "<img src=\"../graphics/cepheid_data.png\" width=100%>"
   ]
  },
  {
   "cell_type": "markdown",
   "metadata": {
    "slideshow": {
     "slide_type": "slide"
    }
   },
   "source": [
    "## The model, and the data\n",
    "\n",
    "* Let's assume that Cepheid stars' luminosities are related to their oscillation periods by a power law, such that their apparent magnitude and log period follow the straight line relation\n",
    "\n",
    "$\\;\\;\\;\\;\\;\\;\\;m = a\\;\\log_{10} P + b$\n",
    "\n",
    "* The data consist of *observed magnitudes with quoted uncertainties*, such as: \n",
    "\n",
    "$\\;\\;\\;\\;\\;\\;\\;m^{\\rm obs} = 24.51 \\pm 0.31$ at $\\log_{10} P = \\log_{10} (13.0/{\\rm days})$"
   ]
  },
  {
   "cell_type": "markdown",
   "metadata": {
    "slideshow": {
     "slide_type": "slide"
    }
   },
   "source": [
    "## The Bayesian solution\n",
    "\n",
    "* Compute the posterior PDF for the parameters $a$ and $b$ given the data and the assumed model: \n",
    "\n",
    "### $\\;\\;\\;\\;\\;{\\rm Pr}(a,b|\\boldsymbol{m}^{\\rm obs},H) \\propto {\\rm Pr}(\\boldsymbol{m}^{\\rm obs}|a,b,H)\\;{\\rm Pr}(a,b|H)$\n",
    "\n",
    "* We evaluated the unnormalized posterior PDF on a grid, renormalized it numerically, and then visualized and summarized the resulting 2D function."
   ]
  },
  {
   "cell_type": "markdown",
   "metadata": {
    "slideshow": {
     "slide_type": "slide"
    }
   },
   "source": [
    "## Fitting the data\n",
    "\n",
    "* The Bayesian solution is not a single set of \"best-fit\" parameters. \n",
    "\n",
    "* We can think of the posterior PDF as providing us with a continuous distribution of model fits that are _plausible_ given the data and our assumptions.\n",
    "\n",
<<<<<<< Updated upstream
    "* There are other methods for finding the parameters that _best fit_ the data: the pimary one is \"the method of Maximum Likelihood\""
=======
    "* There are other ways of defining the parameters that _best fit_ the data: the primary one is \"the method of Maximum Likelihood\""
>>>>>>> Stashed changes
   ]
  },
  {
   "cell_type": "markdown",
   "metadata": {
    "slideshow": {
     "slide_type": "slide"
    }
   },
   "source": [
    "## Maximum likelihood\n",
    "\n",
    "* Instead of asking for the posterior probability for the parameters given the data, ${\\rm Pr}(a,b|\\boldsymbol{m}^{\\rm obs},H)$, we could find the parameters that maximize the probability of getting the data: ${\\rm Pr}(\\boldsymbol{m}^{\\rm obs}|a,b,H)$\n",
    "\n",
<<<<<<< Updated upstream
    "  > In astronomy, \"best fit\" almost always means \"maximum likelihood\" \n",
=======
    "  > In astronomy, \"best fit\" often (but not always) means \"maximum likelihood\"\n",
>>>>>>> Stashed changes
    "\n",
    "* Where does this emphasis on the likelihood, rather than the posterior come from?"
   ]
  },
  {
   "cell_type": "markdown",
   "metadata": {
    "slideshow": {
     "slide_type": "slide"
    }
   },
   "source": [
    "## Frequentism\n",
    "\n",
    "* In the frequentist school of statistics, parameters do not have probability distributions. Probability can only be used to describe _frequencies_, not _degrees of belief_ or _odds_. \n",
    "\n",
    "* In the frequentist view, the data can be modeled as having been drawn from a probability distribution, because we can imagine doing the experiment or observation multiple times, and building up a _frequency_ distribution of results.\n",
    "\n",
    "* This distribution is the sampling distribution, e.g. ${\\rm Pr}(\\boldsymbol{m}^{\\rm obs}|a,b,H)$"
   ]
  },
  {
   "cell_type": "markdown",
   "metadata": {
    "slideshow": {
     "slide_type": "slide"
    }
   },
   "source": [
    "## Frequentism\n",
    "\n",
    "* Given an assumed model, the frequentist view is that there is only one set of parameters, the true ones, and our job is to _estimate_ them.\n",
    "\n",
    "* Derivation of good estimators is a major activity in frequentist statistics, and has led to some powerful mathematical results and fast computational shortcuts."
   ]
  },
  {
   "cell_type": "markdown",
   "metadata": {
    "slideshow": {
     "slide_type": "slide"
    }
   },
   "source": [
    "## Maximum likelihood estimators\n",
    "\n",
    "* The _likelihood principle_ holds that all of the information in the data that is relevant to the model parameters is contained in the likelihood function $\\mathcal{L}(a,b) = {\\rm Pr}(\\boldsymbol{m}^{\\rm obs}|a,b,H)$\n",
    "\n",
    "> This was evident in our Bayesian treatment, PGMs etc too: Frequentists and Bayesians are in full agreement about the importance of the likelihood function!\n",
    "\n",
    "* As a result of this focus, Maximum Likelihood estimators (MLEs) have some good properties"
   ]
  },
  {
   "cell_type": "markdown",
   "metadata": {
    "slideshow": {
     "slide_type": "slide"
    }
   },
   "source": [
    "## Maximum likelihood estimators\n",
    "\n",
    "* Consistency: as more data are taken, the MLE tends towards the true parameter value if the model is correct. \n",
    "\n",
    "> MLEs can be \"biased\" but this bias goes to zero as $N_{\\rm data} \\rightarrow \\infty$ \n",
    "\n",
    "* Efficiency: among estimators, MLEs have the minimum variance when sampled over datasets\n",
    "\n",
    "* Asymptotic Normality: as the dataset size increases, the distribution of MLEs over datasets tends to a Gaussian centred at the true parameter value.\n",
    "\n",
    "> The covariance of this ultimate Gaussian distribution is the inverse of the \"Fisher information matrix\""
   ]
  },
  {
   "cell_type": "markdown",
   "metadata": {
    "slideshow": {
     "slide_type": "slide"
    }
   },
   "source": [
    "## Maximum likelihood\n",
    "\n",
    "* In our Cepheid straight line fit, we can derive MLEs for our parameters by finding the maximum (log) likelihood parameters analytically\n",
    "\n",
    "$\\log \\mathcal{L}(a,b) = \\log {\\rm Pr}(\\boldsymbol{m}^{\\rm obs}|a,b,H)$\n",
    "$\\;\\;\\;\\;\\;\\;\\;\\;\\;\\;\\;\\;\\;\\;= -\\frac{1}{2}\\sum_k \\log{2\\pi\\sigma_k^2} - \\frac{1}{2} \\sum_k \\frac{(m^{\\rm obs}_k - a\\log{P_k} - b)^2}{\\sigma_k^2}$\n",
    "\n",
    "* That is, we need to find the parameters $(\\hat{a}, \\hat{b})$ that give\n",
    "\n",
    "$\\;\\;\\;\\;\\;\\;\\; -2 \\nabla \\log L(a,b) = \\nabla\\,\\chi^2$ = 0\n",
    "\n",
    "> NB: Maximizing a Gaussian likelihood is equivalent to minimizing $\\chi^2$ - and gives a \"least squares\" fit"
   ]
  },
  {
   "cell_type": "markdown",
   "metadata": {
    "slideshow": {
     "slide_type": "slide"
    }
   },
   "source": [
    "## Maximum likelihood\n",
    "\n",
    "The result in this case is a pair of equations that we can solve for the best-fit parameters $(\\hat{a}, \\hat{b})$, that give the smallest misfit between observed and model-predicted data\n",
    "\n",
    "Writing $x = \\log{P}$ and $y = m^{\\rm obs}$, we have\n",
    "\n",
    "$\\frac{\\partial \\log L}{\\partial a}\\Bigr|_{\\hat{a},\\hat{b}} =  \\sum_k \\frac{x_k(y_k - \\hat{a}x_k - \\hat{b})}{\\sigma_k^2} = 0 \\longrightarrow   \\hat{a} \\sum_k \\frac{x_k^2}{\\sigma_k^2} + \\hat{b} \\sum_k \\frac{x_k}{\\sigma_k^2} = \\sum_k \\frac{x_k y_k}{\\sigma_k^2}$\n",
    "\n",
    "$\\frac{\\partial \\log L}{\\partial b}\\Bigr|_{\\hat{a},\\hat{b}} =  \\sum_k \\frac{(y_k - \\hat{a}x_k - \\hat{b})}{\\sigma_k^2} = 0 \\longrightarrow \\hat{a} \\sum_k \\frac{x_k}{\\sigma_k^2} + \\hat{b} \\sum_k \\frac{1}{\\sigma_k^2} = \\sum_k \\frac{y_k}{\\sigma_k^2}$"
   ]
  },
  {
   "cell_type": "markdown",
   "metadata": {
    "slideshow": {
     "slide_type": "slide"
    }
   },
   "source": [
    "## Maximum likelihood\n",
    "\n",
    "This set of linear equations can be solved straightforwardly to find the _estimators_ $\\hat{a}$ and $\\hat{b}$:\n",
    "\n",
    "$\\mathcal{M} \\boldsymbol{\\theta} = \\boldsymbol{v} \\longrightarrow \\begin{pmatrix} S_{xx} & S_{x} \\\\ S_x & S_0 \\end{pmatrix} \\begin{pmatrix} \\hat{a} & \\hat{b} \\end{pmatrix} = \\begin{pmatrix} S_{xy} \\\\ S_{y} \\end{pmatrix}$\n",
    "\n",
    "> All the information in the data that is needed to find the best-fit parameters is contained in a set of so-called **sufficient statistics** packaged in $\\mathcal{M}$ and $\\nu$. This is a common feature of maximum likelihod estimators"
   ]
  },
  {
   "cell_type": "markdown",
   "metadata": {
    "slideshow": {
     "slide_type": "slide"
    }
   },
   "source": [
    "## Maximum likelihood\n",
    "\n",
    "Let's find the maximum likelihood parameters in the Cepheid problem."
   ]
  },
  {
   "cell_type": "code",
   "execution_count": 2,
   "metadata": {
    "collapsed": true,
    "slideshow": {
     "slide_type": "-"
    }
   },
   "outputs": [],
   "source": [
    "exec(open('../code/cepheids.py').read())\n",
    "%matplotlib inline\n",
    "plt.rcParams['figure.figsize'] = (15.0, 8.0)\n",
    "\n",
    "data = Cepheids('../examples/Cepheids/R11ceph.dat')"
   ]
  },
  {
   "cell_type": "code",
   "execution_count": 3,
   "metadata": {
    "collapsed": false
   },
   "outputs": [
    {
     "name": "stdout",
     "output_type": "stream",
     "text": [
      "\\hat{a} = -2.95\n",
      "\\hat{b} = 26.26\n"
     ]
    }
   ],
   "source": [
    "data.select(4258)\n",
    "M, v = data.sufficient_statistics()\n",
    "a, b = np.linalg.solve(M, v)\n",
    "print('\\hat{a} = %.2f' % np.round(a, 2))\n",
    "print('\\hat{b} = %.2f' % np.round(b, 2))"
   ]
  },
  {
   "cell_type": "markdown",
   "metadata": {
    "slideshow": {
     "slide_type": "slide"
    }
   },
   "source": [
    "## Visualizing the best fit model"
   ]
  },
  {
   "cell_type": "code",
   "execution_count": 4,
   "metadata": {
    "collapsed": false,
    "slideshow": {
     "slide_type": "-"
    }
   },
   "outputs": [
    {
     "data": {
      "image/png": "iVBORw0KGgoAAAANSUhEUgAAA4kAAAIRCAYAAADnbPjPAAAABHNCSVQICAgIfAhkiAAAAAlwSFlz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\n",
      "text/plain": [
       "<matplotlib.figure.Figure at 0x1061ef110>"
      ]
     },
     "metadata": {},
     "output_type": "display_data"
    }
   ],
   "source": [
    "data.plot(4258)\n",
    "\n",
    "data.overlay_straight_line_with(a=a, b=b, label='Maximum Likelihood')\n",
    "\n",
    "data.add_legend()"
   ]
  },
  {
   "cell_type": "markdown",
   "metadata": {
    "slideshow": {
     "slide_type": "slide"
    }
   },
   "source": [
    "## Uncertainties in the estimators\n",
    "\n",
<<<<<<< Updated upstream
    "* In this example, the covariance matrix of the parameter estimators is $(\\mathcal{M}^T C^{-1} \\mathcal{M})^{-1}$, where $C$ is the covariance matrix of the data, i.e. diagonal, with elements equal to the squared uncertainties on each datapoint\n",
=======
    "* In frequentism, we think of the estimators having frequency distributions, since each dataset that we imagine being drawn from the sampling distribution will produce one estimator. \n",
    "\n",
    "* An ensemble of (hypothetical) datasets leads to a (hypothetical) distribution of estimators"
   ]
  },
  {
   "cell_type": "markdown",
   "metadata": {
    "slideshow": {
     "slide_type": "slide"
    }
   },
   "source": [
    "## Uncertainties in the estimators\n",
    "\n",
    "* The distribution of the log likelihood itself over the hypothetical ensemble of datasets provides a route to a confidence interval.\n",
    "\n",
    "* In our simple Gaussian likelihood example, and also in the large dataset limit, the $\\chi^2$ statistic follows a $\\chi^2$ distribution with the same number of degrees of freedom as the dimensionality of the parameter space. Integrating this distribution from 0 to some boundary $\\Delta \\chi^2_{D}$ defines a _confidence region_."
   ]
  },
  {
   "cell_type": "markdown",
   "metadata": {
    "slideshow": {
     "slide_type": "slide"
    }
   },
   "source": [
    "## Uncertainties in the estimators\n",
    "\n",
    "* For example: in 1D, the 68% confidence region is bounded by the contour at $\\chi^2_{\\rm min} + \\Delta \\chi^2_{D}$ where $\\Delta \\chi^2_{D} = 1$ in 1D, and $\\Delta \\chi^2_{D} = 2.30$ in 2D. \n",
    "\n",
    "* In the 1D case, the boundary of the 68% confidence interval lies 1 standard deviation (or \"1-sigma\") from the mean.\n",
    "\n",
    "> In general, $\\Delta \\chi^2_{D}$ can be computed from the $\\chi^2$ distribution \"inverse survival function\", e.g.  `scipy.stats.chi2.isf(1.0-0.683, D)`"
   ]
  },
  {
   "cell_type": "markdown",
   "metadata": {
    "slideshow": {
     "slide_type": "slide"
    }
   },
   "source": [
    "## Uncertainties in the estimators\n",
    "\n",
    "* In our _linear_ example, the likelihood is Gaussian in the estimators $\\boldsymbol{\\hat{\\theta}}$. The exponent is:\n",
    "\n",
    "$\\;\\;\\;\\;\\;\\frac{\\chi^2}{2} = \\frac{1}{2}(\\boldsymbol{\\hat{\\theta}} - \\boldsymbol{\\theta})^T (\\mathcal{M}^T C^{-1} \\mathcal{M})^{-1} (\\boldsymbol{\\hat{\\theta}} - \\boldsymbol{\\theta})$, \n",
>>>>>>> Stashed changes
    "\n",
    "> In general, the covariance matrix of the parameters has to be derived, often using simplifying assumptions (such as the asymptotic normality property of MLEs)\n",
    "\n",
    "* This covariance matrix defines a 1-sigma 2D _confidence interval_, a region that we expect to contain the true parameter value 68% of the time"
   ]
  },
  {
   "cell_type": "markdown",
   "metadata": {
    "slideshow": {
     "slide_type": "slide"
    }
   },
   "source": [
<<<<<<< Updated upstream
    "## Wording\n",
    "\n",
    "* Frequentist confidence intervals are different from Bayesian credible regions:\n",
=======
    "## Uncertainties in the estimators\n",
    "\n",
    "* More generally, we can use the asymptotic normality property of MLEs, and associate a _Gaussian approximation to the likelihood_ with the Gaussian distribution for the MLEs we expect to see when averaging over datasets\n",
    "\n",
    "* The covariance matrix of this Gaussian approximation can be calculated by taking second derivatives of the log likelihood at the peak, and inverting the resulting _Hessian_ matrix: \n",
    "\n",
    "$\\;\\;\\;\\;\\;V^{-1}_{ij} \\geq -\\frac{\\partial^2 \\log{L}}{\\partial\\theta_i\\partial\\theta_j} \\biggr|_{\\boldsymbol{\\hat{\\theta}}}$\n",
    "\n",
    "> [`scipy.optimize.minimize`](https://docs.scipy.org/doc/scipy-0.18.1/reference/generated/scipy.optimize.minimize.html) returns $V$ as `hess_inv` if you pass it the negative log likelihood."
   ]
  },
  {
   "cell_type": "code",
   "execution_count": 5,
   "metadata": {
    "collapsed": false,
    "slideshow": {
     "slide_type": "slide"
    }
   },
   "outputs": [
    {
     "name": "stdout",
     "output_type": "stream",
     "text": [
      "      fun: 544.3090872704091\n",
      " hess_inv: array([[ 0.00384456, -0.0057908 ],\n",
      "       [-0.0057908 ,  0.00913226]])\n",
      "      jac: array([ 0.,  0.])\n",
      "  message: 'Optimization terminated successfully.'\n",
      "     nfev: 44\n",
      "      nit: 6\n",
      "     njev: 11\n",
      "   status: 0\n",
      "  success: True\n",
      "        x: array([ -2.94832739,  26.26490169])\n"
     ]
    }
   ],
   "source": [
    "# Generalized maximum likelihood approach:\n",
>>>>>>> Stashed changes
    "\n",
    "> \"68% of datasets would give 1-sigma frequentist confidence intervals that contain the true parameter value\"\n",
    "\n",
    "> \"The probability of the true parameter value lying within the 1-sigma Bayesian credible region is 68%\"\n",
    "\n",
<<<<<<< Updated upstream
    "The difference in wording comes from the two different definitions of probability"
=======
    "print result"
   ]
  },
  {
   "cell_type": "code",
   "execution_count": 6,
   "metadata": {
    "collapsed": false
   },
   "outputs": [
    {
     "data": {
      "text/plain": [
       "(0.062004476866288384, 0.095562865140022643)"
      ]
     },
     "execution_count": 6,
     "metadata": {},
     "output_type": "execute_result"
    }
   ],
   "source": [
    "C = result.hess_inv\n",
    "np.sqrt(C[0,0]), np.sqrt(C[1,1])"
>>>>>>> Stashed changes
   ]
  },
  {
   "cell_type": "markdown",
   "metadata": {
    "slideshow": {
     "slide_type": "slide"
    }
   },
   "source": [
<<<<<<< Updated upstream
    "## Frequentism and Bayesianism\n",
    "\n",
    "* In frequentism, the data are considered to be random variables (in large sets of hypothetical trials described with probability distributions) while parameters are considered fixed (and to be estimated)\n",
    "\n",
    "* In Bayesianism, the data are considered to be fixed (as constants, in datafiles) while parameters are considered random variables (to be inferred, with uncertainty described by probability distributions)"
=======
    "## Uncertainties in the estimators\n",
    "\n",
    "* The covariance matrix of a Gaussian approximation to the likelihood defines a 1-sigma, 2D, elliptical, _frequentist confidence interval_\n",
    "\n",
    "* Since this came from transforming the sampling distribution, which is a PDF over datasets, the confidence interval enables conclusions in terms of fractions of an ensemble of datasets\n",
    "\n",
    "* The 68% confidence interval is the region that we expect to contain the true parameter value 68% of the time"
>>>>>>> Stashed changes
   ]
  },
  {
   "cell_type": "markdown",
   "metadata": {
    "slideshow": {
     "slide_type": "slide"
    }
   },
   "source": [
<<<<<<< Updated upstream
    "## Frequentism and Bayesianism\n",
    "\n",
    "Given an assumed model:\n",
    "\n",
    "* Frequentists seek to _transform_ the frequency distribution of the data into a frequency distribution of their estimators, and hence quantify their uncertainty in terms of _what they expect would happen if the observation were to be repeated_  \n",
    "  \n",
    "* Bayesians seek to _update their beliefs_ about their model parameters, and hence quantify their uncertainty in terms of _what might have been had the observation been different_, and _what they knew before the data were taken_\n",
    "\n",
    "#### Q: Which approach is better matched to science?"
=======
    "## Wording\n",
    "\n",
    "* Frequentist confidence intervals are _different_ from Bayesian credible regions:\n",
    "\n",
    "> \"68% of datasets would give a 68% frequentist confidence interval that contains the true parameter value\"\n",
    "\n",
    "> \"The probability of the true parameter value lying within the 68% Bayesian credible region is 68%\"\n",
    "\n",
    "* The difference in wording comes from the two different definitions of probability"
>>>>>>> Stashed changes
   ]
  },
  {
   "cell_type": "markdown",
   "metadata": {
    "slideshow": {
     "slide_type": "slide"
    }
   },
   "source": [
    "## Frequentism vs. Bayesianism\n",
    "\n",
    "\n",
    "* \"You have to assume a prior\""
   ]
  },
  {
   "cell_type": "markdown",
   "metadata": {
    "slideshow": {
     "slide_type": "fragment"
    }
   },
   "source": [
<<<<<<< Updated upstream
    "* \"You get to assume a prior\""
=======
    "## Frequentism and Bayesianism\n",
    "\n",
    "Given an assumed model:\n",
    "\n",
    "* Frequentists seek to _transform_ the frequency distribution of the data into a frequency distribution of their estimators, and hence quantify their uncertainty in terms of _what they expect would happen if the observation were to be repeated_  \n",
    "  \n",
    "* Bayesians seek to _update their beliefs_ about their model parameters, and hence quantify their uncertainty in terms of _what might have been had the observation been different_, and _what they knew before the data were taken_"
   ]
  },
  {
   "cell_type": "markdown",
   "metadata": {
    "slideshow": {
     "slide_type": "fragment"
    }
   },
   "source": [
    "#### Q: Which approach is better matched to science?"
>>>>>>> Stashed changes
   ]
  },
  {
   "cell_type": "markdown",
   "metadata": {
    "slideshow": {
     "slide_type": "fragment"
    }
   },
   "source": [
<<<<<<< Updated upstream
    "* \"Your calculations are computationally expensive\""
=======
    "## Discussion: Frequentism vs. Bayesianism\n",
    "\n",
    "\n",
    "* \"You have to assume a prior\" cf. \"You get to assume a prior\""
>>>>>>> Stashed changes
   ]
  },
  {
   "cell_type": "markdown",
   "metadata": {
    "slideshow": {
     "slide_type": "fragment"
    }
   },
   "source": [
    "* \"Your conclusions are not relevant\""
   ]
  },
  {
   "cell_type": "markdown",
   "metadata": {
    "slideshow": {
     "slide_type": "fragment"
    }
   },
   "source": [
    "* \"How do you know what prior to assign?\""
   ]
  },
  {
   "cell_type": "markdown",
   "metadata": {
    "slideshow": {
     "slide_type": "fragment"
    }
   },
   "source": [
    "* \"How do you account for your nuisance parameters?\""
   ]
  },
  {
   "cell_type": "markdown",
   "metadata": {
    "slideshow": {
     "slide_type": "slide"
    }
   },
   "source": [
    "## Things to remember\n",
    "\n",
    "* The most important thing is to _know what you are doing_, and to _communicate that clearly to others_\n",
    "\n",
    "* Both approaches involve generative models, and assumptions which must be recorded and tested\n",
    "\n",
    "* The Bayesian approach provides a logical framework for combining datasets and additional information, and provides answers in terms of the probability distribution for the model parameters\n",
    "\n",
    "* The Frequentist approach provides a way of studying the model independent of additional information, and provides answers in terms of the probability of getting the data"
   ]
  },
  {
   "cell_type": "markdown",
   "metadata": {
    "slideshow": {
     "slide_type": "slide"
    }
   },
   "source": [
    "## Endnote\n",
    "\n",
<<<<<<< Updated upstream
    "* The astronomy literature contains a mixture of frequentist and Bayesian analysis, sometimes within the same paper!\n",
    "\n",
    "* Frequentist estimators often make good _summary statistics_ with well understood sampling distributions: astronomical catalogs are full of them!\n",
=======
    "* The astronomy literature contains a mixture of frequentist and Bayesian analysis, _sometimes within the same paper_\n",
    "\n",
    "* Frequentist estimators often make excellent _summary statistics_ with well understood sampling distributions: astronomical catalogs are full of such data\n",
>>>>>>> Stashed changes
    "\n",
    "* In most of this course we follow the Bayesian approach, but we'll keep our eyes open!\n",
    "\n"
   ]
  }
 ],
 "metadata": {
  "anaconda-cloud": {},
  "celltoolbar": "Slideshow",
  "kernelspec": {
   "display_name": "Python 2",
   "language": "python",
   "name": "python2"
  },
  "language_info": {
   "codemirror_mode": {
    "name": "ipython",
    "version": 2
   },
   "file_extension": ".py",
   "mimetype": "text/x-python",
   "name": "python",
   "nbconvert_exporter": "python",
   "pygments_lexer": "ipython2",
   "version": "2.7.12"
  },
  "livereveal": {
   "scroll": true,
   "start_slideshow_at": "selected"
  }
 },
 "nbformat": 4,
 "nbformat_minor": 0
}
