{
 "cells": [
  {
   "cell_type": "markdown",
   "metadata": {},
   "source": [
    "# PHYS366: Statistical Methods in Astrophysics\n",
    "\n",
    "\n",
    "### [Lesson 1: Exploring Data](lessons/1.ExploringData.ipynb)\n",
    "### [Lesson 2: Understanding From Data](lessons/2.UnderstandingFromData.ipynb)\n",
    "### [Lesson 3: Inference in Practice: PDF Characterization](lessons/3.PDFCharacterization.ipynb)\n",
    "### [Lesson 4: Inference in Practice: Sampling Techniques](lessons/4.SamplingTechniques.ipynb)\n",
    "### [Lesson 5: Inference in Practice: Coping With Complications](lessons/5.CopingWithComplications.ipynb)\n",
    "### [Lesson 6: Inference in Practice: Evaluating Models](lessons/6.EvaluatingModels.ipynb)\n",
    "### [Lesson 7: Applications in Astroparticle Physics](lessons/7.ApplicationsInAstroparticlePhysics.ipynb)\n",
    "### [Lesson 8: Applications in Cosmology](lessons/8.ApplicationsInCosmology.ipynb)\n",
    "### [Lesson 9: Machine Learning](lessons/9.MachineLearning.ipynb)\n",
    "### [Lesson 10: Project Presentations](lessons/10.ProjectPresentations.ipynb)\n",
    "\n"
   ]
  }
 ],
 "metadata": {
  "kernelspec": {
   "display_name": "Python 2",
   "language": "python",
   "name": "python2"
  },
  "language_info": {
   "codemirror_mode": {
    "name": "ipython",
    "version": 2
   },
   "file_extension": ".py",
   "mimetype": "text/x-python",
   "name": "python",
   "nbconvert_exporter": "python",
   "pygments_lexer": "ipython2",
   "version": "2.7.11"
  }
 },
 "nbformat": 4,
 "nbformat_minor": 0
}
