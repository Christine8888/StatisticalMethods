{
 "cells": [
  {
   "cell_type": "markdown",
   "metadata": {
    "slideshow": {
     "slide_type": "slide"
    }
   },
   "source": [
    "# PHYS366: Statistical Methods in Astrophysics\n",
    "\n",
    "*Adam Mantz & Phil Marshall, Winter 2017*\n",
    "\n",
    "## [Introduction to the Course](chunks/about.ipynb)\n",
    "\n",
    "## [A Short Tour of an Inference Problem](chunks/tour.ipynb)\n",
    "\n",
    "## [Review of Probability Theory](chunks/probability.ipynb)\n",
    "\n",
    "## [Generative Models (Model Building I)](chunks/)\n",
    "\n",
    "## [Bayes Theorem](chunks/bayes_theorem.ipynb)\n",
    "\n",
    "## [Fitting a Straight Line](chunks/)\n",
    "\n",
    "## [Monte Carlo Sampling](chunks/montecarlo1.ipynb)\n",
    "\n",
    "## [Hierarchical Models (Model Building II)](chunks/hierarchical.ipynb)\n",
    "\n",
    "## [Monte Carlo Sampling II](chunks/montecarlo2.ipynb)\n",
    "\n",
    "## [Model Evaluation and Comparison](chunks/)\n",
    "\n",
    "## [\"Model-free\" Models (Model Building III)](chunks/)\n",
    "\n",
    "## [Monte Carlo Sampling III](chunks/)\n",
    "\n",
    "## [Machine Learning](chunks/)\n",
    "\n",
    "## [Detection, and Fishing Expeditions](chunks/)\n",
    "\n",
    "## [Model Building IV](chunks/)\n",
    "\n",
    "## [The Curse of Dimensionality](chunks/)"
   ]
  }
 ],
 "metadata": {
  "celltoolbar": "Slideshow",
  "kernelspec": {
   "display_name": "Python 2",
   "language": "python",
   "name": "python2"
  },
  "language_info": {
   "codemirror_mode": {
    "name": "ipython",
    "version": 2
   },
   "file_extension": ".py",
   "mimetype": "text/x-python",
   "name": "python",
   "nbconvert_exporter": "python",
   "pygments_lexer": "ipython2",
   "version": "2.7.12"
  },
  "livereveal": {
   "scroll": true,
   "start_slideshow_at": "selected"
  }
 },
 "nbformat": 4,
 "nbformat_minor": 0
}
