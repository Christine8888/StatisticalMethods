{
 "cells": [
  {
   "cell_type": "markdown",
   "metadata": {
    "slideshow": {
     "slide_type": "slide"
    }
   },
   "source": [
    "# Statistical Methods in Astrophysics\n",
    "\n",
    "<br>\n",
    "\n",
    "### Physics 366\n",
    "\n",
    "<br> \n",
    "Instructors: Adam Mantz & Phil Marshall"
   ]
  },
  {
   "cell_type": "markdown",
   "metadata": {
    "slideshow": {
     "slide_type": "slide"
    }
   },
   "source": [
    "# About this course\n",
    "\n",
    "Goals:\n",
    "* Explain what the course is and how it works\n",
    "* Provide a brief overview of what's coming"
   ]
  },
  {
   "cell_type": "markdown",
   "metadata": {
    "slideshow": {
     "slide_type": "slide"
    }
   },
   "source": [
    "## Who we are\n",
    "\n",
    "* Adam Mantz, Staff Scientist, Stanford/KIPAC\n",
    "* Phil Marshall, Staff Scientist, SLAC/KIPAC"
   ]
  },
  {
   "cell_type": "markdown",
   "metadata": {
    "slideshow": {
     "slide_type": "slide"
    }
   },
   "source": [
    "## What the course is\n",
    "\n",
    "In a nutshell, this class is about *how data are turned into conclusions*.\n",
    "\n",
    "The examples and problems are taken from astrophysics, but otherwise the content is extremely general."
   ]
  },
  {
   "cell_type": "markdown",
   "metadata": {
    "slideshow": {
     "slide_type": "slide"
    }
   },
   "source": [
    "The scientific process:\n",
    "* Propose observations\n",
    "* Observe sky, collect and \"reduce\" data\n",
    "* **Explore and summarize the data**\n",
    "* **Hypothesize and test**\n",
    "* **Interpret, conclude**, speculate\n",
    "* Report\n",
    "\n",
    "\"Turning data into conclusions\" broadly refers to the **bold** items."
   ]
  },
  {
   "cell_type": "markdown",
   "metadata": {
    "slideshow": {
     "slide_type": "slide"
    }
   },
   "source": [
    "### Our goals (for you)\n",
    "\n",
    "* Develop familiarity in working with various types of (astronomical) data\n",
    "* Understand the key role of _modeling_ in data analysis \n",
    "* Be able to _critically evaluate and apply_ commonly used statistical inference methodologies and advanced statistical reasoning to _problems you are likely to encounter in your research._"
   ]
  },
  {
   "cell_type": "markdown",
   "metadata": {
    "slideshow": {
     "slide_type": "slide"
    }
   },
   "source": [
    "This means that:\n",
    "\n",
    "* We will focus on _how to think about_ data analysis as much as how to execute it.\n",
    "\n",
    "* It's perfectly fine to use this class to advance your current research project. (Or not.)"
   ]
  },
  {
   "cell_type": "markdown",
   "metadata": {
    "slideshow": {
     "slide_type": "slide"
    }
   },
   "source": [
    "### What we'll do in class\n",
    "\n",
    "* lecture\n",
    "* *active* learning exercises\n",
    "* tutorials\n",
    "\n",
    "Exercises primarily involve thinking and scribbling.\n",
    "\n",
    "Tutorials are longer problems involving computer work.\n",
    "\n",
    "Both will be done in pairs/groups."
   ]
  },
  {
   "cell_type": "markdown",
   "metadata": {
    "slideshow": {
     "slide_type": "slide"
    }
   },
   "source": [
    "### What you'll do outside of class\n",
    "\n",
    "* Homework assignments\n",
    "* Final project\n",
    "\n",
    "Homeworks will be set weekly for the first 7-8 weeks.\n",
    "\n",
    "Projects will involve a short presentation in the final week of class and a report due at the end of finals week."
   ]
  },
  {
   "cell_type": "markdown",
   "metadata": {
    "slideshow": {
     "slide_type": "slide"
    }
   },
   "source": [
    "### Grading\n",
    "\n",
    "1. Class participation: N%\n",
    "2. Homework assignments: N%\n",
    "3. Final project: N%"
   ]
  },
  {
   "cell_type": "markdown",
   "metadata": {
    "slideshow": {
     "slide_type": "slide"
    }
   },
   "source": [
    "### Exhortations\n",
    "\n",
    "* Be in class\n",
    "* Do the work\n",
    "\n",
    "You will not learn or retain nearly as much otherwise."
   ]
  },
  {
   "cell_type": "markdown",
   "metadata": {
    "slideshow": {
     "slide_type": "slide"
    }
   },
   "source": [
    "### Classroom climate\n",
    "\n",
    "We have some guidelines for keeping interactions positive and productive. Read them over [here](../doc/RulesOfEngagement.md). In short:\n",
    "\n",
    "* Please don't use electronic devices during lecture.\n",
    "* Questions are good.\n",
    "* Be nice."
   ]
  },
  {
   "cell_type": "markdown",
   "metadata": {
    "slideshow": {
     "slide_type": "slide"
    }
   },
   "source": [
    "## How it works\n",
    "\n",
    "All of our course materials are hosted on the public web by GitHub.\n",
    "\n",
    "https://github.com/KIPAC/StatisticalMethods\n",
    "\n",
    "Let's have a quick look there."
   ]
  },
  {
   "cell_type": "markdown",
   "metadata": {
    "slideshow": {
     "slide_type": "notes"
    }
   },
   "source": [
    "Note that the website displays a file listing (including subfolders) and a README file for the current folder."
   ]
  },
  {
   "cell_type": "markdown",
   "metadata": {
    "slideshow": {
     "slide_type": "slide"
    }
   },
   "source": [
    "Note the helpful \"Information\" links in the top-level README.\n",
    "\n",
    "The easiest way to find lecture notes, tutorials, etc. is through the [schedule](../doc/Schedule.md) document."
   ]
  },
  {
   "cell_type": "markdown",
   "metadata": {
    "slideshow": {
     "slide_type": "slide"
    }
   },
   "source": [
    "Clicking the links here will display various *notebooks* in a non-interactive setting in your browser.\n",
    "\n",
    "To edit and run code in the notebooks, which we will do in the tutorials, you need to (optionally) fork the repository and (definitely) clone it to your own machine. See the [Getting Started](../doc/GettingStarted.md) doc."
   ]
  },
  {
   "cell_type": "markdown",
   "metadata": {
    "slideshow": {
     "slide_type": "slide"
    }
   },
   "source": [
    "Homework and final projects will be distributed here (TBC!), but your solutions will be submitted to a separate, *private* repository visible only to those enrolled in the class. See [Information for Stanford Students](../doc/Stanford.md).\n",
    "\n",
    "For those not familiar with Git and GitHub, our first tutorial (next class) will step through this process."
   ]
  },
  {
   "cell_type": "markdown",
   "metadata": {
    "slideshow": {
     "slide_type": "slide"
    }
   },
   "source": [
    "## Exercise: What do you already know?\n",
    "\n",
    "**With your neighbor,**\n",
    "1. Briefly introduce yourselves and say what your research project/interests are.\n",
    "2. Jot down some notes encapsulating \"what you already know\" about statistical data analysis (purpose, methodology, ...). This is intentionally a vague question; most exercises later on will be more concrete.\n",
    "\n",
    "We'll re-convene in a few minutes to get an idea of the class's collective previous experience."
   ]
  },
  {
   "cell_type": "markdown",
   "metadata": {
    "slideshow": {
     "slide_type": "slide"
    }
   },
   "source": [
    "It would be cliche to now instruct you to forget everything you know... or think you know. Do so anyway (for the moment).\n",
    "\n",
    "We'll be starting from first principles."
   ]
  },
  {
   "cell_type": "markdown",
   "metadata": {
    "slideshow": {
     "slide_type": "slide"
    }
   },
   "source": [
    "## Some key ideas\n",
    "\n",
    "** i) All data we collect include some degree of randomness**"
   ]
  },
  {
   "cell_type": "markdown",
   "metadata": {
    "slideshow": {
     "slide_type": "fragment"
    }
   },
   "source": [
    "** ii) Any conclusions we draw must therefore incorporate uncertainty**"
   ]
  },
  {
   "cell_type": "markdown",
   "metadata": {
    "slideshow": {
     "slide_type": "fragment"
    }
   },
   "source": [
    "This means we should describe both the data and conclusions in the language of mathematical probability."
   ]
  },
  {
   "cell_type": "markdown",
   "metadata": {
    "slideshow": {
     "slide_type": "slide"
    }
   },
   "source": [
    "Our *conclusion* will take the form: the probability that something is true in light of (given) the data we collected.\n",
    "\n",
    "$p(\\mathrm{thing}|\\mathrm{data})$"
   ]
  },
  {
   "cell_type": "markdown",
   "metadata": {
    "slideshow": {
     "slide_type": "fragment"
    }
   },
   "source": [
    "By the basic laws of probability, this can be written\n",
    "\n",
    "$p(\\mathrm{thing}|\\mathrm{data}) = \\frac{p(\\mathrm{data}|\\mathrm{thing}) p(\\mathrm{thing})}{p(\\mathrm{data})}$"
   ]
  },
  {
   "cell_type": "markdown",
   "metadata": {
    "slideshow": {
     "slide_type": "slide"
    }
   },
   "source": [
    "We'll unpack this much more later, but importantly it means that\n",
    "\n",
    "**iii) There is a correct answer**\n",
    "\n",
    "Just like in physics, the theory tells us the solution. The challenge is in *evaluating it*."
   ]
  },
  {
   "cell_type": "markdown",
   "metadata": {
    "slideshow": {
     "slide_type": "slide"
    }
   },
   "source": [
    "Within this framework,\n",
    "\n",
    "**iv) Data are constants**\n",
    "\n",
    "Even though they are generated randomly by the Universe, *data that we have already collected are fixed numbers*.\n",
    "\n",
    "Much of our job boils down to building a model that predicts (probabilistically) what data we might have gotten."
   ]
  },
  {
   "cell_type": "markdown",
   "metadata": {
    "collapsed": true,
    "slideshow": {
     "slide_type": "slide"
    }
   },
   "source": [
    "In the coming classes, we will cover\n",
    "1. fundamentals of probability theory (a brief review)\n",
    "2. Bayesian analysis, and how it relates to other approaches\n",
    "3. algorithmic tools used for Bayesian inference\n",
    "4. advanced modeling strategies\n",
    "5. ways to evaluate and compare models\n",
    "6. other random topics, as time permits"
   ]
  }
 ],
 "metadata": {
  "celltoolbar": "Slideshow",
  "kernelspec": {
   "display_name": "Python [default]",
   "language": "python",
   "name": "python2"
  },
  "language_info": {
   "codemirror_mode": {
    "name": "ipython",
    "version": 2
   },
   "file_extension": ".py",
   "mimetype": "text/x-python",
   "name": "python",
   "nbconvert_exporter": "python",
   "pygments_lexer": "ipython2",
   "version": "2.7.12"
  },
  "livereveal": {
   "scroll": true,
   "start_slideshow_at": "selected"
  }
 },
 "nbformat": 4,
 "nbformat_minor": 1
}
