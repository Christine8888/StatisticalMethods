{
 "cells": [
  {
   "cell_type": "markdown",
   "metadata": {},
   "source": [
    "# PHYS366: Statistical Methods in Astrophysics\n",
    "\n",
    "\n",
    "# Lesson 1: Exploring Data"
   ]
  },
  {
   "cell_type": "markdown",
   "metadata": {},
   "source": [
    "### Goals for this session:\n",
    "\n",
    "* Familiarize ourselves with 3 types of astronomical data: images, object catalogs, and summarized measurements\n",
    "* Build a generative model, and simulate some data with it \n",
    "\n",
    "#### Related reading:\n",
    "Ivezic Chapter 1, sections 1.1, 1.2, 1.4, 1.5"
   ]
  },
  {
   "cell_type": "markdown",
   "metadata": {
    "collapsed": true
   },
   "source": [
    "# What is \"data\"? \n",
    "\n",
    "* [Let's think a bit about this.](DataInScience.ipynb)"
   ]
  },
  {
   "cell_type": "markdown",
   "metadata": {
    "collapsed": true
   },
   "source": [
    "# Example 1: X-ray Image\n",
    "\n",
    "Telescopes have cameras that record images.\n",
    "\n",
    "* [Let's take a look at an image from XMM]()\n",
    "\n",
    "\n",
    "* [Summary statistics give us a better picture of what is going on]()\n"
   ]
  },
  {
   "cell_type": "markdown",
   "metadata": {},
   "source": [
    "# Example 2: SDSS Catalog\n",
    "\n",
    "Images get processed into automated measurements. \n",
    "\n",
    "* [First let's take a look at some SDSS galaxy measurements]()\n",
    "\n",
    "\n",
    "* [Let's look at the relationship between *observed* and *intrinsic* galaxy properties in more detail.](../examples/SDSScatalog/GalaxySizes.ipynb)"
   ]
  },
  {
   "cell_type": "markdown",
   "metadata": {
    "collapsed": true
   },
   "source": [
    "# Example 3: Cepheid Measurements"
   ]
  },
  {
   "cell_type": "code",
   "execution_count": null,
   "metadata": {
    "collapsed": true
   },
   "outputs": [],
   "source": []
  }
 ],
 "metadata": {
  "kernelspec": {
   "display_name": "Python 2",
   "language": "python",
   "name": "python2"
  },
  "language_info": {
   "codemirror_mode": {
    "name": "ipython",
    "version": 2
   },
   "file_extension": ".py",
   "mimetype": "text/x-python",
   "name": "python",
   "nbconvert_exporter": "python",
   "pygments_lexer": "ipython2",
   "version": "2.7.10"
  }
 },
 "nbformat": 4,
 "nbformat_minor": 0
}
