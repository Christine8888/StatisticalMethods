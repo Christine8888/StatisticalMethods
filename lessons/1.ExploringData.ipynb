{
 "cells": [
  {
   "cell_type": "markdown",
   "metadata": {},
   "source": [
    "# PHYS366: Statistical Methods in Astrophysics\n",
    "\n",
    "\n",
    "# Lesson 1: Exploring Data"
   ]
  },
  {
   "cell_type": "markdown",
   "metadata": {},
   "source": [
    "### Goals for this session:\n",
    "\n",
    "* ... \n",
    "* ...\n",
    "* ...\n",
    "\n",
    "#### Related reading:"
   ]
  },
  {
   "cell_type": "code",
   "execution_count": null,
   "metadata": {
    "collapsed": true
   },
   "outputs": [],
   "source": []
  },
  {
   "cell_type": "code",
   "execution_count": null,
   "metadata": {
    "collapsed": true
   },
   "outputs": [],
   "source": []
  },
  {
   "cell_type": "code",
   "execution_count": null,
   "metadata": {
    "collapsed": true
   },
   "outputs": [],
   "source": []
  },
  {
   "cell_type": "code",
   "execution_count": null,
   "metadata": {
    "collapsed": true
   },
   "outputs": [],
   "source": []
  },
  {
   "cell_type": "markdown",
   "metadata": {},
   "source": [
    "# SDSS Catalog\n",
    "\n",
    "Telescopes - images - automated measurements. \n",
    "\n",
    "[Let's take a look at some SDSS galaxy measurements]()\n",
    "\n",
    "etc.\n",
    "\n",
    "* Each galaxy's measurements come with \"error bars\" providing information about how uncertain we should be about each property of each galaxy\n",
    "* This means that the distribution of galaxy properties as plotted is not the same as the underlying distribution\n",
    "\n",
    "[Let's look at the relationship between *observed* and *intrinsic* galaxy properties in more detail.](../examples/SDSScatalog/GalaxySizes.ipynb)"
   ]
  },
  {
   "cell_type": "code",
   "execution_count": null,
   "metadata": {
    "collapsed": true
   },
   "outputs": [],
   "source": []
  }
 ],
 "metadata": {
  "kernelspec": {
   "display_name": "Python 2",
   "language": "python",
   "name": "python2"
  },
  "language_info": {
   "codemirror_mode": {
    "name": "ipython",
    "version": 2
   },
   "file_extension": ".py",
   "mimetype": "text/x-python",
   "name": "python",
   "nbconvert_exporter": "python",
   "pygments_lexer": "ipython2",
   "version": "2.7.10"
  }
 },
 "nbformat": 4,
 "nbformat_minor": 0
}
