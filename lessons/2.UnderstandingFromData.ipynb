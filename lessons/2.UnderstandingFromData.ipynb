{
 "cells": [
  {
   "cell_type": "markdown",
   "metadata": {},
   "source": [
    "# PHYS366: Statistical Methods in Astrophysics\n",
    "\n",
    "\n",
    "# Lesson 2: Understanding From Data"
   ]
  },
  {
   "cell_type": "markdown",
   "metadata": {},
   "source": [
    "### Goals for this session:\n",
    "\n",
    "* Be able to describe the Bayesian view of models, parameters and uncertainty\n",
    "\n",
    "* Know how to set up and perform simple Bayesian inferences, including the *assignment* of probability distributions \n",
    "\n",
    "* Be able to draw simple PGMs and understand their connection to probability expressions\n",
    "\n",
    "#### Related reading: \n",
    "\n",
    "* MacKay Chapter 2, sections 2.1, 2.1, 2.3, and Chapter 3, sections 3.1, 3.2\n",
    "* Ivezic Chapter 3, sections 3.1, 3.3 and Chapter 5, sections 5.1, 5.2, 5.3"
   ]
  },
  {
   "cell_type": "markdown",
   "metadata": {},
   "source": [
    "## Generative Models and Posterior Inferences\n",
    "\n",
    "* Be able to describe the Bayesian view of models, parameters and uncertainty\n",
    "\n",
    "Recap: We explored 3 datasets. Discuss properties, and hypotheses generated.\n",
    "Concept of a model, with parameters, as a means to gain *understanding.* Models predict data.  \n",
    "\n",
    "Uncertainty encoded by probability distributions. Sampling distribution, likelihood. Return to N galaxies generative model, look at PDFs involved. Conditional dependence of data on parameters. Posterior PDF as the result of a statistical inference. Example: parameters of galaxy size distribution. Relationship between posterior and sampling distribution, priors. Learning. \n",
    "\n",
    "Revive PGMs as illustration tool. PGMs as representations of *joint PDFs.* \n",
    "Show factorisation, discuss meaning of posterior PDF. Probability being used to quantify degree of belief."
   ]
  },
  {
   "cell_type": "markdown",
   "metadata": {},
   "source": [
    "## Probability\n",
    "\n",
    "Refresher on basic probability theory.\n",
    "\n",
    "    Activity: predict-test-discuss the probability of guilt in some court case example\n",
    "\n",
    "Concept: data and parameters as objects that have probability distrbutions, that quantify our state of knowledge of them."
   ]
  },
  {
   "cell_type": "markdown",
   "metadata": {},
   "source": [
    "## Example: X-ray Cluster Modeling\n",
    "\n",
    "* Know how to set up and perform simple Bayesian inferences, including the *assignment* of probability distributions. Worked example: XrayImage. \n",
    "\n",
    "Writing down likelihood functions based on assumptions about the data. Independent data points (uncorrelated pixels). \"Prior over datasets.\"\n",
    "\n",
    "Be able to derive the posterior PDF given a likelihood and a prior, and understand what the prior PDF represents and what is involved in assigning it. "
   ]
  },
  {
   "cell_type": "markdown",
   "metadata": {},
   "source": [
    "## Assigning Priors\n",
    "\n",
    "Noninformative priors (from invariance, maximum entropy).  \n",
    "\n",
    "    Activity: think-pair-share the volume fraction of the outer shell of a uniform prior in N dimensions \n",
    "\n",
    "Informative priors: from measurements, and subjectively. Issues with this. \n",
    "\n",
    "Symmetric Bayesian view of parameters and data. Frequentist alternative. "
   ]
  },
  {
   "cell_type": "markdown",
   "metadata": {},
   "source": [
    "## Example: The Cepheid Period-Luminosity Relation\n",
    "\n",
    "    Activity: think-pair-share the derivation of the straight line likelihood, having just seen the XrayImage one.\n",
    "\n",
    "PDF characterisation in data analysis: analytic, or simple gridding/tabulation. Straight line example. Posterior inferences as integrals. Marginalisation. Extensible for homework.\n",
    "\n",
    "Visualize and summarize PDFs in various ways. Point estimates, credible intervals, and their meaning. Delta chisq. Corner plots."
   ]
  }
 ],
 "metadata": {
  "kernelspec": {
   "display_name": "Python 2",
   "language": "python",
   "name": "python2"
  },
  "language_info": {
   "codemirror_mode": {
    "name": "ipython",
    "version": 2
   },
   "file_extension": ".py",
   "mimetype": "text/x-python",
   "name": "python",
   "nbconvert_exporter": "python",
   "pygments_lexer": "ipython2",
   "version": "2.7.10"
  }
 },
 "nbformat": 4,
 "nbformat_minor": 0
}
