{
 "cells": [
  {
   "cell_type": "markdown",
   "metadata": {},
   "source": [
    "# PHYS366: Statistical Methods in Astrophysics\n",
    "\n",
    "\n",
    "# Lesson 2: Understanding From Data"
   ]
  },
  {
   "cell_type": "markdown",
   "metadata": {},
   "source": [
    "### Goals for this session:\n",
    "\n",
    "* Be able to describe the Bayesian view of models, parameters and uncertainty\n",
    "\n",
    "* Know how to set up and perform simple Bayesian inferences, including the *assignment* of probability distributions \n",
    "\n",
    "* Be able to draw simple PGMs and understand their connection to probability expressions\n",
    "\n",
    "#### Related reading: \n",
    "\n",
    "* MacKay Chapter 2, sections 2.1, 2.1, 2.3, and Chapter 3, sections 3.1, 3.2\n",
    "* Ivezic Chapter 3, sections 3.1, 3.3 and Chapter 5, sections 5.1, 5.2, 5.3"
   ]
  },
  {
   "cell_type": "markdown",
   "metadata": {},
   "source": [
    "## Generative Models and Posterior Inferences\n",
    "\n",
    "A good way to start understanding a dataset is to try to recreate it.\n",
    "\n",
    "\n",
    "* [Let's look at another *forward model*, with the X-ray Image dataset](../examples/XrayImage/Modeling.ipynb)\n",
    "\n",
    "\n",
    "Now, let's look at the *inverse* problem, and learn the model parameters from the data.\n",
    "\n",
    "\n",
    "* [A short diversion about models in science](../notes/Models.ipynb)\n",
    "\n",
    "\n",
    "* [Inferring cluster model parameters from the X-ray Image](../examples/XrayImage/Inference.ipynb) "
   ]
  },
  {
   "cell_type": "markdown",
   "metadata": {},
   "source": [
    "## Probability\n",
    "\n",
    "* In Bayesian analysis we use probability to quantify *degree of belief.*\n",
    "\n",
    "\n",
    "* In this framework, both data and parameters have probability distributions, that quantify our state of knowledge of them.\n",
    "\n",
    "\n",
    "* [Let's remind ourselves of the rules of probability theory](../notes/ProbTheory.ipynb)."
   ]
  },
  {
   "cell_type": "markdown",
   "metadata": {},
   "source": [
    "## Example: The Cepheid Period-Luminosity Relation\n",
    "\n",
    "* Let's get some more practice in *setting up* a Bayesian inference.\n",
    "\n",
    "\n",
    "* This boils down to two tasks: 1) assigning probability distributions (for both the data and the parameters) and 2) doing integrals. \n",
    "\n",
    "\n",
    "* [Let's work through a simple model for some of our Cepheid data](../examples/Cepheids/PeriodLuminosity.ipynb). "
   ]
  },
  {
   "cell_type": "markdown",
   "metadata": {},
   "source": [
    "## Assigning Priors\n",
    "\n",
    "In the previous examples, we assigned various prior PDFs for our model parameters.\n",
    "\n",
    "* [Let's look at some general principles, and some health warnings, about priors](../notes/Priors.ipynb)"
   ]
  },
  {
   "cell_type": "markdown",
   "metadata": {},
   "source": [
    "## Recap\n",
    "\n",
    "* [What did we learn?](../notes/Inference.ipynb)"
   ]
  },
  {
   "cell_type": "code",
   "execution_count": null,
   "metadata": {
    "collapsed": true
   },
   "outputs": [],
   "source": []
  }
 ],
 "metadata": {
  "kernelspec": {
   "display_name": "Python 2",
   "language": "python",
   "name": "python2"
  },
  "language_info": {
   "codemirror_mode": {
    "name": "ipython",
    "version": 2
   },
   "file_extension": ".py",
   "mimetype": "text/x-python",
   "name": "python",
   "nbconvert_exporter": "python",
   "pygments_lexer": "ipython2",
   "version": "2.7.10"
  }
 },
 "nbformat": 4,
 "nbformat_minor": 0
}
