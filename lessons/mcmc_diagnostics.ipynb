{
 "cells": [
  {
   "cell_type": "markdown",
   "metadata": {
    "slideshow": {
     "slide_type": "slide"
    }
   },
   "source": [
    "# MCMC Diagnostics\n",
    "\n",
    "Goals:\n",
    "* Learn how to determine whether a Markov chain can reliably be used for inference"
   ]
  },
  {
   "cell_type": "markdown",
   "metadata": {
    "slideshow": {
     "slide_type": "slide"
    }
   },
   "source": [
    "## References\n",
    "\n",
    "todo"
   ]
  },
  {
   "cell_type": "markdown",
   "metadata": {
    "slideshow": {
     "slide_type": "slide"
    }
   },
   "source": [
    "## Diagnostics\n",
    "\n",
    "To be useful to us, a chain must\n",
    "1. have converged to the posterior distribution\n",
    "2. provide enough effectively independent samples to characterize it"
   ]
  },
  {
   "cell_type": "markdown",
   "metadata": {
    "slideshow": {
     "slide_type": "slide"
    }
   },
   "source": [
    "What would make us confident of convergence?\n",
    "* Is the chain stationary?\n",
    "* Do independent chains started from overdispersed positions find the same solution?"
   ]
  },
  {
   "cell_type": "markdown",
   "metadata": {
    "slideshow": {
     "slide_type": "slide"
    }
   },
   "source": [
    "How do we guess the number of independent samples?\n",
    "* Check how well the chain appears to exploring the distribution.\n",
    "* Compare the autocorrelation length scale with the chain length."
   ]
  },
  {
   "cell_type": "markdown",
   "metadata": {
    "slideshow": {
     "slide_type": "slide"
    }
   },
   "source": [
    "There are numerical estimates that can help with this, but **they are not a substitute for human visual inspection**."
   ]
  },
  {
   "cell_type": "markdown",
   "metadata": {
    "slideshow": {
     "slide_type": "slide"
    }
   },
   "source": [
    "### Common misuses of/misconceptions about convergence\n",
    "\n",
    "Convergence does **not** mean\n",
    "* that parameters are \"well constrained\" by the data\n",
    "* that the autocorrelation length is small\n",
    "* that there are not occasional excursions beyond a locus in parameter space"
   ]
  },
  {
   "cell_type": "markdown",
   "metadata": {
    "slideshow": {
     "slide_type": "slide"
    }
   },
   "source": [
    "### Convergence tests\n",
    "* Inspection! There is no substitute.\n",
    "* Gelman-Rubin statistic"
   ]
  },
  {
   "cell_type": "markdown",
   "metadata": {
    "slideshow": {
     "slide_type": "slide"
    }
   },
   "source": [
    "### Convergence tests - inspection\n",
    "\n",
    "<table>\n",
    "    <tr>\n",
    "        <td><img src=\"graphics/mc1_sandbox_ab.png\" width=100%></td>\n",
    "    </tr>\n",
    "</table>"
   ]
  },
  {
   "cell_type": "markdown",
   "metadata": {
    "slideshow": {
     "slide_type": "slide"
    }
   },
   "source": [
    "### Convergence tests - inspection\n",
    "* How stationary does each sequence appear? \n",
    "* Are all chains sampling the same PDF?\n",
    "<table>\n",
    "    <tr>\n",
    "        <td><img src=\"graphics/mc1_sandbox_a.png\" width=100%></td>\n",
    "    </tr>\n",
    "</table>"
   ]
  },
  {
   "cell_type": "markdown",
   "metadata": {
    "slideshow": {
     "slide_type": "slide"
    }
   },
   "source": [
    "### Convergence tests - inspection\n",
    "\n",
    "<table>\n",
    "    <tr>\n",
    "        <td><img src=\"graphics/mc1_sandbox_b.png\" width=100%></td>\n",
    "    </tr>\n",
    "</table>\n",
    "\n",
    "Conservatively, we might remove the first $\\sim2000$ steps based on this."
   ]
  },
  {
   "cell_type": "markdown",
   "metadata": {
    "slideshow": {
     "slide_type": "slide"
    }
   },
   "source": [
    "### Convergence tests - Gelman-Rubin statistic\n",
    "\n",
    "This approach tests the similarlity of independent chains intended to sample the same PDF. To be meaningful, they should start from different locations and burn-in should be removed.\n",
    "\n",
    "For a given parameter, $\\theta$, the $R$ statistic compares the variance across chains with the variance within a chain. Intuitively, if the chains are random-walking in very different places, i.e. not sampling the same distribution, $R$ will be large.\n",
    "\n",
    "We'd like to see $R\\approx 1$ (e.g. $R<1.1$ is often used)."
   ]
  },
  {
   "cell_type": "markdown",
   "metadata": {
    "slideshow": {
     "slide_type": "slide"
    }
   },
   "source": [
    "### Convergence tests - Gelman-Rubin statistic\n",
    "In detail, given chains $J=1,\\ldots,m$, each of length $n$,\n",
    "\n",
    "* Let $B=\\frac{n}{m-1} \\sum_j \\left(\\bar{\\theta}_j - \\bar{\\theta}\\right)^2$, where $\\bar{\\theta_j}$ is the average $\\theta$ for chain $j$ and $\\bar{\\theta}$ is the global average. This is proportional to the variance of the individual-chain averages for $\\theta$.\n",
    "\n",
    "* Let $W=\\frac{1}{m}\\sum_j s_j^2$, where $s_j^2$ is the estimated variance of $\\theta$ within chain $j$. This is the average of the individual-chain variances for $\\theta$.\n",
    "\n",
    "* Let $V=\\frac{n-1}{n}W + \\frac{1}{n}B$. This is an estimate for the overall variance of $\\theta$."
   ]
  },
  {
   "cell_type": "markdown",
   "metadata": {
    "slideshow": {
     "slide_type": "slide"
    }
   },
   "source": [
    "### Convergence tests - Gelman-Rubin statistic\n",
    "\n",
    "Finally, $R=\\sqrt{\\frac{V}{W}}$.\n",
    "\n",
    "Note that this calculation can also be used to track convergence of combinations of parameters, or anything else derived from them."
   ]
  },
  {
   "cell_type": "markdown",
   "metadata": {
    "slideshow": {
     "slide_type": "slide"
    }
   },
   "source": [
    "### Correlation tests\n",
    "* Inspection! Again, no substitute.\n",
    "* Autocorrelation of parameters"
   ]
  },
  {
   "cell_type": "markdown",
   "metadata": {
    "slideshow": {
     "slide_type": "slide"
    }
   },
   "source": [
    "### Correlation tests - inspection\n",
    "Do subsequent samples look particularly independent?\n",
    "<table>\n",
    "    <tr>\n",
    "        <td><img src=\"graphics/mc1_sandbox_a.png\" width=100%></td>\n",
    "    </tr>\n",
    "</table>"
   ]
  },
  {
   "cell_type": "markdown",
   "metadata": {
    "slideshow": {
     "slide_type": "slide"
    }
   },
   "source": [
    "### Correlation tests - inspection\n",
    "The *autocorrelation* of a sequence, as a function of lag, $k$, is defined thusly:\n",
    "\n",
    "$\\rho_k = \\frac{\\sum_{i=1}^{n-k}\\left(\\theta_{i} - \\bar{\\theta}\\right)\\left(\\theta_{i+k} - \\bar{\\theta}\\right)}{\\sum_{i=1}^{n-k}\\left(\\theta_{i} - \\bar{\\theta}\\right)^2} = \\frac{\\mathrm{Cov}_i\\left(\\theta_i,\\theta_{i+k}\\right)}{\\mathrm{Var}(\\theta)}$\n",
    "\n",
    "The larger lag one needs to get a small autocorrelation, the less informative individual samples are.\n",
    "\n",
    "The `pandas` function `autocorrelation_plot()` may be useful for this."
   ]
  },
  {
   "cell_type": "markdown",
   "metadata": {
    "slideshow": {
     "slide_type": "slide"
    }
   },
   "source": [
    "### Correlation tests\n",
    "<table>\n",
    "    <tr>\n",
    "        <td><img src=\"graphics/mc1_sandbox_acf-a.png\" width=100%></td>\n",
    "    </tr>\n",
    "</table>"
   ]
  },
  {
   "cell_type": "markdown",
   "metadata": {
    "slideshow": {
     "slide_type": "slide"
    }
   },
   "source": [
    "### Correlation tests\n",
    "<table>\n",
    "    <tr>\n",
    "        <td><img src=\"graphics/mc1_sandbox_acf-b.png\" width=100%></td>\n",
    "    </tr>\n",
    "</table>\n",
    "\n",
    "We would be justified in thinning the chains by a factor of $\\sim200$, apparently!"
   ]
  },
  {
   "cell_type": "markdown",
   "metadata": {
    "slideshow": {
     "slide_type": "slide"
    }
   },
   "source": [
    "## Bonus numerical making-your-life-easier exercise: convergence\n",
    "\n",
    "Write some code to perform the Gelman-Rubin convergence test. Try it out on\n",
    "\n",
    "1. multiple chains from the sandbox notebook. Fiddle with the sampler to get chains that do/do not display nice convergence after e.g. 5000 steps.\n",
    "\n",
    "2. multiple \"chains\" produced from independent sampling, e.g. from the inverse-transform or rejection examples above or one of the examples in previous chunks.\n",
    "\n",
    "You'll be expected to test convergence from now on, so having a function to do so will be helpful.\n",
    "\n",
    "MegaBonus: modify your code to compute the $R$ statistic for the eigenvectors of the covariance of the posterior (yikes). This can be informative when there are strong parameter degeneracies, as in the convergence example above. The eigenvectors can be estimated efficiently from a chain using singular value decomposition."
   ]
  },
  {
   "cell_type": "code",
   "execution_count": null,
   "metadata": {
    "collapsed": true
   },
   "outputs": [],
   "source": []
  }
 ],
 "metadata": {
  "anaconda-cloud": {},
  "celltoolbar": "Slideshow",
  "kernelspec": {
   "display_name": "Python [default]",
   "language": "python",
   "name": "python2"
  },
  "language_info": {
   "codemirror_mode": {
    "name": "ipython",
    "version": 2
   },
   "file_extension": ".py",
   "mimetype": "text/x-python",
   "name": "python",
   "nbconvert_exporter": "python",
   "pygments_lexer": "ipython2",
   "version": "2.7.12"
  },
  "livereveal": {
   "scroll": true,
   "start_slideshow_at": "selected"
  }
 },
 "nbformat": 4,
 "nbformat_minor": 1
}
