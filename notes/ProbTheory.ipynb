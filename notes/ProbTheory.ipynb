{
 "cells": [
  {
   "cell_type": "markdown",
   "metadata": {},
   "source": [
    "# Probability Theory\n",
    "\n",
    "\n",
    "* What we need is a *mathematical description of uncertainty*.\n",
    "\n",
    "\n",
    "* Probability distributions make intuitive sense for *data*, because they encode *what might have been.*\n",
    "\n",
    "\n",
    "* How is it that they can also be used to quantify *degree of belief* in a model, or parameter value?"
   ]
  },
  {
   "cell_type": "markdown",
   "metadata": {},
   "source": [
    "## The Rules of Probability Theory\n",
    "\n",
    "Cox Axioms. Plausibilities. If the model is true, it could take this value with this probability, or that one with this probability, etc.\n",
    "\n",
    "Marginalization. Conditional probability"
   ]
  },
  {
   "cell_type": "markdown",
   "metadata": {},
   "source": [
    "## Example: Probability in a Court of Law\n",
    "\n",
    "Plausibility of guilt. \n",
    "\n",
    "Q: predict-test-discuss the probability of guilt in some court case example"
   ]
  },
  {
   "cell_type": "markdown",
   "metadata": {},
   "source": [
    "## Belief, Odds and Acceptance\n",
    "\n",
    "Degree of belief in proposition quantified as odds you would accept. \n",
    "\n",
    "Frequentism, where only the data have a probability distribution, puts emphasis on datasets that could have been taken but were not.\n",
    "\n",
    "Bayesian analysis puts emphasis on understanding the data you have, and gaining understanding from that data. "
   ]
  }
 ],
 "metadata": {
  "kernelspec": {
   "display_name": "Python 2",
   "language": "python",
   "name": "python2"
  },
  "language_info": {
   "codemirror_mode": {
    "name": "ipython",
    "version": 2
   },
   "file_extension": ".py",
   "mimetype": "text/x-python",
   "name": "python",
   "nbconvert_exporter": "python",
   "pygments_lexer": "ipython2",
   "version": "2.7.10"
  }
 },
 "nbformat": 4,
 "nbformat_minor": 0
}
