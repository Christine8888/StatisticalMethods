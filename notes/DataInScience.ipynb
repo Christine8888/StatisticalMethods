{
 "cells": [
  {
   "cell_type": "markdown",
   "metadata": {},
   "source": [
    "# Data in Science\n",
    "\n",
    "This first lesson is partly about the question: \n",
    "\n",
    "    What is data?\n",
    "\n",
    "and this course is mostly about the question:\n",
    "\n",
    "    How should we think about data in science?"
   ]
  },
  {
   "cell_type": "markdown",
   "metadata": {},
   "source": [
    "### Science\n",
    "\n",
    "In astronomy, the typical cycle of actions in a scientific investigation is something like:"
   ]
  },
  {
   "cell_type": "markdown",
   "metadata": {},
   "source": [
    "* propose\n",
    "* observe sky, collect data\n",
    "* \"reduce\" data\n",
    "* **explore and summarize reduced data,** be surprised, discuss\n",
    "* **hypothesize**\n",
    "* **test**\n",
    "* **interpret,** conclude, speculate\n",
    "* report\n",
    "* propose"
   ]
  },
  {
   "cell_type": "markdown",
   "metadata": {},
   "source": [
    "<br>\n",
    "<br>\n",
    "This course concerns the parts of the investigation in **bold**.\n",
    "\n",
    "Data analysis is _central_ to the scientific process: statistical inference is the mathematical formalization of _learning_.\n",
    "\n",
    "The formalism is important: that middle part of the cycle is potentially very messy."
   ]
  }
 ],
 "metadata": {
  "kernelspec": {
   "display_name": "Python 2",
   "language": "python",
   "name": "python2"
  },
  "language_info": {
   "codemirror_mode": {
    "name": "ipython",
    "version": 2
   },
   "file_extension": ".py",
   "mimetype": "text/x-python",
   "name": "python",
   "nbconvert_exporter": "python",
   "pygments_lexer": "ipython2",
   "version": "2.7.10"
  }
 },
 "nbformat": 4,
 "nbformat_minor": 0
}
